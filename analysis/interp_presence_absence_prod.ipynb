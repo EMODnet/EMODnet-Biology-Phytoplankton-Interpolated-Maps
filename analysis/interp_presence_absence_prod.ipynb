{
 "cells": [
  {
   "cell_type": "markdown",
   "metadata": {},
   "source": [
    "Perform the heatmap generation for all the CSV files provided by *Deltares* and create\n",
    "* figures showing the data positions and the heatmap (pseudo-color plot)\n",
    "* netCDF files (one per species) storing the heatmap.\n",
    "\n",
    "`doplot` can be turned to 'false' to avoid creating the figures."
   ]
  },
  {
   "cell_type": "code",
   "execution_count": 1,
   "metadata": {},
   "outputs": [
    {
     "data": {
      "text/plain": [
       "true"
      ]
     },
     "execution_count": 1,
     "metadata": {},
     "output_type": "execute_result"
    }
   ],
   "source": [
    "using DIVAnd\n",
    "using PyPlot\n",
    "using Proj4\n",
    "using DelimitedFiles\n",
    "using PyCall\n",
    "using Dates\n",
    "using NCDatasets\n",
    "include(\"../scripts/PhytoInterp.jl\")\n",
    "include(\"../scripts/PhytoInterpPlot.jl\")\n",
    "doplot = true"
   ]
  },
  {
   "cell_type": "markdown",
   "metadata": {},
   "source": [
    "## Packages for plotting"
   ]
  },
  {
   "cell_type": "code",
   "execution_count": 2,
   "metadata": {},
   "outputs": [
    {
     "data": {
      "text/plain": [
       "PyObject <cartopy.mpl.ticker.LatitudeFormatter object at 0x7f7a2286af90>"
      ]
     },
     "execution_count": 2,
     "metadata": {},
     "output_type": "execute_result"
    }
   ],
   "source": [
    "if doplot\n",
    "    ccrs = pyimport(\"cartopy.crs\")\n",
    "    gridliner = pyimport(\"cartopy.mpl.gridliner\")\n",
    "    cfeature = pyimport(\"cartopy.feature\")\n",
    "    mticker = pyimport(\"matplotlib.ticker\")\n",
    "    myproj = ccrs.PlateCarree()\n",
    "    coast = cfeature.GSHHSFeature(scale=\"full\");\n",
    "    mpl = pyimport(\"matplotlib\");\n",
    "    cartopyticker = pyimport(\"cartopy.mpl.ticker\")\n",
    "    lon_formatter = cartopyticker.LongitudeFormatter()\n",
    "    lat_formatter = cartopyticker.LatitudeFormatter()\n",
    "end "
   ]
  },
  {
   "cell_type": "markdown",
   "metadata": {},
   "source": [
    "## Files and directories"
   ]
  },
  {
   "cell_type": "code",
   "execution_count": 3,
   "metadata": {},
   "outputs": [
    {
     "name": "stderr",
     "output_type": "stream",
     "text": [
      "┌ Info: Working on 200 files\n",
      "└ @ Main In[3]:4\n"
     ]
    }
   ],
   "source": [
    "csvdir = \"/data/EMODnet/Biology/phytoplankton/csv/\"\n",
    "datadir = \"./data/\"\n",
    "datafilelist = readdir(csvdir);\n",
    "@info(\"Working on $(length(datafilelist)) files\");\n",
    "figdir = \"./figures/\"\n",
    "outputdir = \"../product/\"\n",
    "speciesname = \"Biddulphia_sinensis\"\n",
    "isdir(datadir) ? \" \" : mkpath(datadir)\n",
    "isdir(figdir) ? \" \" : mkpath(figdir);"
   ]
  },
  {
   "cell_type": "markdown",
   "metadata": {},
   "source": [
    "## Prepare mask\n",
    "### Interpolation grid"
   ]
  },
  {
   "cell_type": "code",
   "execution_count": 4,
   "metadata": {},
   "outputs": [
    {
     "data": {
      "text/plain": [
       "51.0:0.1:56.0"
      ]
     },
     "execution_count": 4,
     "metadata": {},
     "output_type": "execute_result"
    }
   ],
   "source": [
    "longrid = -2.:0.1:10.\n",
    "latgrid = 51.:0.1:56."
   ]
  },
  {
   "cell_type": "markdown",
   "metadata": {},
   "source": [
    "### Download file"
   ]
  },
  {
   "cell_type": "code",
   "execution_count": 5,
   "metadata": {},
   "outputs": [
    {
     "name": "stderr",
     "output_type": "stream",
     "text": [
      "┌ Info: Bathymetry file already downloaded\n",
      "└ @ Main In[5]:5\n"
     ]
    }
   ],
   "source": [
    "bathname = joinpath(datadir, \"gebco_30sec_4.nc\")\n",
    "if !isfile(bathname)\n",
    "    download(\"https://dox.ulg.ac.be/index.php/s/RSwm4HPHImdZoQP/download\", bathname)\n",
    "else\n",
    "    @info(\"Bathymetry file already downloaded\")\n",
    "end"
   ]
  },
  {
   "cell_type": "markdown",
   "metadata": {},
   "source": [
    "### Read bathymetry"
   ]
  },
  {
   "cell_type": "code",
   "execution_count": 6,
   "metadata": {},
   "outputs": [
    {
     "name": "stdout",
     "output_type": "stream",
     "text": [
      "size(b) = (121, 51)\n"
     ]
    }
   ],
   "source": [
    "bx, by, b = load_bath(bathname, true, longrid, latgrid)\n",
    "@show size(b)\n",
    "\n",
    "if doplot\n",
    "    plot_bathymetry(bx, by, b, joinpath(figdir, \"northsea_bathy\"))\n",
    "end"
   ]
  },
  {
   "cell_type": "markdown",
   "metadata": {},
   "source": [
    "### Metrics"
   ]
  },
  {
   "cell_type": "code",
   "execution_count": 7,
   "metadata": {},
   "outputs": [],
   "source": [
    "mask, (pm, pn),(xi, yi) = DIVAnd.DIVAnd_rectdom(longrid, latgrid);\n",
    "xi, yi, mask = DIVAnd.load_mask(bathname, true, longrid, latgrid, 0.0);\n",
    "xx, yy = ndgrid(xi, yi);"
   ]
  },
  {
   "cell_type": "code",
   "execution_count": 8,
   "metadata": {},
   "outputs": [],
   "source": [
    "if doplot\n",
    "    plot_mask(bx, by, mask, joinpath(figdir, \"northsea_mask\"))\n",
    "end"
   ]
  },
  {
   "cell_type": "markdown",
   "metadata": {},
   "source": [
    "## Main loop"
   ]
  },
  {
   "cell_type": "code",
   "execution_count": 9,
   "metadata": {},
   "outputs": [
    {
     "data": {
      "text/plain": [
       "\"./figures/\""
      ]
     },
     "execution_count": 9,
     "metadata": {},
     "output_type": "execute_result"
    }
   ],
   "source": [
    "datafilelist = [\"/data/EMODnet/Biology/phytoplankton/csv/Biddulphia sinensis-1995-2020.csv\"]\n",
    "figdir"
   ]
  },
  {
   "cell_type": "code",
   "execution_count": 24,
   "metadata": {},
   "outputs": [
    {
     "data": {
      "text/plain": [
       "plot_error (generic function with 3 methods)"
      ]
     },
     "execution_count": 24,
     "metadata": {},
     "output_type": "execute_result"
    }
   ],
   "source": [
    "include(\"../scripts/PhytoInterpPlot.jl\")"
   ]
  },
  {
   "cell_type": "code",
   "execution_count": 25,
   "metadata": {},
   "outputs": [
    {
     "name": "stderr",
     "output_type": "stream",
     "text": [
      "┌ Info: Working on Biddulphia sinensis\n",
      "└ @ Main In[25]:4\n",
      "┌ Info: Biddulphia_sinensis\n",
      "└ @ Main In[25]:5\n",
      "┌ Info: Plotting\n",
      "└ @ Main In[25]:16\n",
      "┌ Info: Presence data: 6911, absence data: 16818\n",
      "└ @ Main In[25]:24\n",
      "┌ Warning: Data array size (23729,) is larger then maximum 10000. Superobservations will be created. To avoid, increase nmax to the desired number of superobs\n",
      "└ @ DIVAnd /home/ctroupin/.julia/packages/DIVAnd/ZfEqh/src/DIVAnd_heatmap.jl:48\n"
     ]
    },
    {
     "name": "stdout",
     "output_type": "stream",
     "text": [
      "  1.703600 seconds (865.35 k allocations: 1.158 GiB, 3.96% gc time)\n",
      "  6.769677 seconds (617.27 k allocations: 4.722 GiB, 2.66% gc time)\n"
     ]
    },
    {
     "name": "stderr",
     "output_type": "stream",
     "text": [
      "┌ Warning: Data array size (16818,) is larger then maximum 10000. Superobservations will be created. To avoid, increase nmax to the desired number of superobs\n",
      "└ @ DIVAnd /home/ctroupin/.julia/packages/DIVAnd/ZfEqh/src/DIVAnd_heatmap.jl:48\n"
     ]
    },
    {
     "name": "stdout",
     "output_type": "stream",
     "text": [
      "  1.524629 seconds (636.48 k allocations: 1018.994 MiB, 2.90% gc time)\n"
     ]
    }
   ],
   "source": [
    "for datafile in datafilelist\n",
    "    speciesname = get_species_name(basename(datafile))\n",
    "    speciesslug = get_species_slug(basename(datafile))\n",
    "    @info(\"Working on $(speciesname)\")\n",
    "    @info(speciesslug)\n",
    "        \n",
    "    # Data reading\n",
    "    dates, lons, lats, occurs = read_data_phyto(joinpath(csvdir, datafile));\n",
    "    \n",
    "    # Conversion of coordinates\n",
    "    # We have to go from `EPSG:32361` to `WGS84`.         \n",
    "    lon, lat = transform_coords(lons, lats)\n",
    "    \n",
    "    # Plot presence/absence\n",
    "    if doplot\n",
    "        @info(\"Plotting\")\n",
    "        make_plot_presence_absence(lon, lat, occurs, \n",
    "            joinpath(figdir, \"$(speciesslug)_data_presence_absence.png\"))\n",
    "    end\n",
    "    \n",
    "    data_presence = occurs .== 1;\n",
    "    data_absence = .!(data_presence);\n",
    "    \n",
    "    @info(\"Presence data: $(sum(data_presence)), absence data: $(sum(data_absence))\")\n",
    "    \n",
    "    # Compute heatmap\n",
    "    inflation = ones(length(lon));\n",
    "    @time dens1, LHM, LCV, LSCV = DIVAnd_heatmap(mask, (pm,pn), (xx, yy), \n",
    "        (lon, lat), inflation, 0.1);\n",
    "    @time dens2, LHM, LCV, LSCV = DIVAnd_heatmap(mask, (pm,pn), (xx, yy), \n",
    "        (lon[data_presence], lat[data_presence]), inflation[data_presence], 0.1);\n",
    "    @time dens3, LHM, LCV, LSCV = DIVAnd_heatmap(mask, (pm,pn), (xx, yy), \n",
    "        (lon[data_absence], lat[data_absence]), inflation[data_absence], 0.1);\n",
    "    \n",
    "    if doplot\n",
    "        \n",
    "        plot_heatmap(longrid, latgrid, dens1, lon, lat, occurs,\n",
    "            \"$(speciesname): heatmap with 'presence' data points\", \n",
    "            joinpath(figdir, \"$(speciesslug)_heatmap_presence.png\"), 0., 1.)\n",
    "        \n",
    "        plot_heatmap(longrid, latgrid, dens2, lon, lat, occurs,\n",
    "            \"$(speciesname): heatmap with 'absence' data points\", \n",
    "            joinpath(figdir, \"$(speciesslug)_heatmap_absence.png\"), 0., 1.)\n",
    "        \n",
    "        plot_heatmap(longrid, latgrid, dens3, lon, lat, occurs,\n",
    "            \"$(speciesname): heatmap with all data points\", \n",
    "            joinpath(figdir, \"$(speciesslug)_heatmap_all.png\"), 0., 1.)\n",
    "        \n",
    "        plot_heatmap(longrid, latgrid, dens2 ./ (dens2.+dens3), lon, lat, occurs,\n",
    "            \"$(speciesname): normalised heatmap (presence/presence+absence)\", \n",
    "            joinpath(figdir, \"$(speciesslug)_heatmap_relative2.png\"), 0., 1.)\n",
    "    end\n",
    "    \n",
    "    # Write in netCDF\n",
    "    create_nc_results(joinpath(outputdir, \"$(speciesslug)_heatmap.nc\"), \n",
    "        longrid, latgrid, dens2 ./ (dens2 .+ dens3), speciesname);\n",
    " \n",
    "end"
   ]
  },
  {
   "cell_type": "code",
   "execution_count": null,
   "metadata": {},
   "outputs": [],
   "source": []
  }
 ],
 "metadata": {
  "@webio": {
   "lastCommId": null,
   "lastKernelId": null
  },
  "kernelspec": {
   "display_name": "Julia 1.4.1",
   "language": "julia",
   "name": "julia-1.4"
  },
  "language_info": {
   "file_extension": ".jl",
   "mimetype": "application/julia",
   "name": "julia",
   "version": "1.4.1"
  }
 },
 "nbformat": 4,
 "nbformat_minor": 2
}
