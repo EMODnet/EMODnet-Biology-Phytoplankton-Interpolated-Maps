{
 "cells": [
  {
   "cell_type": "markdown",
   "metadata": {},
   "source": [
    "Perform the heatmap generation for all the CSV files provided by *Deltares* and create\n",
    "* figures showing the data positions and the heatmap (pseudo-color plot)\n",
    "* netCDF files (one per species) storing the heatmap.\n",
    "\n",
    "`doplot` can be turned to 'false' to avoid creating the figures."
   ]
  },
  {
   "cell_type": "code",
   "execution_count": 13,
   "metadata": {},
   "outputs": [
    {
     "data": {
      "text/plain": [
       "false"
      ]
     },
     "execution_count": 13,
     "metadata": {},
     "output_type": "execute_result"
    }
   ],
   "source": [
    "using DIVAnd\n",
    "using PyPlot\n",
    "using Proj4\n",
    "using DelimitedFiles\n",
    "using PyCall\n",
    "using Dates\n",
    "using NCDatasets\n",
    "include(\"../scripts/PhytoInterp.jl\")\n",
    "include(\"../scripts/PhytoInterpPlot.jl\")\n",
    "doplot = true\n",
    "writenc = false "
   ]
  },
  {
   "cell_type": "markdown",
   "metadata": {},
   "source": [
    "## Packages for plotting"
   ]
  },
  {
   "cell_type": "code",
   "execution_count": 14,
   "metadata": {},
   "outputs": [
    {
     "data": {
      "text/plain": [
       "PyObject <cartopy.mpl.ticker.LatitudeFormatter object at 0x7f8f962ed190>"
      ]
     },
     "execution_count": 14,
     "metadata": {},
     "output_type": "execute_result"
    }
   ],
   "source": [
    "if doplot\n",
    "    ccrs = pyimport(\"cartopy.crs\")\n",
    "    gridliner = pyimport(\"cartopy.mpl.gridliner\")\n",
    "    cfeature = pyimport(\"cartopy.feature\")\n",
    "    mticker = pyimport(\"matplotlib.ticker\")\n",
    "    myproj = ccrs.PlateCarree()\n",
    "    coast = cfeature.GSHHSFeature(scale=\"full\");\n",
    "    mpl = pyimport(\"matplotlib\");\n",
    "    cartopyticker = pyimport(\"cartopy.mpl.ticker\")\n",
    "    lon_formatter = cartopyticker.LongitudeFormatter()\n",
    "    lat_formatter = cartopyticker.LatitudeFormatter()\n",
    "end "
   ]
  },
  {
   "cell_type": "markdown",
   "metadata": {},
   "source": [
    "## Files and directories"
   ]
  },
  {
   "cell_type": "code",
   "execution_count": 3,
   "metadata": {},
   "outputs": [
    {
     "name": "stderr",
     "output_type": "stream",
     "text": [
      "┌ Info: true\n",
      "└ @ Main In[3]:3\n"
     ]
    }
   ],
   "source": [
    "# csvdir = \"/data/EMODnet/Biology/phytoplankton/csv/\" # North Sea \n",
    "csvdir = \"/media/ctroupin/My Passport/data/EMODnet/Biology/phytoplankton/GreaterNorthSea/csv_files/\" #Greater North Sea\n",
    "@info(isdir(csvdir));"
   ]
  },
  {
   "cell_type": "code",
   "execution_count": 4,
   "metadata": {},
   "outputs": [
    {
     "name": "stderr",
     "output_type": "stream",
     "text": [
      "┌ Info: Working on 200 files\n",
      "└ @ Main In[4]:3\n"
     ]
    }
   ],
   "source": [
    "datadir = \"../data/\"\n",
    "datafilelist = readdir(csvdir);\n",
    "@info(\"Working on $(length(datafilelist)) files\");\n",
    "figdir = \"../product/figures/heatmap/greaterNorthSea/\" \n",
    "binfigdir = \"../product/figures/bins/greaterNorthSea/\"\n",
    "datafigdir = \"../product/figures/data/greaterNorthSea/\"\n",
    "outputdir = \"../product/netCDF/greaterNorthSea/Phytoplankton/V1/\"\n",
    "isdir(datadir) ? \" \" : mkpath(datadir)\n",
    "isdir(datafigdir) ? \" \" : mkpath(datafigdir)\n",
    "isdir(figdir) ? \" \" : mkpath(figdir);\n",
    "isdir(binfigdir) ? \" \" : mkpath(binfigdir);\n",
    "isdir(outputdir) ? \" \" : mkpath(outputdir);"
   ]
  },
  {
   "cell_type": "markdown",
   "metadata": {},
   "source": [
    "## Prepare mask\n",
    "### Interpolation grid"
   ]
  },
  {
   "cell_type": "code",
   "execution_count": 5,
   "metadata": {},
   "outputs": [
    {
     "data": {
      "text/plain": [
       "45.0:0.1:66.0"
      ]
     },
     "execution_count": 5,
     "metadata": {},
     "output_type": "execute_result"
    }
   ],
   "source": [
    "# North Sea\n",
    "#longrid = -2.:0.1:10.\n",
    "#latgrid = 51.:0.1:56.\n",
    "\n",
    "# Greater North Sea\n",
    "longrid = -16.:0.1:9.\n",
    "latgrid = 45.:0.1:66."
   ]
  },
  {
   "cell_type": "markdown",
   "metadata": {},
   "source": [
    "### Download file"
   ]
  },
  {
   "cell_type": "code",
   "execution_count": 6,
   "metadata": {},
   "outputs": [
    {
     "name": "stderr",
     "output_type": "stream",
     "text": [
      "┌ Info: Bathymetry file already downloaded\n",
      "└ @ Main In[6]:5\n"
     ]
    }
   ],
   "source": [
    "bathname = joinpath(datadir, \"gebco_30sec_4.nc\")\n",
    "if !isfile(bathname)\n",
    "    download(\"https://dox.ulg.ac.be/index.php/s/RSwm4HPHImdZoQP/download\", bathname)\n",
    "else\n",
    "    @info(\"Bathymetry file already downloaded\")\n",
    "end"
   ]
  },
  {
   "cell_type": "markdown",
   "metadata": {},
   "source": [
    "### Read bathymetry"
   ]
  },
  {
   "cell_type": "code",
   "execution_count": 7,
   "metadata": {},
   "outputs": [
    {
     "name": "stdout",
     "output_type": "stream",
     "text": [
      "size(b) = (251, 211)\n"
     ]
    }
   ],
   "source": [
    "bx, by, b = load_bath(bathname, true, longrid, latgrid)\n",
    "@show size(b)\n",
    "if doplot\n",
    "    plot_bathymetry(bx, by, b, joinpath(figdir, \"northsea_bathy\");\n",
    "                    domain=[-16., 9., 45., 66.], dlon=5., dlat=5.)\n",
    "end"
   ]
  },
  {
   "cell_type": "markdown",
   "metadata": {},
   "source": [
    "### Metrics & mask"
   ]
  },
  {
   "cell_type": "code",
   "execution_count": 8,
   "metadata": {},
   "outputs": [],
   "source": [
    "mask, (pm, pn),(xi, yi) = DIVAnd.DIVAnd_rectdom(longrid, latgrid);\n",
    "xi, yi, mask = DIVAnd.load_mask(bathname, true, longrid, latgrid, 0.0);\n",
    "xx, yy = ndgrid(xi, yi);\n",
    "if doplot\n",
    "    plot_mask(bx, by, mask, joinpath(figdir, \"northsea_mask\"); \n",
    "              domain=[-16., 9., 45., 66.], dlon=5., dlat=3.)\n",
    "end"
   ]
  },
  {
   "cell_type": "markdown",
   "metadata": {},
   "source": [
    "## Main loop"
   ]
  },
  {
   "cell_type": "code",
   "execution_count": 9,
   "metadata": {},
   "outputs": [
    {
     "data": {
      "text/plain": [
       "plot_bincounts"
      ]
     },
     "execution_count": 9,
     "metadata": {},
     "output_type": "execute_result"
    }
   ],
   "source": [
    "include(\"../scripts/PhytoInterpPlot.jl\")"
   ]
  },
  {
   "cell_type": "code",
   "execution_count": 12,
   "metadata": {
    "scrolled": true
   },
   "outputs": [
    {
     "name": "stderr",
     "output_type": "stream",
     "text": [
      "┌ Info: Working on Ceratoneis closterium\n",
      "└ @ Main In[12]:4\n",
      "┌ Info: Ceratoneis_closterium\n",
      "└ @ Main In[12]:5\n",
      "┌ Info: Plotting\n",
      "└ @ Main In[12]:16\n",
      "┌ Info: Presence data: 2723, absence data: 2108\n",
      "└ @ Main In[12]:36\n"
     ]
    },
    {
     "name": "stdout",
     "output_type": "stream",
     "text": [
      " 92.561593 seconds (366.31 k allocations: 27.386 GiB, 1.08% gc time)\n",
      " 56.765558 seconds (211.41 k allocations: 16.043 GiB, 0.55% gc time)\n",
      " 43.077644 seconds (156.94 k allocations: 11.751 GiB, 0.46% gc time)\n"
     ]
    },
    {
     "name": "stderr",
     "output_type": "stream",
     "text": [
      "┌ Info: Saving image as ../product/figures/heatmap/greaterNorthSea/Ceratoneis_closterium_cpme.png\n",
      "└ @ Main In[12]:97\n",
      "┌ Info: Working on Ceratoneis\n",
      "└ @ Main In[12]:4\n",
      "┌ Info: Ceratoneis\n",
      "└ @ Main In[12]:5\n",
      "┌ Info: Plotting\n",
      "└ @ Main In[12]:16\n",
      "┌ Info: Presence data: 3161, absence data: 14665\n",
      "└ @ Main In[12]:36\n",
      "┌ Warning: Data array size (17826,) is larger then maximum 10000. Superobservations will be created. To avoid, increase nmax to the desired number of superobs\n",
      "└ @ DIVAnd /home/ctroupin/.julia/packages/DIVAnd/ZfEqh/src/DIVAnd_heatmap.jl:48\n"
     ]
    },
    {
     "name": "stdout",
     "output_type": "stream",
     "text": [
      "  2.886713 seconds (545.23 k allocations: 1.069 GiB, 0.64% gc time)\n",
      " 85.211388 seconds (247.18 k allocations: 18.780 GiB, 1.02% gc time)\n"
     ]
    },
    {
     "name": "stderr",
     "output_type": "stream",
     "text": [
      "┌ Warning: Data array size (14665,) is larger then maximum 10000. Superobservations will be created. To avoid, increase nmax to the desired number of superobs\n",
      "└ @ DIVAnd /home/ctroupin/.julia/packages/DIVAnd/ZfEqh/src/DIVAnd_heatmap.jl:48\n"
     ]
    },
    {
     "name": "stdout",
     "output_type": "stream",
     "text": [
      "  3.134679 seconds (450.40 k allocations: 1.067 GiB, 0.71% gc time)\n"
     ]
    },
    {
     "name": "stderr",
     "output_type": "stream",
     "text": [
      "┌ Info: Saving image as ../product/figures/heatmap/greaterNorthSea/Ceratoneis_cpme.png\n",
      "└ @ Main In[12]:97\n",
      "┌ Info: Working on Chaetoceros (Hyalochaete)\n",
      "└ @ Main In[12]:4\n",
      "┌ Info: Chaetoceros_(Hyalochaete)\n",
      "└ @ Main In[12]:5\n",
      "┌ Info: Plotting\n",
      "└ @ Main In[12]:16\n",
      "┌ Info: Presence data: 21602, absence data: 63282\n",
      "└ @ Main In[12]:36\n",
      "┌ Warning: Data array size (84884,) is larger then maximum 10000. Superobservations will be created. To avoid, increase nmax to the desired number of superobs\n",
      "└ @ DIVAnd /home/ctroupin/.julia/packages/DIVAnd/ZfEqh/src/DIVAnd_heatmap.jl:48\n"
     ]
    },
    {
     "name": "stdout",
     "output_type": "stream",
     "text": [
      " 94.820845 seconds (2.87 M allocations: 25.166 GiB, 0.41% gc time)\n"
     ]
    },
    {
     "name": "stderr",
     "output_type": "stream",
     "text": [
      "┌ Warning: Data array size (21602,) is larger then maximum 10000. Superobservations will be created. To avoid, increase nmax to the desired number of superobs\n",
      "└ @ DIVAnd /home/ctroupin/.julia/packages/DIVAnd/ZfEqh/src/DIVAnd_heatmap.jl:48\n"
     ]
    },
    {
     "name": "stdout",
     "output_type": "stream",
     "text": [
      " 74.650496 seconds (899.92 k allocations: 19.567 GiB, 0.34% gc time)\n"
     ]
    },
    {
     "name": "stderr",
     "output_type": "stream",
     "text": [
      "┌ Warning: Data array size (63282,) is larger then maximum 10000. Superobservations will be created. To avoid, increase nmax to the desired number of superobs\n",
      "└ @ DIVAnd /home/ctroupin/.julia/packages/DIVAnd/ZfEqh/src/DIVAnd_heatmap.jl:48\n"
     ]
    },
    {
     "name": "stdout",
     "output_type": "stream",
     "text": [
      " 97.017909 seconds (2.21 M allocations: 24.119 GiB, 1.06% gc time)\n"
     ]
    },
    {
     "name": "stderr",
     "output_type": "stream",
     "text": [
      "┌ Info: Saving image as ../product/figures/heatmap/greaterNorthSea/Chaetoceros_(Hyalochaete)_cpme.png\n",
      "└ @ Main In[12]:97\n",
      "┌ Info: Working on Chaetoceros affinis\n",
      "└ @ Main In[12]:4\n",
      "┌ Info: Chaetoceros_affinis\n",
      "└ @ Main In[12]:5\n",
      "┌ Info: Plotting\n",
      "└ @ Main In[12]:16\n",
      "┌ Info: Presence data: 1838, absence data: 24369\n",
      "└ @ Main In[12]:36\n",
      "┌ Warning: Data array size (26207,) is larger then maximum 10000. Superobservations will be created. To avoid, increase nmax to the desired number of superobs\n",
      "└ @ DIVAnd /home/ctroupin/.julia/packages/DIVAnd/ZfEqh/src/DIVAnd_heatmap.jl:48\n"
     ]
    },
    {
     "name": "stdout",
     "output_type": "stream",
     "text": [
      "  7.815666 seconds (811.15 k allocations: 2.212 GiB, 0.44% gc time)\n",
      " 52.021024 seconds (137.30 k allocations: 10.524 GiB, 0.36% gc time)\n"
     ]
    },
    {
     "name": "stderr",
     "output_type": "stream",
     "text": [
      "┌ Warning: Data array size (24369,) is larger then maximum 10000. Superobservations will be created. To avoid, increase nmax to the desired number of superobs\n",
      "└ @ DIVAnd /home/ctroupin/.julia/packages/DIVAnd/ZfEqh/src/DIVAnd_heatmap.jl:48\n"
     ]
    },
    {
     "name": "stdout",
     "output_type": "stream",
     "text": [
      "  6.995856 seconds (755.62 k allocations: 2.181 GiB, 0.40% gc time)\n"
     ]
    },
    {
     "name": "stderr",
     "output_type": "stream",
     "text": [
      "┌ Info: Saving image as ../product/figures/heatmap/greaterNorthSea/Chaetoceros_affinis_cpme.png\n",
      "└ @ Main In[12]:97\n",
      "┌ Info: Working on Chaetoceros danicus\n",
      "└ @ Main In[12]:4\n",
      "┌ Info: Chaetoceros_danicus\n",
      "└ @ Main In[12]:5\n",
      "┌ Info: Plotting\n",
      "└ @ Main In[12]:16\n",
      "┌ Info: Presence data: 6215, absence data: 27996\n",
      "└ @ Main In[12]:36\n",
      "┌ Warning: Data array size (34211,) is larger then maximum 10000. Superobservations will be created. To avoid, increase nmax to the desired number of superobs\n",
      "└ @ DIVAnd /home/ctroupin/.julia/packages/DIVAnd/ZfEqh/src/DIVAnd_heatmap.jl:48\n"
     ]
    },
    {
     "name": "stdout",
     "output_type": "stream",
     "text": [
      "  9.156891 seconds (1.05 M allocations: 2.403 GiB, 5.09% gc time)\n",
      "146.676466 seconds (486.47 k allocations: 36.851 GiB, 0.48% gc time)\n"
     ]
    },
    {
     "name": "stderr",
     "output_type": "stream",
     "text": [
      "┌ Warning: Data array size (27996,) is larger then maximum 10000. Superobservations will be created. To avoid, increase nmax to the desired number of superobs\n",
      "└ @ DIVAnd /home/ctroupin/.julia/packages/DIVAnd/ZfEqh/src/DIVAnd_heatmap.jl:48\n"
     ]
    },
    {
     "name": "stdout",
     "output_type": "stream",
     "text": [
      "  5.763656 seconds (865.04 k allocations: 2.231 GiB, 0.62% gc time)\n"
     ]
    },
    {
     "name": "stderr",
     "output_type": "stream",
     "text": [
      "┌ Info: Saving image as ../product/figures/heatmap/greaterNorthSea/Chaetoceros_danicus_cpme.png\n",
      "└ @ Main In[12]:97\n",
      "┌ Info: Working on Chaetoceros debilis\n",
      "└ @ Main In[12]:4\n",
      "┌ Info: Chaetoceros_debilis\n",
      "└ @ Main In[12]:5\n",
      "┌ Info: Plotting\n",
      "└ @ Main In[12]:16\n",
      "┌ Info: Presence data: 3400, absence data: 16650\n",
      "└ @ Main In[12]:36\n",
      "┌ Warning: Data array size (20050,) is larger then maximum 10000. Superobservations will be created. To avoid, increase nmax to the desired number of superobs\n",
      "└ @ DIVAnd /home/ctroupin/.julia/packages/DIVAnd/ZfEqh/src/DIVAnd_heatmap.jl:48\n"
     ]
    },
    {
     "name": "stdout",
     "output_type": "stream",
     "text": [
      "  4.850694 seconds (624.80 k allocations: 2.082 GiB, 0.67% gc time)\n",
      " 62.702829 seconds (273.16 k allocations: 20.970 GiB, 0.41% gc time)\n"
     ]
    },
    {
     "name": "stderr",
     "output_type": "stream",
     "text": [
      "┌ Warning: Data array size (16650,) is larger then maximum 10000. Superobservations will be created. To avoid, increase nmax to the desired number of superobs\n",
      "└ @ DIVAnd /home/ctroupin/.julia/packages/DIVAnd/ZfEqh/src/DIVAnd_heatmap.jl:48\n"
     ]
    },
    {
     "name": "stdout",
     "output_type": "stream",
     "text": [
      "  5.355039 seconds (521.93 k allocations: 2.012 GiB, 1.31% gc time)\n"
     ]
    },
    {
     "name": "stderr",
     "output_type": "stream",
     "text": [
      "┌ Info: Saving image as ../product/figures/heatmap/greaterNorthSea/Chaetoceros_debilis_cpme.png\n",
      "└ @ Main In[12]:97\n",
      "┌ Info: Working on Chaetoceros decipiens\n",
      "└ @ Main In[12]:4\n",
      "┌ Info: Chaetoceros_decipiens\n",
      "└ @ Main In[12]:5\n",
      "┌ Info: Plotting\n",
      "└ @ Main In[12]:16\n",
      "┌ Info: Presence data: 2928, absence data: 24279\n",
      "└ @ Main In[12]:36\n",
      "┌ Warning: Data array size (27207,) is larger then maximum 10000. Superobservations will be created. To avoid, increase nmax to the desired number of superobs\n",
      "└ @ DIVAnd /home/ctroupin/.julia/packages/DIVAnd/ZfEqh/src/DIVAnd_heatmap.jl:48\n"
     ]
    },
    {
     "name": "stdout",
     "output_type": "stream",
     "text": [
      "  6.608060 seconds (844.01 k allocations: 2.439 GiB, 0.90% gc time)\n",
      " 53.088985 seconds (228.34 k allocations: 17.344 GiB, 0.60% gc time)\n"
     ]
    },
    {
     "name": "stderr",
     "output_type": "stream",
     "text": [
      "┌ Warning: Data array size (24279,) is larger then maximum 10000. Superobservations will be created. To avoid, increase nmax to the desired number of superobs\n",
      "└ @ DIVAnd /home/ctroupin/.julia/packages/DIVAnd/ZfEqh/src/DIVAnd_heatmap.jl:48\n"
     ]
    },
    {
     "name": "stdout",
     "output_type": "stream",
     "text": [
      "  5.866136 seconds (753.80 k allocations: 2.251 GiB, 0.62% gc time)\n"
     ]
    },
    {
     "name": "stderr",
     "output_type": "stream",
     "text": [
      "┌ Info: Saving image as ../product/figures/heatmap/greaterNorthSea/Chaetoceros_decipiens_cpme.png\n",
      "└ @ Main In[12]:97\n",
      "┌ Info: Working on Chaetoceros densus\n",
      "└ @ Main In[12]:4\n",
      "┌ Info: Chaetoceros_densus\n",
      "└ @ Main In[12]:5\n",
      "┌ Info: Plotting\n",
      "└ @ Main In[12]:16\n",
      "┌ Info: Presence data: 2651, absence data: 18928\n",
      "└ @ Main In[12]:36\n",
      "┌ Warning: Data array size (21579,) is larger then maximum 10000. Superobservations will be created. To avoid, increase nmax to the desired number of superobs\n",
      "└ @ DIVAnd /home/ctroupin/.julia/packages/DIVAnd/ZfEqh/src/DIVAnd_heatmap.jl:48\n"
     ]
    },
    {
     "name": "stdout",
     "output_type": "stream",
     "text": [
      "  6.039154 seconds (675.46 k allocations: 2.460 GiB, 0.92% gc time)\n",
      " 49.624734 seconds (218.18 k allocations: 16.955 GiB, 1.48% gc time)\n"
     ]
    },
    {
     "name": "stderr",
     "output_type": "stream",
     "text": [
      "┌ Warning: Data array size (18928,) is larger then maximum 10000. Superobservations will be created. To avoid, increase nmax to the desired number of superobs\n",
      "└ @ DIVAnd /home/ctroupin/.julia/packages/DIVAnd/ZfEqh/src/DIVAnd_heatmap.jl:48\n"
     ]
    },
    {
     "name": "stdout",
     "output_type": "stream",
     "text": [
      "  5.995020 seconds (593.88 k allocations: 2.297 GiB, 0.70% gc time)\n"
     ]
    },
    {
     "name": "stderr",
     "output_type": "stream",
     "text": [
      "┌ Info: Saving image as ../product/figures/heatmap/greaterNorthSea/Chaetoceros_densus_cpme.png\n",
      "└ @ Main In[12]:97\n",
      "┌ Info: Working on Chaetoceros socialis\n",
      "└ @ Main In[12]:4\n",
      "┌ Info: Chaetoceros_socialis\n",
      "└ @ Main In[12]:5\n",
      "┌ Info: Plotting\n",
      "└ @ Main In[12]:16\n",
      "┌ Info: Presence data: 5359, absence data: 20009\n",
      "└ @ Main In[12]:36\n",
      "┌ Warning: Data array size (25368,) is larger then maximum 10000. Superobservations will be created. To avoid, increase nmax to the desired number of superobs\n",
      "└ @ DIVAnd /home/ctroupin/.julia/packages/DIVAnd/ZfEqh/src/DIVAnd_heatmap.jl:48\n"
     ]
    },
    {
     "name": "stdout",
     "output_type": "stream",
     "text": [
      "  5.999239 seconds (788.77 k allocations: 2.433 GiB, 0.58% gc time)\n",
      " 96.979188 seconds (432.07 k allocations: 33.136 GiB, 0.47% gc time)\n"
     ]
    },
    {
     "name": "stderr",
     "output_type": "stream",
     "text": [
      "┌ Warning: Data array size (20009,) is larger then maximum 10000. Superobservations will be created. To avoid, increase nmax to the desired number of superobs\n",
      "└ @ DIVAnd /home/ctroupin/.julia/packages/DIVAnd/ZfEqh/src/DIVAnd_heatmap.jl:48\n"
     ]
    },
    {
     "name": "stdout",
     "output_type": "stream",
     "text": [
      "  5.754538 seconds (625.80 k allocations: 2.257 GiB, 6.56% gc time)\n"
     ]
    },
    {
     "name": "stderr",
     "output_type": "stream",
     "text": [
      "┌ Info: Saving image as ../product/figures/heatmap/greaterNorthSea/Chaetoceros_socialis_cpme.png\n",
      "└ @ Main In[12]:97\n",
      "┌ Info: Working on Chaetoceros\n",
      "└ @ Main In[12]:4\n",
      "┌ Info: Chaetoceros\n",
      "└ @ Main In[12]:5\n",
      "┌ Info: Plotting\n",
      "└ @ Main In[12]:16\n",
      "┌ Info: Presence data: 45329, absence data: 90752\n",
      "└ @ Main In[12]:36\n",
      "┌ Warning: Data array size (136081,) is larger then maximum 10000. Superobservations will be created. To avoid, increase nmax to the desired number of superobs\n",
      "└ @ DIVAnd /home/ctroupin/.julia/packages/DIVAnd/ZfEqh/src/DIVAnd_heatmap.jl:48\n"
     ]
    },
    {
     "name": "stdout",
     "output_type": "stream",
     "text": [
      " 67.081668 seconds (4.39 M allocations: 24.019 GiB, 0.87% gc time)\n"
     ]
    },
    {
     "name": "stderr",
     "output_type": "stream",
     "text": [
      "┌ Warning: Data array size (45329,) is larger then maximum 10000. Superobservations will be created. To avoid, increase nmax to the desired number of superobs\n",
      "└ @ DIVAnd /home/ctroupin/.julia/packages/DIVAnd/ZfEqh/src/DIVAnd_heatmap.jl:48\n"
     ]
    },
    {
     "name": "stdout",
     "output_type": "stream",
     "text": [
      " 55.645301 seconds (1.61 M allocations: 19.345 GiB, 1.49% gc time)\n"
     ]
    },
    {
     "name": "stderr",
     "output_type": "stream",
     "text": [
      "┌ Warning: Data array size (90752,) is larger then maximum 10000. Superobservations will be created. To avoid, increase nmax to the desired number of superobs\n",
      "└ @ DIVAnd /home/ctroupin/.julia/packages/DIVAnd/ZfEqh/src/DIVAnd_heatmap.jl:48\n"
     ]
    },
    {
     "name": "stdout",
     "output_type": "stream",
     "text": [
      " 64.027571 seconds (3.02 M allocations: 23.121 GiB, 0.67% gc time)\n"
     ]
    },
    {
     "name": "stderr",
     "output_type": "stream",
     "text": [
      "┌ Info: Saving image as ../product/figures/heatmap/greaterNorthSea/Chaetoceros_cpme.png\n",
      "└ @ Main In[12]:97\n",
      "┌ Info: Working on Chrysochromulina\n",
      "└ @ Main In[12]:4\n",
      "┌ Info: Chrysochromulina\n",
      "└ @ Main In[12]:5\n",
      "┌ Info: Plotting\n",
      "└ @ Main In[12]:16\n",
      "┌ Info: Presence data: 8222, absence data: 27948\n",
      "└ @ Main In[12]:36\n",
      "┌ Warning: Data array size (36170,) is larger then maximum 10000. Superobservations will be created. To avoid, increase nmax to the desired number of superobs\n",
      "└ @ DIVAnd /home/ctroupin/.julia/packages/DIVAnd/ZfEqh/src/DIVAnd_heatmap.jl:48\n"
     ]
    },
    {
     "name": "stdout",
     "output_type": "stream",
     "text": [
      "  3.256407 seconds (1.10 M allocations: 1.527 GiB, 0.69% gc time)\n",
      "143.563903 seconds (631.62 k allocations: 47.499 GiB, 0.95% gc time)\n"
     ]
    },
    {
     "name": "stderr",
     "output_type": "stream",
     "text": [
      "┌ Warning: Data array size (27948,) is larger then maximum 10000. Superobservations will be created. To avoid, increase nmax to the desired number of superobs\n",
      "└ @ DIVAnd /home/ctroupin/.julia/packages/DIVAnd/ZfEqh/src/DIVAnd_heatmap.jl:48\n"
     ]
    },
    {
     "name": "stdout",
     "output_type": "stream",
     "text": [
      "  3.417127 seconds (854.23 k allocations: 1.492 GiB, 0.82% gc time)\n"
     ]
    },
    {
     "name": "stderr",
     "output_type": "stream",
     "text": [
      "┌ Info: Saving image as ../product/figures/heatmap/greaterNorthSea/Chrysochromulina_cpme.png\n",
      "└ @ Main In[12]:97\n",
      "┌ Info: Working on Corethron\n",
      "└ @ Main In[12]:4\n",
      "┌ Info: Corethron\n",
      "└ @ Main In[12]:5\n",
      "┌ Info: Plotting\n",
      "└ @ Main In[12]:16\n",
      "┌ Info: Presence data: 1688, absence data: 103177\n",
      "└ @ Main In[12]:36\n",
      "┌ Warning: Data array size (104865,) is larger then maximum 10000. Superobservations will be created. To avoid, increase nmax to the desired number of superobs\n",
      "└ @ DIVAnd /home/ctroupin/.julia/packages/DIVAnd/ZfEqh/src/DIVAnd_heatmap.jl:48\n"
     ]
    },
    {
     "name": "stdout",
     "output_type": "stream",
     "text": [
      " 65.228683 seconds (3.44 M allocations: 23.110 GiB, 0.49% gc time)\n",
      " 30.600241 seconds (138.03 k allocations: 10.972 GiB, 0.43% gc time)\n"
     ]
    },
    {
     "name": "stderr",
     "output_type": "stream",
     "text": [
      "┌ Warning: Data array size (103177,) is larger then maximum 10000. Superobservations will be created. To avoid, increase nmax to the desired number of superobs\n",
      "└ @ DIVAnd /home/ctroupin/.julia/packages/DIVAnd/ZfEqh/src/DIVAnd_heatmap.jl:48\n"
     ]
    },
    {
     "name": "stdout",
     "output_type": "stream",
     "text": [
      " 66.550170 seconds (3.40 M allocations: 23.717 GiB, 0.41% gc time)\n"
     ]
    },
    {
     "name": "stderr",
     "output_type": "stream",
     "text": [
      "┌ Info: Saving image as ../product/figures/heatmap/greaterNorthSea/Corethron_cpme.png\n",
      "└ @ Main In[12]:97\n",
      "┌ Info: Working on Coscinodiscus concinnus\n",
      "└ @ Main In[12]:4\n",
      "┌ Info: Coscinodiscus_concinnus\n",
      "└ @ Main In[12]:5\n",
      "┌ Info: Plotting\n",
      "└ @ Main In[12]:16\n",
      "┌ Info: Presence data: 2057, absence data: 98358\n",
      "└ @ Main In[12]:36\n",
      "┌ Warning: Data array size (100415,) is larger then maximum 10000. Superobservations will be created. To avoid, increase nmax to the desired number of superobs\n",
      "└ @ DIVAnd /home/ctroupin/.julia/packages/DIVAnd/ZfEqh/src/DIVAnd_heatmap.jl:48\n"
     ]
    },
    {
     "name": "stdout",
     "output_type": "stream",
     "text": [
      " 63.732163 seconds (3.31 M allocations: 23.225 GiB, 1.29% gc time)\n",
      " 37.279954 seconds (167.97 k allocations: 13.067 GiB, 0.62% gc time)\n"
     ]
    },
    {
     "name": "stderr",
     "output_type": "stream",
     "text": [
      "┌ Warning: Data array size (98358,) is larger then maximum 10000. Superobservations will be created. To avoid, increase nmax to the desired number of superobs\n",
      "└ @ DIVAnd /home/ctroupin/.julia/packages/DIVAnd/ZfEqh/src/DIVAnd_heatmap.jl:48\n"
     ]
    },
    {
     "name": "stdout",
     "output_type": "stream",
     "text": [
      " 65.667015 seconds (3.25 M allocations: 23.187 GiB, 0.55% gc time)\n"
     ]
    },
    {
     "name": "stderr",
     "output_type": "stream",
     "text": [
      "┌ Info: Saving image as ../product/figures/heatmap/greaterNorthSea/Coscinodiscus_concinnus_cpme.png\n",
      "└ @ Main In[12]:97\n",
      "┌ Info: Working on Coscinodiscus wailesii\n",
      "└ @ Main In[12]:4\n",
      "┌ Info: Coscinodiscus_wailesii\n",
      "└ @ Main In[12]:5\n",
      "┌ Info: Plotting\n",
      "└ @ Main In[12]:16\n",
      "┌ Info: Presence data: 2954, absence data: 65320\n",
      "└ @ Main In[12]:36\n",
      "┌ Warning: Data array size (68274,) is larger then maximum 10000. Superobservations will be created. To avoid, increase nmax to the desired number of superobs\n",
      "└ @ DIVAnd /home/ctroupin/.julia/packages/DIVAnd/ZfEqh/src/DIVAnd_heatmap.jl:48\n"
     ]
    },
    {
     "name": "stdout",
     "output_type": "stream",
     "text": [
      " 51.400875 seconds (2.29 M allocations: 19.002 GiB, 0.44% gc time)\n",
      " 52.326494 seconds (242.11 k allocations: 18.761 GiB, 1.41% gc time)\n"
     ]
    },
    {
     "name": "stderr",
     "output_type": "stream",
     "text": [
      "┌ Warning: Data array size (65320,) is larger then maximum 10000. Superobservations will be created. To avoid, increase nmax to the desired number of superobs\n",
      "└ @ DIVAnd /home/ctroupin/.julia/packages/DIVAnd/ZfEqh/src/DIVAnd_heatmap.jl:48\n"
     ]
    },
    {
     "name": "stdout",
     "output_type": "stream",
     "text": [
      " 52.423842 seconds (2.20 M allocations: 18.941 GiB, 0.64% gc time)\n"
     ]
    },
    {
     "name": "stderr",
     "output_type": "stream",
     "text": [
      "┌ Info: Saving image as ../product/figures/heatmap/greaterNorthSea/Coscinodiscus_wailesii_cpme.png\n",
      "└ @ Main In[12]:97\n",
      "┌ Info: Working on Coscinodiscus\n",
      "└ @ Main In[12]:4\n",
      "┌ Info: Coscinodiscus\n",
      "└ @ Main In[12]:5\n",
      "┌ Info: Plotting\n",
      "└ @ Main In[12]:16\n",
      "┌ Info: Presence data: 16848, absence data: 116850\n",
      "└ @ Main In[12]:36\n",
      "┌ Warning: Data array size (133698,) is larger then maximum 10000. Superobservations will be created. To avoid, increase nmax to the desired number of superobs\n",
      "└ @ DIVAnd /home/ctroupin/.julia/packages/DIVAnd/ZfEqh/src/DIVAnd_heatmap.jl:48\n"
     ]
    },
    {
     "name": "stdout",
     "output_type": "stream",
     "text": [
      " 65.628206 seconds (4.32 M allocations: 24.018 GiB, 0.79% gc time)\n"
     ]
    },
    {
     "name": "stderr",
     "output_type": "stream",
     "text": [
      "┌ Warning: Data array size (16848,) is larger then maximum 10000. Superobservations will be created. To avoid, increase nmax to the desired number of superobs\n",
      "└ @ DIVAnd /home/ctroupin/.julia/packages/DIVAnd/ZfEqh/src/DIVAnd_heatmap.jl:48\n"
     ]
    },
    {
     "name": "stdout",
     "output_type": "stream",
     "text": [
      " 36.578347 seconds (670.72 k allocations: 13.075 GiB, 1.62% gc time)\n"
     ]
    },
    {
     "name": "stderr",
     "output_type": "stream",
     "text": [
      "┌ Warning: Data array size (116850,) is larger then maximum 10000. Superobservations will be created. To avoid, increase nmax to the desired number of superobs\n",
      "└ @ DIVAnd /home/ctroupin/.julia/packages/DIVAnd/ZfEqh/src/DIVAnd_heatmap.jl:48\n"
     ]
    },
    {
     "name": "stdout",
     "output_type": "stream",
     "text": [
      " 65.242006 seconds (3.81 M allocations: 23.720 GiB, 0.63% gc time)\n"
     ]
    },
    {
     "name": "stderr",
     "output_type": "stream",
     "text": [
      "┌ Info: Saving image as ../product/figures/heatmap/greaterNorthSea/Coscinodiscus_cpme.png\n",
      "└ @ Main In[12]:97\n",
      "┌ Info: Working on Cylindrotheca closterium\n",
      "└ @ Main In[12]:4\n",
      "┌ Info: Cylindrotheca_closterium\n",
      "└ @ Main In[12]:5\n",
      "┌ Info: Plotting\n",
      "└ @ Main In[12]:16\n",
      "┌ Info: Presence data: 11490, absence data: 90513\n",
      "└ @ Main In[12]:36\n",
      "┌ Warning: Data array size (102003,) is larger then maximum 10000. Superobservations will be created. To avoid, increase nmax to the desired number of superobs\n",
      "└ @ DIVAnd /home/ctroupin/.julia/packages/DIVAnd/ZfEqh/src/DIVAnd_heatmap.jl:48\n"
     ]
    },
    {
     "name": "stdout",
     "output_type": "stream",
     "text": [
      " 64.095123 seconds (3.35 M allocations: 22.587 GiB, 0.45% gc time)\n"
     ]
    },
    {
     "name": "stderr",
     "output_type": "stream",
     "text": [
      "┌ Warning: Data array size (11490,) is larger then maximum 10000. Superobservations will be created. To avoid, increase nmax to the desired number of superobs\n",
      "└ @ DIVAnd /home/ctroupin/.julia/packages/DIVAnd/ZfEqh/src/DIVAnd_heatmap.jl:48\n"
     ]
    },
    {
     "name": "stdout",
     "output_type": "stream",
     "text": [
      " 22.081312 seconds (442.00 k allocations: 7.826 GiB, 2.36% gc time)\n"
     ]
    },
    {
     "name": "stderr",
     "output_type": "stream",
     "text": [
      "┌ Warning: Data array size (90513,) is larger then maximum 10000. Superobservations will be created. To avoid, increase nmax to the desired number of superobs\n",
      "└ @ DIVAnd /home/ctroupin/.julia/packages/DIVAnd/ZfEqh/src/DIVAnd_heatmap.jl:48\n"
     ]
    },
    {
     "name": "stdout",
     "output_type": "stream",
     "text": [
      " 65.596010 seconds (3.01 M allocations: 22.500 GiB, 0.60% gc time)\n"
     ]
    },
    {
     "name": "stderr",
     "output_type": "stream",
     "text": [
      "┌ Info: Saving image as ../product/figures/heatmap/greaterNorthSea/Cylindrotheca_closterium_cpme.png\n",
      "└ @ Main In[12]:97\n",
      "┌ Info: Working on Cylindrotheca\n",
      "└ @ Main In[12]:4\n",
      "┌ Info: Cylindrotheca\n",
      "└ @ Main In[12]:5\n",
      "┌ Info: Plotting\n",
      "└ @ Main In[12]:16\n",
      "┌ Info: Presence data: 11788, absence data: 104151\n",
      "└ @ Main In[12]:36\n",
      "┌ Warning: Data array size (115939,) is larger then maximum 10000. Superobservations will be created. To avoid, increase nmax to the desired number of superobs\n",
      "└ @ DIVAnd /home/ctroupin/.julia/packages/DIVAnd/ZfEqh/src/DIVAnd_heatmap.jl:48\n"
     ]
    },
    {
     "name": "stdout",
     "output_type": "stream",
     "text": [
      " 63.138189 seconds (3.77 M allocations: 22.868 GiB, 0.47% gc time)\n"
     ]
    },
    {
     "name": "stderr",
     "output_type": "stream",
     "text": [
      "┌ Warning: Data array size (11788,) is larger then maximum 10000. Superobservations will be created. To avoid, increase nmax to the desired number of superobs\n",
      "└ @ DIVAnd /home/ctroupin/.julia/packages/DIVAnd/ZfEqh/src/DIVAnd_heatmap.jl:48\n"
     ]
    },
    {
     "name": "stdout",
     "output_type": "stream",
     "text": [
      " 21.530916 seconds (451.03 k allocations: 7.832 GiB, 0.43% gc time)\n"
     ]
    },
    {
     "name": "stderr",
     "output_type": "stream",
     "text": [
      "┌ Warning: Data array size (104151,) is larger then maximum 10000. Superobservations will be created. To avoid, increase nmax to the desired number of superobs\n",
      "└ @ DIVAnd /home/ctroupin/.julia/packages/DIVAnd/ZfEqh/src/DIVAnd_heatmap.jl:48\n"
     ]
    },
    {
     "name": "stdout",
     "output_type": "stream",
     "text": [
      " 65.380713 seconds (3.42 M allocations: 22.781 GiB, 1.24% gc time)\n"
     ]
    },
    {
     "name": "stderr",
     "output_type": "stream",
     "text": [
      "┌ Info: Saving image as ../product/figures/heatmap/greaterNorthSea/Cylindrotheca_cpme.png\n",
      "└ @ Main In[12]:97\n",
      "┌ Info: Working on Dactyliosolen fragilissimus\n",
      "└ @ Main In[12]:4\n",
      "┌ Info: Dactyliosolen_fragilissimus\n",
      "└ @ Main In[12]:5\n",
      "┌ Info: Plotting\n",
      "└ @ Main In[12]:16\n",
      "┌ Info: Presence data: 1957, absence data: 9877\n",
      "└ @ Main In[12]:36\n",
      "┌ Warning: Data array size (11834,) is larger then maximum 10000. Superobservations will be created. To avoid, increase nmax to the desired number of superobs\n",
      "└ @ DIVAnd /home/ctroupin/.julia/packages/DIVAnd/ZfEqh/src/DIVAnd_heatmap.jl:48\n"
     ]
    },
    {
     "name": "stdout",
     "output_type": "stream",
     "text": [
      "  3.586169 seconds (373.32 k allocations: 1.694 GiB, 0.83% gc time)\n",
      " 33.439998 seconds (151.86 k allocations: 11.801 GiB, 0.43% gc time)\n",
      "174.107112 seconds (797.28 k allocations: 61.277 GiB, 0.41% gc time)\n"
     ]
    },
    {
     "name": "stderr",
     "output_type": "stream",
     "text": [
      "┌ Info: Saving image as ../product/figures/heatmap/greaterNorthSea/Dactyliosolen_fragilissimus_cpme.png\n",
      "└ @ Main In[12]:97\n",
      "┌ Info: Working on Dactyliosolen\n",
      "└ @ Main In[12]:4\n",
      "┌ Info: Dactyliosolen\n",
      "└ @ Main In[12]:5\n",
      "┌ Info: Plotting\n",
      "└ @ Main In[12]:16\n",
      "┌ Info: Presence data: 3072, absence data: 110372\n",
      "└ @ Main In[12]:36\n",
      "┌ Warning: Data array size (113444,) is larger then maximum 10000. Superobservations will be created. To avoid, increase nmax to the desired number of superobs\n",
      "└ @ DIVAnd /home/ctroupin/.julia/packages/DIVAnd/ZfEqh/src/DIVAnd_heatmap.jl:48\n"
     ]
    },
    {
     "name": "stdout",
     "output_type": "stream",
     "text": [
      " 63.901408 seconds (3.71 M allocations: 23.538 GiB, 1.04% gc time)\n",
      " 53.969298 seconds (243.68 k allocations: 18.629 GiB, 0.54% gc time)\n"
     ]
    },
    {
     "name": "stderr",
     "output_type": "stream",
     "text": [
      "┌ Warning: Data array size (110372,) is larger then maximum 10000. Superobservations will be created. To avoid, increase nmax to the desired number of superobs\n",
      "└ @ DIVAnd /home/ctroupin/.julia/packages/DIVAnd/ZfEqh/src/DIVAnd_heatmap.jl:48\n"
     ]
    },
    {
     "name": "stdout",
     "output_type": "stream",
     "text": [
      " 65.324988 seconds (3.61 M allocations: 23.491 GiB, 0.54% gc time)\n"
     ]
    },
    {
     "name": "stderr",
     "output_type": "stream",
     "text": [
      "┌ Info: Saving image as ../product/figures/heatmap/greaterNorthSea/Dactyliosolen_cpme.png\n",
      "└ @ Main In[12]:97\n",
      "┌ Info: Working on Dictyocha\n",
      "└ @ Main In[12]:4\n",
      "┌ Info: Dictyocha\n",
      "└ @ Main In[12]:5\n",
      "┌ Info: Plotting\n",
      "└ @ Main In[12]:16\n",
      "┌ Info: Presence data: 3357, absence data: 38379\n",
      "└ @ Main In[12]:36\n",
      "┌ Warning: Data array size (41736,) is larger then maximum 10000. Superobservations will be created. To avoid, increase nmax to the desired number of superobs\n",
      "└ @ DIVAnd /home/ctroupin/.julia/packages/DIVAnd/ZfEqh/src/DIVAnd_heatmap.jl:48\n"
     ]
    },
    {
     "name": "stdout",
     "output_type": "stream",
     "text": [
      "  7.274048 seconds (1.29 M allocations: 3.041 GiB, 0.59% gc time)\n",
      " 59.542746 seconds (268.00 k allocations: 20.524 GiB, 1.25% gc time)\n"
     ]
    },
    {
     "name": "stderr",
     "output_type": "stream",
     "text": [
      "┌ Warning: Data array size (38379,) is larger then maximum 10000. Superobservations will be created. To avoid, increase nmax to the desired number of superobs\n",
      "└ @ DIVAnd /home/ctroupin/.julia/packages/DIVAnd/ZfEqh/src/DIVAnd_heatmap.jl:48\n"
     ]
    },
    {
     "name": "stdout",
     "output_type": "stream",
     "text": [
      "  7.639085 seconds (1.19 M allocations: 3.020 GiB, 0.61% gc time)\n"
     ]
    },
    {
     "name": "stderr",
     "output_type": "stream",
     "text": [
      "┌ Info: Saving image as ../product/figures/heatmap/greaterNorthSea/Dictyocha_cpme.png\n",
      "└ @ Main In[12]:97\n"
     ]
    }
   ],
   "source": [
    "for datafile in datafilelist[21:40]\n",
    "    speciesname = get_species_name(basename(datafile))\n",
    "    speciesslug = get_species_slug(basename(datafile))\n",
    "    @info(\"Working on $(speciesname)\")\n",
    "    @info(speciesslug)\n",
    "        \n",
    "    # Data reading\n",
    "    dates, lons, lats, occurs = read_data_phyto(joinpath(csvdir, datafile));\n",
    "    \n",
    "    # Conversion of coordinates\n",
    "    # We have to go from `EPSG:32361` to `WGS84`.         \n",
    "    lon, lat = transform_coords(lons, lats)\n",
    "    \n",
    "    # Plot presence/absence\n",
    "    if doplot\n",
    "        @info(\"Plotting\")\n",
    "        make_plot_presence_absence(lon, lat, occurs, \n",
    "            joinpath(datafigdir, \"$(speciesslug)_data_presence_absence.png\"), \n",
    "            [-16., 9., 45., 66.], 4., 2.)\n",
    "    end\n",
    "    \n",
    "    # Create bins\n",
    "    obscount, obscountlog = count_obs(longrid, latgrid, lon, lat);\n",
    "    if doplot\n",
    "        figname = joinpath(binfigdir, \"$(speciesslug)_bins.png\")\n",
    "        plot_bincounts(longrid, latgrid, mask, obscountlog, speciesname, figname; \n",
    "                       domain=[-16., 9., 45., 66.], dlon=4., dlat=2., vmax=3.)\n",
    "    end\n",
    "    \n",
    "    \n",
    "    data_presence = occurs .== 1;\n",
    "    data_absence = .!(data_presence);\n",
    "    npre = sum(data_presence)\n",
    "    nabs = sum(data_absence);\n",
    "    \n",
    "    @info(\"Presence data: $(npre), absence data: $(nabs)\")\n",
    "    \n",
    "    # Compute heatmap\n",
    "    inflation = ones(length(lon));\n",
    "    L = 0.5\n",
    "\n",
    "    \n",
    "    @time dens1, LHM, LCV, LSCV = DIVAnd_heatmap(mask, (pm,pn), (xx, yy), \n",
    "        (lon, lat), inflation, L);\n",
    "    @time dens2, LHM, LCV, LSCV = DIVAnd_heatmap(mask, (pm,pn), (xx, yy), \n",
    "        (lon[data_presence], lat[data_presence]), inflation[data_presence], L);\n",
    "    @time dens3, LHM, LCV, LSCV = DIVAnd_heatmap(mask, (pm,pn), (xx, yy), \n",
    "        (lon[data_absence], lat[data_absence]), inflation[data_absence], L);\n",
    "    \n",
    "    reldens = npre .* dens2 ./ (npre .* dens2 .+ nabs .* dens3);\n",
    "    reldens2 = npre .* dens2 ./ ( (npre + nabs) .* dens1);\n",
    "    \n",
    "    # Compute error field with CPME\n",
    "    cpme = DIVAnd_cpme(mask, (pm, pn), (xx, yy), (lon, lat), ones(length(lon)), 0.2, 10.);\n",
    "    \n",
    "    if doplot\n",
    "        \n",
    "        \n",
    "        plot_heatmap(longrid, latgrid, dens2, lon, lat, occurs,\n",
    "            \"$(speciesname): heatmap with 'presence' data points\", \n",
    "            joinpath(figdir, \"$(speciesslug)_heatmap_presence.png\"), 0., 0.2,\n",
    "            domain=[-16., 9., 45., 66.], dlon=4., dlat=2.)\n",
    "        \n",
    "        \n",
    "        plot_heatmap(longrid, latgrid, dens3, lon, lat, occurs,\n",
    "            \"$(speciesname): heatmap with 'absence' data points\", \n",
    "            joinpath(figdir, \"$(speciesslug)_heatmap_absence.png\"), 0., 0.2,\n",
    "            domain=[-16., 9., 45., 66.], dlon=4., dlat=2.)\n",
    "        \n",
    "        \"\"\"\n",
    "        plot_heatmap(longrid, latgrid, dens3, lon, lat, occurs,\n",
    "            \"$(speciesname): heatmap with all data points\", \n",
    "            joinpath(figdir, \"$(speciesslug)_heatmap_all.png\"), 0., 1.,\n",
    "            domain=[-16., 9., 45., 66.], dlon=4., dlat=2.)\n",
    "        \"\"\"\n",
    "        \n",
    "        plot_heatmap(longrid, latgrid, reldens, lon, lat, occurs,\n",
    "            \"$(speciesname) probability\", \n",
    "            joinpath(figdir, \"$(speciesslug)_heatmap_relative.png\"), 0., 1.,\n",
    "            domain=[-16., 9., 45., 66.], dlon=4., dlat=2.)\n",
    "        \n",
    "        plot_heatmap(longrid, latgrid, reldens, lon, lat, occurs,\n",
    "            \"$(speciesname) probability\", \n",
    "            joinpath(figdir, \"$(speciesslug)_heatmap_relative2.png\"), 0., 1.,\n",
    "            domain=[-16., 9., 45., 66.], dlon=4., dlat=2.)\n",
    "    end\n",
    "    \n",
    "    # Write in netCDF\n",
    "    \n",
    "    if writenc\n",
    "        create_nc_results(joinpath(outputdir, \"$(speciesslug)_heatmap.nc\"), \n",
    "                          longrid, latgrid, reldens, speciesname);\n",
    "    \n",
    "        # Add the error field\n",
    "        write_nc_error(joinpath(outputdir, \"$(speciesslug)_heatmap.nc\"), cpme);\n",
    "    end\n",
    "    \n",
    "    figname = joinpath(figdir, \"$(speciesslug)_cpme.png\")\n",
    "    @info(\"Saving image as $(figname)\")\n",
    "    \n",
    "    if doplot\n",
    "        plot_error(longrid, latgrid, cpme, \"$(speciesname)\", \n",
    "            joinpath(figdir, \"$(speciesslug)_cpme.png\"),\n",
    "            domain=[-16., 9., 45., 66.], dlon=4., dlat=2.)\n",
    "    end    \n",
    "    \n",
    "end"
   ]
  },
  {
   "cell_type": "code",
   "execution_count": null,
   "metadata": {},
   "outputs": [],
   "source": []
  }
 ],
 "metadata": {
  "@webio": {
   "lastCommId": null,
   "lastKernelId": null
  },
  "kernelspec": {
   "display_name": "Julia 1.5.1",
   "language": "julia",
   "name": "julia-1.5"
  },
  "language_info": {
   "file_extension": ".jl",
   "mimetype": "application/julia",
   "name": "julia",
   "version": "1.5.1"
  }
 },
 "nbformat": 4,
 "nbformat_minor": 2
}
