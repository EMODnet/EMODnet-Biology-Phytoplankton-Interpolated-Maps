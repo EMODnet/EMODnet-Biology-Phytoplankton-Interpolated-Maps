{
 "cells": [
  {
   "cell_type": "markdown",
   "metadata": {},
   "source": [
    "Perform the heatmap generation for all the CSV files provided by *Deltares* and create\n",
    "* figures showing the data positions and the heatmap (pseudo-color plot)\n",
    "* netCDF files (one per species) storing the heatmap.\n",
    "\n",
    "`doplot` can be turned to 'false' to avoid creating the figures."
   ]
  },
  {
   "cell_type": "code",
   "execution_count": 13,
   "metadata": {},
   "outputs": [
    {
     "data": {
      "text/plain": [
       "true"
      ]
     },
     "execution_count": 13,
     "metadata": {},
     "output_type": "execute_result"
    }
   ],
   "source": [
    "using DIVAnd\n",
    "using PyPlot\n",
    "using Proj4\n",
    "using DelimitedFiles\n",
    "using PyCall\n",
    "using Dates\n",
    "using NCDatasets\n",
    "include(\"../scripts/PhytoInterp.jl\")\n",
    "include(\"../scripts/PhytoInterpPlot.jl\")\n",
    "doplot = true"
   ]
  },
  {
   "cell_type": "markdown",
   "metadata": {},
   "source": [
    "## Packages for plotting"
   ]
  },
  {
   "cell_type": "code",
   "execution_count": 2,
   "metadata": {},
   "outputs": [
    {
     "data": {
      "text/plain": [
       "PyObject <cartopy.mpl.ticker.LatitudeFormatter object at 0x7fb55e6a0bd0>"
      ]
     },
     "execution_count": 2,
     "metadata": {},
     "output_type": "execute_result"
    }
   ],
   "source": [
    "if doplot\n",
    "    ccrs = pyimport(\"cartopy.crs\")\n",
    "    gridliner = pyimport(\"cartopy.mpl.gridliner\")\n",
    "    cfeature = pyimport(\"cartopy.feature\")\n",
    "    mticker = pyimport(\"matplotlib.ticker\")\n",
    "    myproj = ccrs.PlateCarree()\n",
    "    coast = cfeature.GSHHSFeature(scale=\"full\");\n",
    "    mpl = pyimport(\"matplotlib\");\n",
    "    cartopyticker = pyimport(\"cartopy.mpl.ticker\")\n",
    "    lon_formatter = cartopyticker.LongitudeFormatter()\n",
    "    lat_formatter = cartopyticker.LatitudeFormatter()\n",
    "end "
   ]
  },
  {
   "cell_type": "markdown",
   "metadata": {},
   "source": [
    "## Files and directories"
   ]
  },
  {
   "cell_type": "code",
   "execution_count": 11,
   "metadata": {},
   "outputs": [
    {
     "name": "stderr",
     "output_type": "stream",
     "text": [
      "┌ Info: Working on 200 files\n",
      "└ @ Main In[11]:6\n"
     ]
    }
   ],
   "source": [
    "# csvdir = \"/data/EMODnet/Biology/phytoplankton/csv/\" # North Sea \n",
    "csvdir = \"/data/EMODnet/Biology/phytoplankton/GreaterNorthSea/csv_files/\" #Greater North Sea\n",
    "\n",
    "datadir = \"../data/\"\n",
    "datafilelist = readdir(csvdir);\n",
    "@info(\"Working on $(length(datafilelist)) files\");\n",
    "figdir = \"../product/figures/heatmap/greaterNorthSea/\" \n",
    "binfigdir = \"../product/figures/bins/greaterNorthSea/\"\n",
    "datafigdir = \"../product/figures/data/greaterNorthSea/\"\n",
    "outputdir = \"../product/netCDF/greaterNorthSea/Phytoplankton/V1/\"\n",
    "isdir(datadir) ? \" \" : mkpath(datadir)\n",
    "isdir(datafigdir) ? \" \" : mkpath(datafigdir)\n",
    "isdir(figdir) ? \" \" : mkpath(figdir);\n",
    "isdir(binfigdir) ? \" \" : mkpath(binfigdir);\n",
    "isdir(outputdir) ? \" \" : mkpath(outputdir);"
   ]
  },
  {
   "cell_type": "markdown",
   "metadata": {},
   "source": [
    "## Prepare mask\n",
    "### Interpolation grid"
   ]
  },
  {
   "cell_type": "code",
   "execution_count": 4,
   "metadata": {},
   "outputs": [
    {
     "data": {
      "text/plain": [
       "45.0:0.1:66.0"
      ]
     },
     "execution_count": 4,
     "metadata": {},
     "output_type": "execute_result"
    }
   ],
   "source": [
    "# North Sea\n",
    "#longrid = -2.:0.1:10.\n",
    "#latgrid = 51.:0.1:56.\n",
    "\n",
    "# Greater North Sea\n",
    "longrid = -16.:0.1:9.\n",
    "latgrid = 45.:0.1:66."
   ]
  },
  {
   "cell_type": "markdown",
   "metadata": {},
   "source": [
    "### Download file"
   ]
  },
  {
   "cell_type": "code",
   "execution_count": 5,
   "metadata": {},
   "outputs": [
    {
     "name": "stderr",
     "output_type": "stream",
     "text": [
      "┌ Info: Bathymetry file already downloaded\n",
      "└ @ Main In[5]:5\n"
     ]
    }
   ],
   "source": [
    "bathname = joinpath(datadir, \"gebco_30sec_4.nc\")\n",
    "if !isfile(bathname)\n",
    "    download(\"https://dox.ulg.ac.be/index.php/s/RSwm4HPHImdZoQP/download\", bathname)\n",
    "else\n",
    "    @info(\"Bathymetry file already downloaded\")\n",
    "end"
   ]
  },
  {
   "cell_type": "markdown",
   "metadata": {},
   "source": [
    "### Read bathymetry"
   ]
  },
  {
   "cell_type": "code",
   "execution_count": 6,
   "metadata": {},
   "outputs": [
    {
     "name": "stdout",
     "output_type": "stream",
     "text": [
      "size(b) = (251, 211)\n"
     ]
    },
    {
     "data": {
      "text/plain": [
       "(251, 211)"
      ]
     },
     "execution_count": 6,
     "metadata": {},
     "output_type": "execute_result"
    }
   ],
   "source": [
    "bx, by, b = load_bath(bathname, true, longrid, latgrid)\n",
    "@show size(b)"
   ]
  },
  {
   "cell_type": "code",
   "execution_count": 7,
   "metadata": {},
   "outputs": [],
   "source": [
    "if doplot\n",
    "    plot_bathymetry(bx, by, b, joinpath(figdir, \"northsea_bathy\");\n",
    "                    domain=[-16., 9., 45., 66.], dlon=5., dlat=5.)\n",
    "end"
   ]
  },
  {
   "cell_type": "markdown",
   "metadata": {},
   "source": [
    "### Metrics & mask"
   ]
  },
  {
   "cell_type": "code",
   "execution_count": 8,
   "metadata": {},
   "outputs": [],
   "source": [
    "mask, (pm, pn),(xi, yi) = DIVAnd.DIVAnd_rectdom(longrid, latgrid);\n",
    "xi, yi, mask = DIVAnd.load_mask(bathname, true, longrid, latgrid, 0.0);\n",
    "xx, yy = ndgrid(xi, yi);\n",
    "if doplot\n",
    "    plot_mask(bx, by, mask, joinpath(figdir, \"northsea_mask\"); \n",
    "              domain=[-16., 9., 45., 66.], dlon=5., dlat=3.)\n",
    "end"
   ]
  },
  {
   "cell_type": "markdown",
   "metadata": {},
   "source": [
    "## Main loop"
   ]
  },
  {
   "cell_type": "code",
   "execution_count": 16,
   "metadata": {},
   "outputs": [
    {
     "data": {
      "text/plain": [
       "plot_bincounts"
      ]
     },
     "execution_count": 16,
     "metadata": {},
     "output_type": "execute_result"
    }
   ],
   "source": [
    "include(\"../scripts/PhytoInterpPlot.jl\")"
   ]
  },
  {
   "cell_type": "code",
   "execution_count": 17,
   "metadata": {},
   "outputs": [
    {
     "name": "stderr",
     "output_type": "stream",
     "text": [
      "┌ Info: Working on Actinocyclus senarius\n",
      "└ @ Main In[17]:4\n",
      "┌ Info: Actinocyclus_senarius\n",
      "└ @ Main In[17]:5\n",
      "┌ Info: Plotting\n",
      "└ @ Main In[17]:16\n",
      "┌ Info: Presence data: 5068, absence data: 14253\n",
      "└ @ Main In[17]:36\n"
     ]
    },
    {
     "name": "stdout",
     "output_type": "stream",
     "text": [
      " 98.926216 seconds (452.06 k allocations: 32.182 GiB, 1.60% gc time)\n"
     ]
    },
    {
     "name": "stderr",
     "output_type": "stream",
     "text": [
      "┌ Warning: Data array size (14253,) is larger then maximum 10000. Superobservations will be created. To avoid, increase nmax to the desired number of superobs\n",
      "└ @ DIVAnd /home/ctroupin/.julia/packages/DIVAnd/ZfEqh/src/DIVAnd_heatmap.jl:48\n"
     ]
    },
    {
     "name": "stdout",
     "output_type": "stream",
     "text": [
      "  3.359906 seconds (446.86 k allocations: 1.644 GiB, 1.27% gc time)\n"
     ]
    },
    {
     "name": "stderr",
     "output_type": "stream",
     "text": [
      "┌ Info: Saving image as ../product/figures/heatmap/greaterNorthSea/Actinocyclus_senarius_cpme.png\n",
      "└ @ Main In[17]:88\n",
      "┌ Info: Working on Actinocyclus\n",
      "└ @ Main In[17]:4\n",
      "┌ Info: Actinocyclus\n",
      "└ @ Main In[17]:5\n",
      "┌ Info: Plotting\n",
      "└ @ Main In[17]:16\n",
      "┌ Info: Presence data: 5688, absence data: 27339\n",
      "└ @ Main In[17]:36\n"
     ]
    },
    {
     "name": "stdout",
     "output_type": "stream",
     "text": [
      " 91.192402 seconds (504.70 k allocations: 35.827 GiB, 1.76% gc time)\n"
     ]
    },
    {
     "name": "stderr",
     "output_type": "stream",
     "text": [
      "┌ Warning: Data array size (27339,) is larger then maximum 10000. Superobservations will be created. To avoid, increase nmax to the desired number of superobs\n",
      "└ @ DIVAnd /home/ctroupin/.julia/packages/DIVAnd/ZfEqh/src/DIVAnd_heatmap.jl:48\n"
     ]
    },
    {
     "name": "stdout",
     "output_type": "stream",
     "text": [
      "  4.776725 seconds (847.38 k allocations: 2.225 GiB, 1.20% gc time)\n"
     ]
    },
    {
     "name": "stderr",
     "output_type": "stream",
     "text": [
      "┌ Info: Saving image as ../product/figures/heatmap/greaterNorthSea/Actinocyclus_cpme.png\n",
      "└ @ Main In[17]:88\n",
      "┌ Info: Working on Actinoptychus\n",
      "└ @ Main In[17]:4\n",
      "┌ Info: Actinoptychus\n",
      "└ @ Main In[17]:5\n",
      "┌ Info: Plotting\n",
      "└ @ Main In[17]:16\n",
      "┌ Info: Presence data: 2416, absence data: 77330\n",
      "└ @ Main In[17]:36\n"
     ]
    },
    {
     "name": "stdout",
     "output_type": "stream",
     "text": [
      " 39.558974 seconds (216.51 k allocations: 15.536 GiB, 2.22% gc time)\n"
     ]
    },
    {
     "name": "stderr",
     "output_type": "stream",
     "text": [
      "┌ Warning: Data array size (77330,) is larger then maximum 10000. Superobservations will be created. To avoid, increase nmax to the desired number of superobs\n",
      "└ @ DIVAnd /home/ctroupin/.julia/packages/DIVAnd/ZfEqh/src/DIVAnd_heatmap.jl:48\n"
     ]
    },
    {
     "name": "stdout",
     "output_type": "stream",
     "text": [
      " 64.532444 seconds (2.61 M allocations: 20.998 GiB, 0.85% gc time)\n"
     ]
    },
    {
     "name": "stderr",
     "output_type": "stream",
     "text": [
      "┌ Info: Saving image as ../product/figures/heatmap/greaterNorthSea/Actinoptychus_cpme.png\n",
      "└ @ Main In[17]:88\n"
     ]
    }
   ],
   "source": [
    "for datafile in datafilelist[1:3]\n",
    "    speciesname = get_species_name(basename(datafile))\n",
    "    speciesslug = get_species_slug(basename(datafile))\n",
    "    @info(\"Working on $(speciesname)\")\n",
    "    @info(speciesslug)\n",
    "        \n",
    "    # Data reading\n",
    "    dates, lons, lats, occurs = read_data_phyto(joinpath(csvdir, datafile));\n",
    "    \n",
    "    # Conversion of coordinates\n",
    "    # We have to go from `EPSG:32361` to `WGS84`.         \n",
    "    lon, lat = transform_coords(lons, lats)\n",
    "    \n",
    "    # Plot presence/absence\n",
    "    if doplot\n",
    "        @info(\"Plotting\")\n",
    "        make_plot_presence_absence(lon, lat, occurs, \n",
    "            joinpath(datafigdir, \"$(speciesslug)_data_presence_absence.png\"), \n",
    "            [-16., 9., 45., 66.], 4., 2.)\n",
    "    end\n",
    "    \n",
    "    # Create bins\n",
    "    obscount, obscountlog = count_obs(longrid, latgrid, lon, lat);\n",
    "    if doplot\n",
    "        figname = joinpath(binfigdir, \"$(speciesslug)_bins.png\")\n",
    "        plot_bincounts(longrid, latgrid, mask, obscountlog, speciesname, figname; \n",
    "                       domain=[-16., 9., 45., 66.], dlon=4., dlat=2., vmax=3.)\n",
    "    end\n",
    "    \n",
    "    \n",
    "    data_presence = occurs .== 1;\n",
    "    data_absence = .!(data_presence);\n",
    "    npre = sum(data_presence)\n",
    "    nabs = sum(data_absence);\n",
    "    \n",
    "    @info(\"Presence data: $(npre), absence data: $(nabs)\")\n",
    "    \n",
    "    # Compute heatmap\n",
    "    inflation = ones(length(lon));\n",
    "    \n",
    "    #@time dens1, LHM, LCV, LSCV = DIVAnd_heatmap(mask, (pm,pn), (xx, yy), \n",
    "    #    (lon, lat), inflation, 0.1);\n",
    "    @time dens2, LHM, LCV, LSCV = DIVAnd_heatmap(mask, (pm,pn), (xx, yy), \n",
    "        (lon[data_presence], lat[data_presence]), inflation[data_presence], 0.5);\n",
    "    @time dens3, LHM, LCV, LSCV = DIVAnd_heatmap(mask, (pm,pn), (xx, yy), \n",
    "        (lon[data_absence], lat[data_absence]), inflation[data_absence], 0.5);\n",
    "    \n",
    "    reldens = npre .* dens2 ./ (npre .* dens2 .+ nabs .* dens3);\n",
    "    \n",
    "    # Compute error field with CPME\n",
    "    cpme = DIVAnd_cpme(mask, (pm, pn), (xx, yy), (lon, lat), ones(length(lon)), 0.5, 10.);\n",
    "    \n",
    "    if doplot\n",
    "        \n",
    "        \n",
    "        plot_heatmap(longrid, latgrid, dens2, lon, lat, occurs,\n",
    "            \"$(speciesname): heatmap with 'presence' data points\", \n",
    "            joinpath(figdir, \"$(speciesslug)_heatmap_presence.png\"), 0., 0.2,\n",
    "            domain=[-16., 9., 45., 66.], dlon=4., dlat=2.)\n",
    "        \n",
    "        \n",
    "        plot_heatmap(longrid, latgrid, dens3, lon, lat, occurs,\n",
    "            \"$(speciesname): heatmap with 'absence' data points\", \n",
    "            joinpath(figdir, \"$(speciesslug)_heatmap_absence.png\"), 0., 0.2,\n",
    "            domain=[-16., 9., 45., 66.], dlon=4., dlat=2.)\n",
    "        \n",
    "        \"\"\"\n",
    "        plot_heatmap(longrid, latgrid, dens3, lon, lat, occurs,\n",
    "            \"$(speciesname): heatmap with all data points\", \n",
    "            joinpath(figdir, \"$(speciesslug)_heatmap_all.png\"), 0., 1.,\n",
    "            domain=[-16., 9., 45., 66.], dlon=4., dlat=2.)\n",
    "        \"\"\"\n",
    "        \n",
    "        plot_heatmap(longrid, latgrid, reldens, lon, lat, occurs,\n",
    "            \"$(speciesname) probability\", \n",
    "            joinpath(figdir, \"$(speciesslug)_heatmap_relative.png\"), 0., 1.,\n",
    "            domain=[-16., 9., 45., 66.], dlon=4., dlat=2.)\n",
    "    end\n",
    "    \n",
    "    # Write in netCDF\n",
    "    create_nc_results(joinpath(outputdir, \"$(speciesslug)_heatmap.nc\"), \n",
    "        longrid, latgrid, reldens, speciesname);\n",
    "    \n",
    "    # Add the error field\n",
    "    write_nc_error(joinpath(outputdir, \"$(speciesslug)_heatmap.nc\"), cpme);\n",
    "    \n",
    "    figname = joinpath(figdir, \"$(speciesslug)_cpme.png\")\n",
    "    @info(\"Saving image as $(figname)\")\n",
    "    \n",
    "    if doplot\n",
    "        plot_error(longrid, latgrid, cpme, \"$(speciesname)\", \n",
    "            joinpath(figdir, \"$(speciesslug)_cpme.png\"),\n",
    "            domain=[-16., 9., 45., 66.], dlon=4., dlat=2.)\n",
    "    end    \n",
    "    \n",
    "end"
   ]
  },
  {
   "cell_type": "code",
   "execution_count": null,
   "metadata": {},
   "outputs": [],
   "source": []
  }
 ],
 "metadata": {
  "@webio": {
   "lastCommId": null,
   "lastKernelId": null
  },
  "kernelspec": {
   "display_name": "Julia 1.4.1",
   "language": "julia",
   "name": "julia-1.4"
  },
  "language_info": {
   "file_extension": ".jl",
   "mimetype": "application/julia",
   "name": "julia",
   "version": "1.4.1"
  }
 },
 "nbformat": 4,
 "nbformat_minor": 2
}
