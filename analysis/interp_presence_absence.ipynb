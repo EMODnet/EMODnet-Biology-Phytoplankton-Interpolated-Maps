{
 "cells": [
  {
   "cell_type": "code",
   "execution_count": 4,
   "metadata": {},
   "outputs": [
    {
     "data": {
      "text/plain": [
       "true"
      ]
     },
     "execution_count": 4,
     "metadata": {},
     "output_type": "execute_result"
    }
   ],
   "source": [
    "using DIVAnd\n",
    "using PyPlot\n",
    "using Proj4\n",
    "using DelimitedFiles\n",
    "using PyCall\n",
    "using Dates\n",
    "using NCDatasets\n",
    "include(\"../scripts/PhytoInterp.jl\")\n",
    "doplot = true"
   ]
  },
  {
   "cell_type": "code",
   "execution_count": 5,
   "metadata": {},
   "outputs": [
    {
     "data": {
      "text/plain": [
       "([2.677667000000006, 3.872167000000008], [51.956167000000036, 51.86900000000005])"
      ]
     },
     "execution_count": 5,
     "metadata": {},
     "output_type": "execute_result"
    }
   ],
   "source": []
  },
  {
   "cell_type": "markdown",
   "metadata": {},
   "source": [
    "## Packages for plotting"
   ]
  },
  {
   "cell_type": "code",
   "execution_count": null,
   "metadata": {},
   "outputs": [],
   "source": []
  },
  {
   "cell_type": "code",
   "execution_count": 79,
   "metadata": {},
   "outputs": [
    {
     "data": {
      "text/plain": [
       "PyObject <cartopy.mpl.ticker.LatitudeFormatter object at 0x7fe291d272d0>"
      ]
     },
     "execution_count": 79,
     "metadata": {},
     "output_type": "execute_result"
    }
   ],
   "source": [
    "if doplot\n",
    "    ccrs = pyimport(\"cartopy.crs\")\n",
    "    gridliner = pyimport(\"cartopy.mpl.gridliner\")\n",
    "    cfeature = pyimport(\"cartopy.feature\")\n",
    "    mticker = pyimport(\"matplotlib.ticker\")\n",
    "    myproj = ccrs.PlateCarree()\n",
    "    coast = cfeature.GSHHSFeature(scale=\"full\");\n",
    "    mpl = pyimport(\"matplotlib\");\n",
    "    cartopyticker = pyimport(\"cartopy.mpl.ticker\")\n",
    "    lon_formatter = cartopyticker.LongitudeFormatter()\n",
    "    lat_formatter = cartopyticker.LatitudeFormatter()\n",
    "end "
   ]
  },
  {
   "cell_type": "markdown",
   "metadata": {},
   "source": [
    "## Files and directories"
   ]
  },
  {
   "cell_type": "code",
   "execution_count": 136,
   "metadata": {},
   "outputs": [
    {
     "name": "stderr",
     "output_type": "stream",
     "text": [
      "┌ Info: Working on 200 files\n",
      "└ @ Main In[136]:3\n"
     ]
    },
    {
     "data": {
      "text/plain": [
       "\" \""
      ]
     },
     "execution_count": 136,
     "metadata": {},
     "output_type": "execute_result"
    }
   ],
   "source": [
    "datadir = \"/data/EMODnet/Biology/phytoplankton/csv/\"\n",
    "datafilelist = readdir(datadir);\n",
    "@info(\"Working on $(length(datafilelist)) files\");\n",
    "figdir = \"./figures/\"\n",
    "outputdir = \"../product/\"\n",
    "#datafile = joinpath(datadir, \"Biddulphia_sinensis1995-2020.csv\")\n",
    "speciesname = \"Biddulphia_sinensis\"\n",
    "isdir(datadir) ? \" \" : mkpath(datadir)\n",
    "isdir(figdir) ? \" \" : mkpath(figdir)\n",
    "#isfile(datafile) ? @info(\"File already downloaded\") : download(\"https://dox.ulg.ac.be/index.php/s/VgLglubaTLetHzc/download\", datafile)"
   ]
  },
  {
   "cell_type": "markdown",
   "metadata": {},
   "source": [
    "## Prepare mask\n",
    "### Interpolation grid"
   ]
  },
  {
   "cell_type": "code",
   "execution_count": 84,
   "metadata": {},
   "outputs": [
    {
     "data": {
      "text/plain": [
       "51.0:0.1:56.0"
      ]
     },
     "execution_count": 84,
     "metadata": {},
     "output_type": "execute_result"
    }
   ],
   "source": [
    "longrid = -2.:0.1:10.\n",
    "latgrid = 51.:0.1:56."
   ]
  },
  {
   "cell_type": "markdown",
   "metadata": {},
   "source": [
    "### Download file"
   ]
  },
  {
   "cell_type": "code",
   "execution_count": 85,
   "metadata": {},
   "outputs": [
    {
     "data": {
      "text/plain": [
       "\"/data/EMODnet/Biology/phytoplankton/csv/gebco_30sec_4.nc\""
      ]
     },
     "execution_count": 85,
     "metadata": {},
     "output_type": "execute_result"
    }
   ],
   "source": [
    "bathname = joinpath(datadir, \"gebco_30sec_4.nc\")\n",
    "if !isfile(bathname)\n",
    "    download(\"https://dox.ulg.ac.be/index.php/s/RSwm4HPHImdZoQP/download\", bathname)\n",
    "else\n",
    "    @info(\"Bathymetry file already downloaded\")\n",
    "end"
   ]
  },
  {
   "cell_type": "markdown",
   "metadata": {},
   "source": [
    "### Read bathymetry"
   ]
  },
  {
   "cell_type": "code",
   "execution_count": null,
   "metadata": {},
   "outputs": [],
   "source": [
    "bx, by, b = load_bath(bathname, true, longrid, latgrid)\n",
    "@show size(b)\n",
    "\n",
    "if doplot\n",
    "    fig = PyPlot.figure()\n",
    "    ax = PyPlot.subplot(111, projection=myproj)\n",
    "    pcolor(bx,by,b', vmin=0.); \n",
    "    colorbar(orientation=\"horizontal\")\n",
    "    title(\"Depth\")\n",
    "    decorate_map(ax)\n",
    "    PyPlot.savefig(joinpath(figdir, \"northsea_bathymetry.png\"), \n",
    "        dpi=300, bbox_inches=\"tight\")\n",
    "    #PyPlot.show()\n",
    "    PyPlot.close()\n",
    "end"
   ]
  },
  {
   "cell_type": "markdown",
   "metadata": {},
   "source": [
    "### Metrics"
   ]
  },
  {
   "cell_type": "code",
   "execution_count": 86,
   "metadata": {},
   "outputs": [],
   "source": [
    "mask, (pm, pn),(xi, yi) = DIVAnd.DIVAnd_rectdom(longrid, latgrid);\n",
    "xi, yi, mask = DIVAnd.load_mask(bathname, true, longrid, latgrid, 0.0);\n",
    "xx, yy = ndgrid(xi, yi);"
   ]
  },
  {
   "cell_type": "markdown",
   "metadata": {},
   "source": [
    "## Main loop"
   ]
  },
  {
   "cell_type": "code",
   "execution_count": 155,
   "metadata": {},
   "outputs": [
    {
     "name": "stderr",
     "output_type": "stream",
     "text": [
      "┌ Info: Working on Coscinodiscus\n",
      "└ @ Main In[155]:3\n",
      "┌ Warning: Data array size (25338,) is larger then maximum 10000. Superobservations will be created. To avoid, increase nmax to the desired number of superobs\n",
      "└ @ DIVAnd /home/ctroupin/.julia/packages/DIVAnd/ZfEqh/src/DIVAnd_heatmap.jl:48\n"
     ]
    },
    {
     "name": "stdout",
     "output_type": "stream",
     "text": [
      "  1.588292 seconds (917.74 k allocations: 1.188 GiB, 3.10% gc time)\n",
      "  4.887784 seconds (550.47 k allocations: 4.178 GiB, 1.76% gc time)\n"
     ]
    },
    {
     "name": "stderr",
     "output_type": "stream",
     "text": [
      "┌ Warning: Data array size (19174,) is larger then maximum 10000. Superobservations will be created. To avoid, increase nmax to the desired number of superobs\n",
      "└ @ DIVAnd /home/ctroupin/.julia/packages/DIVAnd/ZfEqh/src/DIVAnd_heatmap.jl:48\n"
     ]
    },
    {
     "name": "stdout",
     "output_type": "stream",
     "text": [
      "  1.181372 seconds (718.24 k allocations: 1.078 GiB, 1.85% gc time)\n"
     ]
    },
    {
     "name": "stderr",
     "output_type": "stream",
     "text": [
      "┌ Info: Working on Cyclotella\n",
      "└ @ Main In[155]:3\n",
      "┌ Warning: Data array size (12595,) is larger then maximum 10000. Superobservations will be created. To avoid, increase nmax to the desired number of superobs\n",
      "└ @ DIVAnd /home/ctroupin/.julia/packages/DIVAnd/ZfEqh/src/DIVAnd_heatmap.jl:48\n"
     ]
    },
    {
     "name": "stdout",
     "output_type": "stream",
     "text": [
      "  0.141633 seconds (386.54 k allocations: 95.801 MiB)\n",
      "  0.496811 seconds (66.97 k allocations: 522.253 MiB, 4.60% gc time)\n"
     ]
    },
    {
     "name": "stderr",
     "output_type": "stream",
     "text": [
      "┌ Warning: Data array size (11855,) is larger then maximum 10000. Superobservations will be created. To avoid, increase nmax to the desired number of superobs\n",
      "└ @ DIVAnd /home/ctroupin/.julia/packages/DIVAnd/ZfEqh/src/DIVAnd_heatmap.jl:48\n"
     ]
    },
    {
     "name": "stdout",
     "output_type": "stream",
     "text": [
      "  0.138349 seconds (364.21 k allocations: 95.616 MiB, 6.55% gc time)\n"
     ]
    },
    {
     "name": "stderr",
     "output_type": "stream",
     "text": [
      "┌ Info: Working on Cylindrotheca closterium\n",
      "└ @ Main In[155]:3\n",
      "┌ Warning: Data array size (19855,) is larger then maximum 10000. Superobservations will be created. To avoid, increase nmax to the desired number of superobs\n",
      "└ @ DIVAnd /home/ctroupin/.julia/packages/DIVAnd/ZfEqh/src/DIVAnd_heatmap.jl:48\n"
     ]
    },
    {
     "name": "stdout",
     "output_type": "stream",
     "text": [
      "  1.218553 seconds (753.35 k allocations: 1.186 GiB, 2.22% gc time)\n",
      "  3.971999 seconds (539.12 k allocations: 4.088 GiB, 1.86% gc time)\n"
     ]
    },
    {
     "name": "stderr",
     "output_type": "stream",
     "text": [
      "┌ Warning: Data array size (13822,) is larger then maximum 10000. Superobservations will be created. To avoid, increase nmax to the desired number of superobs\n",
      "└ @ DIVAnd /home/ctroupin/.julia/packages/DIVAnd/ZfEqh/src/DIVAnd_heatmap.jl:48\n"
     ]
    },
    {
     "name": "stdout",
     "output_type": "stream",
     "text": [
      "  1.651524 seconds (570.19 k allocations: 1.167 GiB, 1.58% gc time)\n"
     ]
    },
    {
     "name": "stderr",
     "output_type": "stream",
     "text": [
      "┌ Info: Working on Cylindrotheca\n",
      "└ @ Main In[155]:3\n",
      "┌ Warning: Data array size (21525,) is larger then maximum 10000. Superobservations will be created. To avoid, increase nmax to the desired number of superobs\n",
      "└ @ DIVAnd /home/ctroupin/.julia/packages/DIVAnd/ZfEqh/src/DIVAnd_heatmap.jl:48\n"
     ]
    },
    {
     "name": "stdout",
     "output_type": "stream",
     "text": [
      "  1.179746 seconds (806.26 k allocations: 1.207 GiB, 2.62% gc time)\n",
      "  5.520812 seconds (566.09 k allocations: 4.305 GiB, 8.57% gc time)\n"
     ]
    },
    {
     "name": "stderr",
     "output_type": "stream",
     "text": [
      "┌ Warning: Data array size (15189,) is larger then maximum 10000. Superobservations will be created. To avoid, increase nmax to the desired number of superobs\n",
      "└ @ DIVAnd /home/ctroupin/.julia/packages/DIVAnd/ZfEqh/src/DIVAnd_heatmap.jl:48\n"
     ]
    },
    {
     "name": "stdout",
     "output_type": "stream",
     "text": [
      "  1.510042 seconds (614.02 k allocations: 1.189 GiB, 2.17% gc time)\n"
     ]
    },
    {
     "name": "stderr",
     "output_type": "stream",
     "text": [
      "┌ Info: Working on Dictyocha speculum\n",
      "└ @ Main In[155]:3\n",
      "┌ Warning: Data array size (11896,) is larger then maximum 10000. Superobservations will be created. To avoid, increase nmax to the desired number of superobs\n",
      "└ @ DIVAnd /home/ctroupin/.julia/packages/DIVAnd/ZfEqh/src/DIVAnd_heatmap.jl:48\n"
     ]
    },
    {
     "name": "stdout",
     "output_type": "stream",
     "text": [
      "  0.139683 seconds (365.23 k allocations: 92.819 MiB)\n",
      "  0.733002 seconds (92.18 k allocations: 708.626 MiB, 4.27% gc time)\n"
     ]
    },
    {
     "name": "stderr",
     "output_type": "stream",
     "text": [
      "┌ Warning: Data array size (10868,) is larger then maximum 10000. Superobservations will be created. To avoid, increase nmax to the desired number of superobs\n",
      "└ @ DIVAnd /home/ctroupin/.julia/packages/DIVAnd/ZfEqh/src/DIVAnd_heatmap.jl:48\n"
     ]
    },
    {
     "name": "stdout",
     "output_type": "stream",
     "text": [
      "  0.173364 seconds (334.25 k allocations: 92.437 MiB)\n"
     ]
    },
    {
     "name": "stderr",
     "output_type": "stream",
     "text": [
      "┌ Info: Working on Dictyocha\n",
      "└ @ Main In[155]:3\n",
      "┌ Warning: Data array size (13637,) is larger then maximum 10000. Superobservations will be created. To avoid, increase nmax to the desired number of superobs\n",
      "└ @ DIVAnd /home/ctroupin/.julia/packages/DIVAnd/ZfEqh/src/DIVAnd_heatmap.jl:48\n"
     ]
    },
    {
     "name": "stdout",
     "output_type": "stream",
     "text": [
      "  0.199478 seconds (417.81 k allocations: 96.430 MiB, 5.18% gc time)\n",
      "  1.054066 seconds (126.15 k allocations: 962.872 MiB, 2.28% gc time)\n"
     ]
    },
    {
     "name": "stderr",
     "output_type": "stream",
     "text": [
      "┌ Warning: Data array size (12223,) is larger then maximum 10000. Superobservations will be created. To avoid, increase nmax to the desired number of superobs\n",
      "└ @ DIVAnd /home/ctroupin/.julia/packages/DIVAnd/ZfEqh/src/DIVAnd_heatmap.jl:48\n"
     ]
    },
    {
     "name": "stdout",
     "output_type": "stream",
     "text": [
      "  0.164146 seconds (375.25 k allocations: 95.846 MiB)\n"
     ]
    },
    {
     "name": "stderr",
     "output_type": "stream",
     "text": [
      "┌ Info: Working on Dinobryon\n",
      "└ @ Main In[155]:3\n",
      "┌ Warning: Data array size (12566,) is larger then maximum 10000. Superobservations will be created. To avoid, increase nmax to the desired number of superobs\n",
      "└ @ DIVAnd /home/ctroupin/.julia/packages/DIVAnd/ZfEqh/src/DIVAnd_heatmap.jl:48\n"
     ]
    },
    {
     "name": "stdout",
     "output_type": "stream",
     "text": [
      "  0.162080 seconds (385.50 k allocations: 94.505 MiB, 6.81% gc time)\n",
      "  0.611307 seconds (78.78 k allocations: 610.331 MiB, 2.61% gc time)\n"
     ]
    },
    {
     "name": "stderr",
     "output_type": "stream",
     "text": [
      "┌ Warning: Data array size (11693,) is larger then maximum 10000. Superobservations will be created. To avoid, increase nmax to the desired number of superobs\n",
      "└ @ DIVAnd /home/ctroupin/.julia/packages/DIVAnd/ZfEqh/src/DIVAnd_heatmap.jl:48\n"
     ]
    },
    {
     "name": "stdout",
     "output_type": "stream",
     "text": [
      "  0.153225 seconds (359.17 k allocations: 94.236 MiB)\n"
     ]
    },
    {
     "name": "stderr",
     "output_type": "stream",
     "text": [
      "┌ Info: Working on Dinophysis acuminata\n",
      "└ @ Main In[155]:3\n",
      "┌ Warning: Data array size (17776,) is larger then maximum 10000. Superobservations will be created. To avoid, increase nmax to the desired number of superobs\n",
      "└ @ DIVAnd /home/ctroupin/.julia/packages/DIVAnd/ZfEqh/src/DIVAnd_heatmap.jl:48\n"
     ]
    },
    {
     "name": "stdout",
     "output_type": "stream",
     "text": [
      "  1.071775 seconds (636.50 k allocations: 802.810 MiB, 3.04% gc time)\n",
      "  0.902658 seconds (105.67 k allocations: 809.525 MiB, 2.51% gc time)\n"
     ]
    },
    {
     "name": "stderr",
     "output_type": "stream",
     "text": [
      "┌ Warning: Data array size (16595,) is larger then maximum 10000. Superobservations will be created. To avoid, increase nmax to the desired number of superobs\n",
      "└ @ DIVAnd /home/ctroupin/.julia/packages/DIVAnd/ZfEqh/src/DIVAnd_heatmap.jl:48\n"
     ]
    },
    {
     "name": "stdout",
     "output_type": "stream",
     "text": [
      "  1.002710 seconds (600.32 k allocations: 797.855 MiB, 1.92% gc time)\n"
     ]
    },
    {
     "name": "stderr",
     "output_type": "stream",
     "text": [
      "┌ Info: Working on Dinophysis\n",
      "└ @ Main In[155]:3\n",
      "┌ Warning: Data array size (24879,) is larger then maximum 10000. Superobservations will be created. To avoid, increase nmax to the desired number of superobs\n",
      "└ @ DIVAnd /home/ctroupin/.julia/packages/DIVAnd/ZfEqh/src/DIVAnd_heatmap.jl:48\n"
     ]
    },
    {
     "name": "stdout",
     "output_type": "stream",
     "text": [
      "  1.450051 seconds (897.81 k allocations: 1.142 GiB, 2.63% gc time)\n",
      "  1.896784 seconds (197.07 k allocations: 1.449 GiB, 1.73% gc time)\n"
     ]
    },
    {
     "name": "stderr",
     "output_type": "stream",
     "text": [
      "┌ Warning: Data array size (22684,) is larger then maximum 10000. Superobservations will be created. To avoid, increase nmax to the desired number of superobs\n",
      "└ @ DIVAnd /home/ctroupin/.julia/packages/DIVAnd/ZfEqh/src/DIVAnd_heatmap.jl:48\n"
     ]
    },
    {
     "name": "stdout",
     "output_type": "stream",
     "text": [
      "  1.262312 seconds (828.65 k allocations: 1.118 GiB, 2.31% gc time)\n"
     ]
    },
    {
     "name": "stderr",
     "output_type": "stream",
     "text": [
      "┌ Info: Working on Diploneis\n",
      "└ @ Main In[155]:3\n",
      "┌ Warning: Data array size (16029,) is larger then maximum 10000. Superobservations will be created. To avoid, increase nmax to the desired number of superobs\n",
      "└ @ DIVAnd /home/ctroupin/.julia/packages/DIVAnd/ZfEqh/src/DIVAnd_heatmap.jl:48\n"
     ]
    },
    {
     "name": "stdout",
     "output_type": "stream",
     "text": [
      "  1.017255 seconds (587.51 k allocations: 827.216 MiB, 2.19% gc time)\n",
      "  0.556573 seconds (61.37 k allocations: 482.546 MiB, 1.67% gc time)\n"
     ]
    },
    {
     "name": "stderr",
     "output_type": "stream",
     "text": [
      "┌ Warning: Data array size (15356,) is larger then maximum 10000. Superobservations will be created. To avoid, increase nmax to the desired number of superobs\n",
      "└ @ DIVAnd /home/ctroupin/.julia/packages/DIVAnd/ZfEqh/src/DIVAnd_heatmap.jl:48\n"
     ]
    },
    {
     "name": "stdout",
     "output_type": "stream",
     "text": [
      "  0.873467 seconds (567.10 k allocations: 826.503 MiB, 2.53% gc time)\n"
     ]
    },
    {
     "name": "stderr",
     "output_type": "stream",
     "text": [
      "┌ Info: Working on Diplopsalis\n",
      "└ @ Main In[155]:3\n",
      "┌ Warning: Data array size (12861,) is larger then maximum 10000. Superobservations will be created. To avoid, increase nmax to the desired number of superobs\n",
      "└ @ DIVAnd /home/ctroupin/.julia/packages/DIVAnd/ZfEqh/src/DIVAnd_heatmap.jl:48\n"
     ]
    },
    {
     "name": "stdout",
     "output_type": "stream",
     "text": [
      "  0.186066 seconds (394.35 k allocations: 94.683 MiB, 5.97% gc time)\n",
      "  0.704728 seconds (85.08 k allocations: 656.480 MiB, 1.96% gc time)\n"
     ]
    },
    {
     "name": "stderr",
     "output_type": "stream",
     "text": [
      "┌ Warning: Data array size (11915,) is larger then maximum 10000. Superobservations will be created. To avoid, increase nmax to the desired number of superobs\n",
      "└ @ DIVAnd /home/ctroupin/.julia/packages/DIVAnd/ZfEqh/src/DIVAnd_heatmap.jl:48\n"
     ]
    },
    {
     "name": "stdout",
     "output_type": "stream",
     "text": [
      "  0.173416 seconds (365.75 k allocations: 93.733 MiB, 9.85% gc time)\n"
     ]
    },
    {
     "name": "stderr",
     "output_type": "stream",
     "text": [
      "┌ Info: Working on Ditylum brightwellii\n",
      "└ @ Main In[155]:3\n",
      "┌ Warning: Data array size (23454,) is larger then maximum 10000. Superobservations will be created. To avoid, increase nmax to the desired number of superobs\n",
      "└ @ DIVAnd /home/ctroupin/.julia/packages/DIVAnd/ZfEqh/src/DIVAnd_heatmap.jl:48\n"
     ]
    },
    {
     "name": "stdout",
     "output_type": "stream",
     "text": [
      "  1.479384 seconds (858.93 k allocations: 1.170 GiB, 2.45% gc time)\n",
      "  3.072506 seconds (404.68 k allocations: 3.024 GiB, 2.15% gc time)\n"
     ]
    },
    {
     "name": "stderr",
     "output_type": "stream",
     "text": [
      "┌ Warning: Data array size (18928,) is larger then maximum 10000. Superobservations will be created. To avoid, increase nmax to the desired number of superobs\n",
      "└ @ DIVAnd /home/ctroupin/.julia/packages/DIVAnd/ZfEqh/src/DIVAnd_heatmap.jl:48\n"
     ]
    },
    {
     "name": "stdout",
     "output_type": "stream",
     "text": [
      "  1.130477 seconds (716.14 k allocations: 1.117 GiB, 2.30% gc time)\n"
     ]
    },
    {
     "name": "stderr",
     "output_type": "stream",
     "text": [
      "┌ Info: Working on Ditylum\n",
      "└ @ Main In[155]:3\n",
      "┌ Warning: Data array size (25727,) is larger then maximum 10000. Superobservations will be created. To avoid, increase nmax to the desired number of superobs\n",
      "└ @ DIVAnd /home/ctroupin/.julia/packages/DIVAnd/ZfEqh/src/DIVAnd_heatmap.jl:48\n"
     ]
    },
    {
     "name": "stdout",
     "output_type": "stream",
     "text": [
      "  1.435687 seconds (929.32 k allocations: 1.188 GiB, 2.53% gc time)\n",
      "  2.977743 seconds (420.52 k allocations: 3.147 GiB, 2.10% gc time)\n"
     ]
    },
    {
     "name": "stderr",
     "output_type": "stream",
     "text": [
      "┌ Warning: Data array size (21023,) is larger then maximum 10000. Superobservations will be created. To avoid, increase nmax to the desired number of superobs\n",
      "└ @ DIVAnd /home/ctroupin/.julia/packages/DIVAnd/ZfEqh/src/DIVAnd_heatmap.jl:48\n"
     ]
    },
    {
     "name": "stdout",
     "output_type": "stream",
     "text": [
      "  1.255441 seconds (781.37 k allocations: 1.136 GiB, 2.00% gc time)\n"
     ]
    },
    {
     "name": "stderr",
     "output_type": "stream",
     "text": [
      "┌ Info: Working on Entomoneis\n",
      "└ @ Main In[155]:3\n",
      "┌ Warning: Data array size (10402,) is larger then maximum 10000. Superobservations will be created. To avoid, increase nmax to the desired number of superobs\n",
      "└ @ DIVAnd /home/ctroupin/.julia/packages/DIVAnd/ZfEqh/src/DIVAnd_heatmap.jl:48\n"
     ]
    },
    {
     "name": "stdout",
     "output_type": "stream",
     "text": [
      "  0.140911 seconds (320.58 k allocations: 93.201 MiB, 7.10% gc time)\n",
      "  0.651654 seconds (68.33 k allocations: 534.066 MiB, 1.56% gc time)\n",
      "  6.793908 seconds (860.82 k allocations: 6.767 GiB, 2.01% gc time)\n"
     ]
    },
    {
     "name": "stderr",
     "output_type": "stream",
     "text": [
      "┌ Info: Working on Ethmodiscus\n",
      "└ @ Main In[155]:3\n"
     ]
    },
    {
     "name": "stdout",
     "output_type": "stream",
     "text": [
      "  2.043552 seconds (289.50 k allocations: 2.139 GiB, 2.30% gc time)\n",
      "  0.712173 seconds (76.18 k allocations: 591.794 MiB, 1.29% gc time)\n",
      "  1.814963 seconds (214.65 k allocations: 1.579 GiB, 1.94% gc time)\n"
     ]
    },
    {
     "name": "stderr",
     "output_type": "stream",
     "text": [
      "┌ Info: Working on Eucampia striata\n",
      "└ @ Main In[155]:3\n",
      "┌ Warning: Data array size (14568,) is larger then maximum 10000. Superobservations will be created. To avoid, increase nmax to the desired number of superobs\n",
      "└ @ DIVAnd /home/ctroupin/.julia/packages/DIVAnd/ZfEqh/src/DIVAnd_heatmap.jl:48\n"
     ]
    },
    {
     "name": "stdout",
     "output_type": "stream",
     "text": [
      "  1.480473 seconds (591.91 k allocations: 1.161 GiB, 2.03% gc time)\n",
      "  1.145162 seconds (125.36 k allocations: 959.444 MiB, 1.34% gc time)\n"
     ]
    },
    {
     "name": "stderr",
     "output_type": "stream",
     "text": [
      "┌ Warning: Data array size (13168,) is larger then maximum 10000. Superobservations will be created. To avoid, increase nmax to the desired number of superobs\n",
      "└ @ DIVAnd /home/ctroupin/.julia/packages/DIVAnd/ZfEqh/src/DIVAnd_heatmap.jl:48\n"
     ]
    },
    {
     "name": "stdout",
     "output_type": "stream",
     "text": [
      "  1.269308 seconds (544.93 k allocations: 1.125 GiB, 2.06% gc time)\n"
     ]
    },
    {
     "name": "stderr",
     "output_type": "stream",
     "text": [
      "┌ Info: Working on Eucampia zodiacus\n",
      "└ @ Main In[155]:3\n",
      "┌ Warning: Data array size (22870,) is larger then maximum 10000. Superobservations will be created. To avoid, increase nmax to the desired number of superobs\n",
      "└ @ DIVAnd /home/ctroupin/.julia/packages/DIVAnd/ZfEqh/src/DIVAnd_heatmap.jl:48\n"
     ]
    },
    {
     "name": "stdout",
     "output_type": "stream",
     "text": [
      "  1.434914 seconds (838.77 k allocations: 1.150 GiB, 2.63% gc time)\n",
      "  1.965184 seconds (259.75 k allocations: 1.918 GiB, 1.73% gc time)\n"
     ]
    },
    {
     "name": "stderr",
     "output_type": "stream",
     "text": [
      "┌ Warning: Data array size (19976,) is larger then maximum 10000. Superobservations will be created. To avoid, increase nmax to the desired number of superobs\n",
      "└ @ DIVAnd /home/ctroupin/.julia/packages/DIVAnd/ZfEqh/src/DIVAnd_heatmap.jl:48\n"
     ]
    },
    {
     "name": "stdout",
     "output_type": "stream",
     "text": [
      "  1.370460 seconds (746.35 k allocations: 1.109 GiB, 1.80% gc time)\n"
     ]
    },
    {
     "name": "stderr",
     "output_type": "stream",
     "text": [
      "┌ Info: Working on Eucampia\n",
      "└ @ Main In[155]:3\n",
      "┌ Warning: Data array size (25703,) is larger then maximum 10000. Superobservations will be created. To avoid, increase nmax to the desired number of superobs\n",
      "└ @ DIVAnd /home/ctroupin/.julia/packages/DIVAnd/ZfEqh/src/DIVAnd_heatmap.jl:48\n"
     ]
    },
    {
     "name": "stdout",
     "output_type": "stream",
     "text": [
      "  1.242358 seconds (928.51 k allocations: 1.187 GiB, 1.93% gc time)\n",
      "  2.947556 seconds (336.74 k allocations: 2.501 GiB, 1.55% gc time)\n"
     ]
    },
    {
     "name": "stderr",
     "output_type": "stream",
     "text": [
      "┌ Warning: Data array size (21944,) is larger then maximum 10000. Superobservations will be created. To avoid, increase nmax to the desired number of superobs\n",
      "└ @ DIVAnd /home/ctroupin/.julia/packages/DIVAnd/ZfEqh/src/DIVAnd_heatmap.jl:48\n"
     ]
    },
    {
     "name": "stdout",
     "output_type": "stream",
     "text": [
      "  1.259109 seconds (809.88 k allocations: 1.143 GiB, 2.36% gc time)\n"
     ]
    },
    {
     "name": "stderr",
     "output_type": "stream",
     "text": [
      "┌ Info: Working on Euglena\n",
      "└ @ Main In[155]:3\n"
     ]
    },
    {
     "name": "stdout",
     "output_type": "stream",
     "text": [
      "  6.609592 seconds (812.65 k allocations: 6.352 GiB, 1.79% gc time)\n",
      "  0.178836 seconds (14.04 k allocations: 129.659 MiB, 3.16% gc time)\n",
      "  7.210498 seconds (801.39 k allocations: 6.256 GiB, 1.64% gc time)\n"
     ]
    },
    {
     "name": "stderr",
     "output_type": "stream",
     "text": [
      "┌ Info: Working on Eunotogramma dubium\n",
      "└ @ Main In[155]:3\n",
      "┌ Warning: Data array size (11492,) is larger then maximum 10000. Superobservations will be created. To avoid, increase nmax to the desired number of superobs\n",
      "└ @ DIVAnd /home/ctroupin/.julia/packages/DIVAnd/ZfEqh/src/DIVAnd_heatmap.jl:48\n"
     ]
    },
    {
     "name": "stdout",
     "output_type": "stream",
     "text": [
      "  0.228026 seconds (352.77 k allocations: 90.015 MiB, 17.71% gc time)\n",
      "  2.346018 seconds (282.45 k allocations: 2.088 GiB, 1.67% gc time)\n",
      "  6.051739 seconds (744.12 k allocations: 5.770 GiB, 1.75% gc time)\n"
     ]
    },
    {
     "name": "stderr",
     "output_type": "stream",
     "text": [
      "┌ Info: Working on Eunotogramma\n",
      "└ @ Main In[155]:3\n",
      "┌ Warning: Data array size (12836,) is larger then maximum 10000. Superobservations will be created. To avoid, increase nmax to the desired number of superobs\n",
      "└ @ DIVAnd /home/ctroupin/.julia/packages/DIVAnd/ZfEqh/src/DIVAnd_heatmap.jl:48\n"
     ]
    },
    {
     "name": "stdout",
     "output_type": "stream",
     "text": [
      "  0.143488 seconds (393.60 k allocations: 94.668 MiB)\n",
      "  2.194786 seconds (282.45 k allocations: 2.088 GiB, 1.86% gc time)\n",
      "  6.323038 seconds (863.74 k allocations: 6.790 GiB, 1.86% gc time)\n"
     ]
    },
    {
     "name": "stderr",
     "output_type": "stream",
     "text": [
      "┌ Info: Working on Eupodiscus\n",
      "└ @ Main In[155]:3\n",
      "┌ Warning: Data array size (10570,) is larger then maximum 10000. Superobservations will be created. To avoid, increase nmax to the desired number of superobs\n",
      "└ @ DIVAnd /home/ctroupin/.julia/packages/DIVAnd/ZfEqh/src/DIVAnd_heatmap.jl:48\n"
     ]
    },
    {
     "name": "stdout",
     "output_type": "stream",
     "text": [
      "  0.265189 seconds (323.83 k allocations: 79.993 MiB)\n",
      "  0.673086 seconds (69.57 k allocations: 543.227 MiB, 2.53% gc time)\n",
      "  7.855830 seconds (874.74 k allocations: 6.888 GiB, 1.51% gc time)\n"
     ]
    },
    {
     "name": "stderr",
     "output_type": "stream",
     "text": [
      "┌ Info: Working on Eutreptiella\n",
      "└ @ Main In[155]:3\n",
      "┌ Warning: Data array size (10951,) is larger then maximum 10000. Superobservations will be created. To avoid, increase nmax to the desired number of superobs\n",
      "└ @ DIVAnd /home/ctroupin/.julia/packages/DIVAnd/ZfEqh/src/DIVAnd_heatmap.jl:48\n"
     ]
    },
    {
     "name": "stdout",
     "output_type": "stream",
     "text": [
      "  0.145669 seconds (336.97 k allocations: 92.890 MiB, 6.87% gc time)\n",
      "  1.829115 seconds (271.96 k allocations: 2.008 GiB, 1.76% gc time)\n",
      "  5.538253 seconds (706.46 k allocations: 5.456 GiB, 1.68% gc time)\n"
     ]
    },
    {
     "name": "stderr",
     "output_type": "stream",
     "text": [
      "┌ Info: Working on Fibrocapsa\n",
      "└ @ Main In[155]:3\n",
      "┌ Warning: Data array size (12012,) is larger then maximum 10000. Superobservations will be created. To avoid, increase nmax to the desired number of superobs\n",
      "└ @ DIVAnd /home/ctroupin/.julia/packages/DIVAnd/ZfEqh/src/DIVAnd_heatmap.jl:48\n"
     ]
    },
    {
     "name": "stdout",
     "output_type": "stream",
     "text": [
      "  0.129668 seconds (368.80 k allocations: 93.529 MiB)\n",
      "  0.674544 seconds (87.17 k allocations: 673.769 MiB, 2.87% gc time)\n"
     ]
    },
    {
     "name": "stderr",
     "output_type": "stream",
     "text": [
      "┌ Warning: Data array size (11046,) is larger then maximum 10000. Superobservations will be created. To avoid, increase nmax to the desired number of superobs\n",
      "└ @ DIVAnd /home/ctroupin/.julia/packages/DIVAnd/ZfEqh/src/DIVAnd_heatmap.jl:48\n"
     ]
    },
    {
     "name": "stdout",
     "output_type": "stream",
     "text": [
      "  0.215050 seconds (339.68 k allocations: 93.189 MiB)\n"
     ]
    },
    {
     "name": "stderr",
     "output_type": "stream",
     "text": [
      "┌ Info: Working on Fragilaria\n",
      "└ @ Main In[155]:3\n",
      "┌ Warning: Data array size (24096,) is larger then maximum 10000. Superobservations will be created. To avoid, increase nmax to the desired number of superobs\n",
      "└ @ DIVAnd /home/ctroupin/.julia/packages/DIVAnd/ZfEqh/src/DIVAnd_heatmap.jl:48\n"
     ]
    },
    {
     "name": "stdout",
     "output_type": "stream",
     "text": [
      "  1.147649 seconds (873.79 k allocations: 1.138 GiB, 2.62% gc time)\n",
      "  1.199264 seconds (171.12 k allocations: 1.273 GiB, 1.70% gc time)\n"
     ]
    },
    {
     "name": "stderr",
     "output_type": "stream",
     "text": [
      "┌ Warning: Data array size (22172,) is larger then maximum 10000. Superobservations will be created. To avoid, increase nmax to the desired number of superobs\n",
      "└ @ DIVAnd /home/ctroupin/.julia/packages/DIVAnd/ZfEqh/src/DIVAnd_heatmap.jl:48\n"
     ]
    },
    {
     "name": "stdout",
     "output_type": "stream",
     "text": [
      "  1.120469 seconds (812.32 k allocations: 1.110 GiB, 1.83% gc time)\n"
     ]
    },
    {
     "name": "stderr",
     "output_type": "stream",
     "text": [
      "┌ Info: Working on Gonyaulax\n",
      "└ @ Main In[155]:3\n",
      "┌ Warning: Data array size (24617,) is larger then maximum 10000. Superobservations will be created. To avoid, increase nmax to the desired number of superobs\n",
      "└ @ DIVAnd /home/ctroupin/.julia/packages/DIVAnd/ZfEqh/src/DIVAnd_heatmap.jl:48\n"
     ]
    },
    {
     "name": "stdout",
     "output_type": "stream",
     "text": [
      "  1.142495 seconds (891.36 k allocations: 1.152 GiB, 2.39% gc time)\n",
      "  0.807734 seconds (107.43 k allocations: 823.132 MiB, 1.59% gc time)\n"
     ]
    },
    {
     "name": "stderr",
     "output_type": "stream",
     "text": [
      "┌ Warning: Data array size (23417,) is larger then maximum 10000. Superobservations will be created. To avoid, increase nmax to the desired number of superobs\n",
      "└ @ DIVAnd /home/ctroupin/.julia/packages/DIVAnd/ZfEqh/src/DIVAnd_heatmap.jl:48\n"
     ]
    },
    {
     "name": "stdout",
     "output_type": "stream",
     "text": [
      "  1.579938 seconds (854.07 k allocations: 1.144 GiB, 25.60% gc time)\n"
     ]
    },
    {
     "name": "stderr",
     "output_type": "stream",
     "text": [
      "┌ Info: Working on Gymnodinium simplex\n",
      "└ @ Main In[155]:3\n"
     ]
    },
    {
     "name": "stdout",
     "output_type": "stream",
     "text": [
      "  4.703324 seconds (637.73 k allocations: 4.888 GiB, 2.34% gc time)\n",
      "  0.576478 seconds (81.28 k allocations: 630.143 MiB, 3.33% gc time)\n",
      "  3.847478 seconds (557.72 k allocations: 4.237 GiB, 2.36% gc time)\n"
     ]
    },
    {
     "name": "stderr",
     "output_type": "stream",
     "text": [
      "┌ Info: Working on Gymnodinium\n",
      "└ @ Main In[155]:3\n",
      "┌ Warning: Data array size (12767,) is larger then maximum 10000. Superobservations will be created. To avoid, increase nmax to the desired number of superobs\n",
      "└ @ DIVAnd /home/ctroupin/.julia/packages/DIVAnd/ZfEqh/src/DIVAnd_heatmap.jl:48\n"
     ]
    },
    {
     "name": "stdout",
     "output_type": "stream",
     "text": [
      "  0.134274 seconds (391.70 k allocations: 95.905 MiB)\n",
      "  1.396220 seconds (205.26 k allocations: 1.509 GiB, 2.94% gc time)\n"
     ]
    },
    {
     "name": "stderr",
     "output_type": "stream",
     "text": [
      "┌ Warning: Data array size (10479,) is larger then maximum 10000. Superobservations will be created. To avoid, increase nmax to the desired number of superobs\n",
      "└ @ DIVAnd /home/ctroupin/.julia/packages/DIVAnd/ZfEqh/src/DIVAnd_heatmap.jl:48\n"
     ]
    },
    {
     "name": "stdout",
     "output_type": "stream",
     "text": [
      "  0.119379 seconds (322.84 k allocations: 94.116 MiB, 5.31% gc time)\n"
     ]
    },
    {
     "name": "stderr",
     "output_type": "stream",
     "text": [
      "┌ Info: Working on Gyrodinium spirale\n",
      "└ @ Main In[155]:3\n",
      "┌ Warning: Data array size (12311,) is larger then maximum 10000. Superobservations will be created. To avoid, increase nmax to the desired number of superobs\n",
      "└ @ DIVAnd /home/ctroupin/.julia/packages/DIVAnd/ZfEqh/src/DIVAnd_heatmap.jl:48\n"
     ]
    },
    {
     "name": "stdout",
     "output_type": "stream",
     "text": [
      "  0.124032 seconds (377.68 k allocations: 93.069 MiB)\n",
      "  2.701924 seconds (394.50 k allocations: 2.946 GiB, 3.33% gc time)\n",
      "  4.812726 seconds (705.06 k allocations: 5.443 GiB, 2.39% gc time)\n"
     ]
    },
    {
     "name": "stderr",
     "output_type": "stream",
     "text": [
      "┌ Info: Working on Gyrodinium\n",
      "└ @ Main In[155]:3\n",
      "┌ Warning: Data array size (14756,) is larger then maximum 10000. Superobservations will be created. To avoid, increase nmax to the desired number of superobs\n",
      "└ @ DIVAnd /home/ctroupin/.julia/packages/DIVAnd/ZfEqh/src/DIVAnd_heatmap.jl:48\n"
     ]
    },
    {
     "name": "stdout",
     "output_type": "stream",
     "text": [
      "  0.443903 seconds (489.57 k allocations: 383.419 MiB, 3.47% gc time)\n",
      "  3.745307 seconds (568.01 k allocations: 4.318 GiB, 2.20% gc time)\n",
      "  5.206274 seconds (749.05 k allocations: 5.814 GiB, 2.20% gc time)\n"
     ]
    },
    {
     "name": "stderr",
     "output_type": "stream",
     "text": [
      "┌ Info: Working on Gyrosigma\n",
      "└ @ Main In[155]:3\n",
      "┌ Warning: Data array size (22364,) is larger then maximum 10000. Superobservations will be created. To avoid, increase nmax to the desired number of superobs\n",
      "└ @ DIVAnd /home/ctroupin/.julia/packages/DIVAnd/ZfEqh/src/DIVAnd_heatmap.jl:48\n"
     ]
    },
    {
     "name": "stdout",
     "output_type": "stream",
     "text": [
      "  1.156159 seconds (821.74 k allocations: 1.136 GiB, 2.49% gc time)\n",
      "  0.959653 seconds (146.02 k allocations: 1.089 GiB, 2.27% gc time)\n"
     ]
    },
    {
     "name": "stderr",
     "output_type": "stream",
     "text": [
      "┌ Warning: Data array size (20729,) is larger then maximum 10000. Superobservations will be created. To avoid, increase nmax to the desired number of superobs\n",
      "└ @ DIVAnd /home/ctroupin/.julia/packages/DIVAnd/ZfEqh/src/DIVAnd_heatmap.jl:48\n"
     ]
    },
    {
     "name": "stdout",
     "output_type": "stream",
     "text": [
      "  1.054733 seconds (770.17 k allocations: 1.118 GiB, 2.32% gc time)\n"
     ]
    },
    {
     "name": "stderr",
     "output_type": "stream",
     "text": [
      "┌ Info: Working on Helicotheca tamesis\n",
      "└ @ Main In[155]:3\n",
      "┌ Warning: Data array size (15599,) is larger then maximum 10000. Superobservations will be created. To avoid, increase nmax to the desired number of superobs\n",
      "└ @ DIVAnd /home/ctroupin/.julia/packages/DIVAnd/ZfEqh/src/DIVAnd_heatmap.jl:48\n"
     ]
    },
    {
     "name": "stdout",
     "output_type": "stream",
     "text": [
      "  0.704241 seconds (564.32 k allocations: 750.097 MiB, 3.00% gc time)\n",
      "  0.798608 seconds (109.61 k allocations: 841.210 MiB, 2.40% gc time)\n"
     ]
    },
    {
     "name": "stderr",
     "output_type": "stream",
     "text": [
      "┌ Warning: Data array size (14378,) is larger then maximum 10000. Superobservations will be created. To avoid, increase nmax to the desired number of superobs\n",
      "└ @ DIVAnd /home/ctroupin/.julia/packages/DIVAnd/ZfEqh/src/DIVAnd_heatmap.jl:48\n"
     ]
    },
    {
     "name": "stdout",
     "output_type": "stream",
     "text": [
      "  0.672101 seconds (522.71 k allocations: 713.596 MiB, 2.26% gc time)\n"
     ]
    },
    {
     "name": "stderr",
     "output_type": "stream",
     "text": [
      "┌ Info: Working on Helicotheca\n",
      "└ @ Main In[155]:3\n",
      "┌ Warning: Data array size (17305,) is larger then maximum 10000. Superobservations will be created. To avoid, increase nmax to the desired number of superobs\n",
      "└ @ DIVAnd /home/ctroupin/.julia/packages/DIVAnd/ZfEqh/src/DIVAnd_heatmap.jl:48\n"
     ]
    },
    {
     "name": "stdout",
     "output_type": "stream",
     "text": [
      "  0.723613 seconds (617.87 k allocations: 768.829 MiB, 3.31% gc time)\n",
      "  0.760688 seconds (113.22 k allocations: 868.208 MiB, 2.32% gc time)\n"
     ]
    },
    {
     "name": "stderr",
     "output_type": "stream",
     "text": [
      "┌ Warning: Data array size (16043,) is larger then maximum 10000. Superobservations will be created. To avoid, increase nmax to the desired number of superobs\n",
      "└ @ DIVAnd /home/ctroupin/.julia/packages/DIVAnd/ZfEqh/src/DIVAnd_heatmap.jl:48\n"
     ]
    },
    {
     "name": "stdout",
     "output_type": "stream",
     "text": [
      "  0.706716 seconds (574.95 k allocations: 731.672 MiB, 1.57% gc time)\n"
     ]
    },
    {
     "name": "stderr",
     "output_type": "stream",
     "text": [
      "┌ Info: Working on Heterocapsa minima\n",
      "└ @ Main In[155]:3\n"
     ]
    },
    {
     "name": "stdout",
     "output_type": "stream",
     "text": [
      "  5.752991 seconds (837.34 k allocations: 6.565 GiB, 2.09% gc time)\n",
      "  2.085216 seconds (330.15 k allocations: 2.451 GiB, 2.14% gc time)\n",
      "  3.328354 seconds (509.39 k allocations: 3.849 GiB, 2.11% gc time)\n"
     ]
    },
    {
     "name": "stderr",
     "output_type": "stream",
     "text": [
      "┌ Info: Working on Heterocapsa rotundata\n",
      "└ @ Main In[155]:3\n"
     ]
    },
    {
     "name": "stdout",
     "output_type": "stream",
     "text": [
      "  3.218221 seconds (466.25 k allocations: 3.504 GiB, 1.93% gc time)\n",
      "  1.113079 seconds (148.53 k allocations: 1.105 GiB, 1.94% gc time)\n",
      "  2.380680 seconds (318.23 k allocations: 2.359 GiB, 1.99% gc time)\n"
     ]
    },
    {
     "name": "stderr",
     "output_type": "stream",
     "text": [
      "┌ Info: Working on Heterocapsa triquetra\n",
      "└ @ Main In[155]:3\n",
      "┌ Warning: Data array size (11510,) is larger then maximum 10000. Superobservations will be created. To avoid, increase nmax to the desired number of superobs\n",
      "└ @ DIVAnd /home/ctroupin/.julia/packages/DIVAnd/ZfEqh/src/DIVAnd_heatmap.jl:48\n"
     ]
    },
    {
     "name": "stdout",
     "output_type": "stream",
     "text": [
      "  0.149998 seconds (353.91 k allocations: 94.508 MiB, 10.32% gc time)\n",
      "  0.699549 seconds (101.71 k allocations: 780.783 MiB, 1.31% gc time)\n"
     ]
    },
    {
     "name": "stderr",
     "output_type": "stream",
     "text": [
      "┌ Warning: Data array size (10376,) is larger then maximum 10000. Superobservations will be created. To avoid, increase nmax to the desired number of superobs\n",
      "└ @ DIVAnd /home/ctroupin/.julia/packages/DIVAnd/ZfEqh/src/DIVAnd_heatmap.jl:48\n"
     ]
    },
    {
     "name": "stdout",
     "output_type": "stream",
     "text": [
      "  0.146696 seconds (319.66 k allocations: 93.412 MiB, 4.11% gc time)\n"
     ]
    },
    {
     "name": "stderr",
     "output_type": "stream",
     "text": [
      "┌ Info: Working on Heterocapsa\n",
      "└ @ Main In[155]:3\n",
      "┌ Warning: Data array size (13354,) is larger then maximum 10000. Superobservations will be created. To avoid, increase nmax to the desired number of superobs\n",
      "└ @ DIVAnd /home/ctroupin/.julia/packages/DIVAnd/ZfEqh/src/DIVAnd_heatmap.jl:48\n"
     ]
    },
    {
     "name": "stdout",
     "output_type": "stream",
     "text": [
      "  0.136411 seconds (409.40 k allocations: 96.899 MiB)\n",
      "  3.891008 seconds (596.02 k allocations: 4.545 GiB, 2.37% gc time)\n",
      "  3.938031 seconds (596.26 k allocations: 4.549 GiB, 1.91% gc time)\n"
     ]
    },
    {
     "name": "stderr",
     "output_type": "stream",
     "text": [
      "┌ Info: Working on Katodinium glaucum\n",
      "└ @ Main In[155]:3\n",
      "┌ Warning: Data array size (11414,) is larger then maximum 10000. Superobservations will be created. To avoid, increase nmax to the desired number of superobs\n",
      "└ @ DIVAnd /home/ctroupin/.julia/packages/DIVAnd/ZfEqh/src/DIVAnd_heatmap.jl:48\n"
     ]
    },
    {
     "name": "stdout",
     "output_type": "stream",
     "text": [
      "  0.160250 seconds (353.35 k allocations: 111.773 MiB, 10.48% gc time)\n",
      "  2.262315 seconds (358.21 k allocations: 2.663 GiB, 1.86% gc time)\n",
      "  4.356055 seconds (661.41 k allocations: 5.082 GiB, 1.94% gc time)\n"
     ]
    },
    {
     "name": "stderr",
     "output_type": "stream",
     "text": [
      "┌ Info: Working on Katodinium\n",
      "└ @ Main In[155]:3\n",
      "┌ Warning: Data array size (13654,) is larger then maximum 10000. Superobservations will be created. To avoid, increase nmax to the desired number of superobs\n",
      "└ @ DIVAnd /home/ctroupin/.julia/packages/DIVAnd/ZfEqh/src/DIVAnd_heatmap.jl:48\n"
     ]
    },
    {
     "name": "stdout",
     "output_type": "stream",
     "text": [
      "  0.152928 seconds (420.98 k allocations: 116.326 MiB)\n",
      "  2.622515 seconds (390.26 k allocations: 2.911 GiB, 2.25% gc time)\n",
      "  5.541255 seconds (828.73 k allocations: 6.491 GiB, 1.93% gc time)\n"
     ]
    },
    {
     "name": "stderr",
     "output_type": "stream",
     "text": [
      "┌ Info: Working on Lauderia annulata\n",
      "└ @ Main In[155]:3\n",
      "┌ Warning: Data array size (22051,) is larger then maximum 10000. Superobservations will be created. To avoid, increase nmax to the desired number of superobs\n",
      "└ @ DIVAnd /home/ctroupin/.julia/packages/DIVAnd/ZfEqh/src/DIVAnd_heatmap.jl:48\n"
     ]
    },
    {
     "name": "stdout",
     "output_type": "stream",
     "text": [
      "  1.104355 seconds (813.32 k allocations: 1.143 GiB, 2.36% gc time)\n",
      "  1.442339 seconds (222.10 k allocations: 1.637 GiB, 2.16% gc time)\n"
     ]
    },
    {
     "name": "stderr",
     "output_type": "stream",
     "text": [
      "┌ Warning: Data array size (19580,) is larger then maximum 10000. Superobservations will be created. To avoid, increase nmax to the desired number of superobs\n",
      "└ @ DIVAnd /home/ctroupin/.julia/packages/DIVAnd/ZfEqh/src/DIVAnd_heatmap.jl:48\n"
     ]
    },
    {
     "name": "stdout",
     "output_type": "stream",
     "text": [
      "  1.171612 seconds (737.90 k allocations: 1.134 GiB, 1.65% gc time)\n"
     ]
    },
    {
     "name": "stderr",
     "output_type": "stream",
     "text": [
      "┌ Info: Working on Lauderia\n",
      "└ @ Main In[155]:3\n",
      "┌ Warning: Data array size (24717,) is larger then maximum 10000. Superobservations will be created. To avoid, increase nmax to the desired number of superobs\n",
      "└ @ DIVAnd /home/ctroupin/.julia/packages/DIVAnd/ZfEqh/src/DIVAnd_heatmap.jl:48\n"
     ]
    },
    {
     "name": "stdout",
     "output_type": "stream",
     "text": [
      "  1.241765 seconds (895.67 k allocations: 1.162 GiB, 2.30% gc time)\n",
      "  2.418541 seconds (270.45 k allocations: 1.998 GiB, 1.65% gc time)\n"
     ]
    },
    {
     "name": "stderr",
     "output_type": "stream",
     "text": [
      "┌ Warning: Data array size (21702,) is larger then maximum 10000. Superobservations will be created. To avoid, increase nmax to the desired number of superobs\n",
      "└ @ DIVAnd /home/ctroupin/.julia/packages/DIVAnd/ZfEqh/src/DIVAnd_heatmap.jl:48\n"
     ]
    },
    {
     "name": "stdout",
     "output_type": "stream",
     "text": [
      "  1.426537 seconds (803.15 k allocations: 1.147 GiB, 1.50% gc time)\n"
     ]
    },
    {
     "name": "stderr",
     "output_type": "stream",
     "text": [
      "┌ Info: Working on Leptocylindrus danicus\n",
      "└ @ Main In[155]:3\n",
      "┌ Warning: Data array size (22375,) is larger then maximum 10000. Superobservations will be created. To avoid, increase nmax to the desired number of superobs\n",
      "└ @ DIVAnd /home/ctroupin/.julia/packages/DIVAnd/ZfEqh/src/DIVAnd_heatmap.jl:48\n"
     ]
    },
    {
     "name": "stdout",
     "output_type": "stream",
     "text": [
      "  1.200751 seconds (822.86 k allocations: 1.142 GiB, 2.79% gc time)\n",
      "  2.129101 seconds (344.85 k allocations: 2.562 GiB, 1.92% gc time)\n"
     ]
    },
    {
     "name": "stderr",
     "output_type": "stream",
     "text": [
      "┌ Warning: Data array size (18523,) is larger then maximum 10000. Superobservations will be created. To avoid, increase nmax to the desired number of superobs\n",
      "└ @ DIVAnd /home/ctroupin/.julia/packages/DIVAnd/ZfEqh/src/DIVAnd_heatmap.jl:48\n"
     ]
    },
    {
     "name": "stdout",
     "output_type": "stream",
     "text": [
      "  1.043354 seconds (703.20 k allocations: 1.111 GiB, 1.86% gc time)\n"
     ]
    },
    {
     "name": "stderr",
     "output_type": "stream",
     "text": [
      "┌ Info: Working on Leptocylindrus minimus\n",
      "└ @ Main In[155]:3\n",
      "┌ Warning: Data array size (12309,) is larger then maximum 10000. Superobservations will be created. To avoid, increase nmax to the desired number of superobs\n",
      "└ @ DIVAnd /home/ctroupin/.julia/packages/DIVAnd/ZfEqh/src/DIVAnd_heatmap.jl:48\n"
     ]
    },
    {
     "name": "stdout",
     "output_type": "stream",
     "text": [
      "  0.183705 seconds (381.58 k allocations: 122.567 MiB)\n",
      "  1.666828 seconds (257.43 k allocations: 1.899 GiB, 2.19% gc time)\n",
      "  6.208199 seconds (841.85 k allocations: 6.602 GiB, 1.77% gc time)\n"
     ]
    },
    {
     "name": "stderr",
     "output_type": "stream",
     "text": [
      "┌ Info: Working on Leptocylindrus\n",
      "└ @ Main In[155]:3\n",
      "┌ Warning: Data array size (24557,) is larger then maximum 10000. Superobservations will be created. To avoid, increase nmax to the desired number of superobs\n",
      "└ @ DIVAnd /home/ctroupin/.julia/packages/DIVAnd/ZfEqh/src/DIVAnd_heatmap.jl:48\n"
     ]
    },
    {
     "name": "stdout",
     "output_type": "stream",
     "text": [
      "  1.257460 seconds (890.79 k allocations: 1.162 GiB, 1.99% gc time)\n",
      "  3.681328 seconds (463.75 k allocations: 3.487 GiB, 1.57% gc time)\n"
     ]
    },
    {
     "name": "stderr",
     "output_type": "stream",
     "text": [
      "┌ Warning: Data array size (19368,) is larger then maximum 10000. Superobservations will be created. To avoid, increase nmax to the desired number of superobs\n",
      "└ @ DIVAnd /home/ctroupin/.julia/packages/DIVAnd/ZfEqh/src/DIVAnd_heatmap.jl:48\n"
     ]
    },
    {
     "name": "stdout",
     "output_type": "stream",
     "text": [
      "  1.250619 seconds (731.10 k allocations: 1.130 GiB, 1.58% gc time)\n"
     ]
    },
    {
     "name": "stderr",
     "output_type": "stream",
     "text": [
      "┌ Info: Working on Leucocryptos marina\n",
      "└ @ Main In[155]:3\n"
     ]
    },
    {
     "name": "stdout",
     "output_type": "stream",
     "text": [
      "  5.318177 seconds (767.96 k allocations: 5.972 GiB, 1.81% gc time)\n",
      "  1.307933 seconds (199.34 k allocations: 1.465 GiB, 2.07% gc time)\n",
      "  3.861604 seconds (570.82 k allocations: 4.342 GiB, 1.71% gc time)\n"
     ]
    },
    {
     "name": "stderr",
     "output_type": "stream",
     "text": [
      "┌ Info: Working on Leucocryptos\n",
      "└ @ Main In[155]:3\n",
      "┌ Warning: Data array size (12971,) is larger then maximum 10000. Superobservations will be created. To avoid, increase nmax to the desired number of superobs\n",
      "└ @ DIVAnd /home/ctroupin/.julia/packages/DIVAnd/ZfEqh/src/DIVAnd_heatmap.jl:48\n"
     ]
    },
    {
     "name": "stdout",
     "output_type": "stream",
     "text": [
      "  0.194225 seconds (397.65 k allocations: 94.749 MiB)\n",
      "  1.807112 seconds (291.63 k allocations: 2.155 GiB, 2.41% gc time)\n",
      "  5.719831 seconds (866.57 k allocations: 6.817 GiB, 1.73% gc time)\n"
     ]
    },
    {
     "name": "stderr",
     "output_type": "stream",
     "text": [
      "┌ Info: Working on Lithodesmium undulatum\n",
      "└ @ Main In[155]:3\n",
      "┌ Warning: Data array size (13961,) is larger then maximum 10000. Superobservations will be created. To avoid, increase nmax to the desired number of superobs\n",
      "└ @ DIVAnd /home/ctroupin/.julia/packages/DIVAnd/ZfEqh/src/DIVAnd_heatmap.jl:48\n"
     ]
    },
    {
     "name": "stdout",
     "output_type": "stream",
     "text": [
      "  0.564135 seconds (492.22 k allocations: 578.510 MiB, 2.95% gc time)\n",
      "  1.154666 seconds (172.09 k allocations: 1.282 GiB, 1.48% gc time)\n"
     ]
    },
    {
     "name": "stderr",
     "output_type": "stream",
     "text": [
      "┌ Warning: Data array size (12030,) is larger then maximum 10000. Superobservations will be created. To avoid, increase nmax to the desired number of superobs\n",
      "└ @ DIVAnd /home/ctroupin/.julia/packages/DIVAnd/ZfEqh/src/DIVAnd_heatmap.jl:48\n"
     ]
    },
    {
     "name": "stdout",
     "output_type": "stream",
     "text": [
      "  0.575614 seconds (431.42 k allocations: 557.386 MiB, 2.31% gc time)\n"
     ]
    },
    {
     "name": "stderr",
     "output_type": "stream",
     "text": [
      "┌ Info: Working on Lithodesmium\n",
      "└ @ Main In[155]:3\n",
      "┌ Warning: Data array size (15235,) is larger then maximum 10000. Superobservations will be created. To avoid, increase nmax to the desired number of superobs\n",
      "└ @ DIVAnd /home/ctroupin/.julia/packages/DIVAnd/ZfEqh/src/DIVAnd_heatmap.jl:48\n"
     ]
    },
    {
     "name": "stdout",
     "output_type": "stream",
     "text": [
      "  0.568373 seconds (532.20 k allocations: 592.357 MiB, 2.08% gc time)\n",
      "  1.091851 seconds (172.62 k allocations: 1.286 GiB, 2.29% gc time)\n"
     ]
    },
    {
     "name": "stderr",
     "output_type": "stream",
     "text": [
      "┌ Warning: Data array size (13298,) is larger then maximum 10000. Superobservations will be created. To avoid, increase nmax to the desired number of superobs\n",
      "└ @ DIVAnd /home/ctroupin/.julia/packages/DIVAnd/ZfEqh/src/DIVAnd_heatmap.jl:48\n"
     ]
    },
    {
     "name": "stdout",
     "output_type": "stream",
     "text": [
      "  0.522132 seconds (471.22 k allocations: 571.248 MiB, 1.44% gc time)\n"
     ]
    },
    {
     "name": "stderr",
     "output_type": "stream",
     "text": [
      "┌ Info: Working on Mediopyxis helysia\n",
      "└ @ Main In[155]:3\n"
     ]
    },
    {
     "name": "stdout",
     "output_type": "stream",
     "text": [
      "  2.697762 seconds (405.38 k allocations: 3.028 GiB, 1.75% gc time)\n",
      "  0.838030 seconds (128.71 k allocations: 984.375 MiB, 1.36% gc time)\n",
      "  1.890817 seconds (277.40 k allocations: 2.048 GiB, 1.92% gc time)\n"
     ]
    },
    {
     "name": "stderr",
     "output_type": "stream",
     "text": [
      "┌ Info: Working on Mediopyxis\n",
      "└ @ Main In[155]:3\n"
     ]
    },
    {
     "name": "stdout",
     "output_type": "stream",
     "text": [
      "  3.799748 seconds (526.59 k allocations: 3.984 GiB, 10.89% gc time)\n",
      "  0.844600 seconds (128.71 k allocations: 984.375 MiB, 2.46% gc time)\n",
      "  2.588850 seconds (398.62 k allocations: 2.975 GiB, 2.23% gc time)\n"
     ]
    },
    {
     "name": "stderr",
     "output_type": "stream",
     "text": [
      "┌ Info: Working on Melosira\n",
      "└ @ Main In[155]:3\n",
      "┌ Warning: Data array size (11203,) is larger then maximum 10000. Superobservations will be created. To avoid, increase nmax to the desired number of superobs\n",
      "└ @ DIVAnd /home/ctroupin/.julia/packages/DIVAnd/ZfEqh/src/DIVAnd_heatmap.jl:48\n"
     ]
    },
    {
     "name": "stdout",
     "output_type": "stream",
     "text": [
      "  0.148570 seconds (344.44 k allocations: 92.401 MiB, 10.59% gc time)\n",
      "  0.762004 seconds (109.61 k allocations: 841.016 MiB, 1.78% gc time)\n",
      "  6.203276 seconds (890.47 k allocations: 7.024 GiB, 2.14% gc time)\n"
     ]
    },
    {
     "name": "stderr",
     "output_type": "stream",
     "text": [
      "┌ Info: Working on Mesodinium rubrum\n",
      "└ @ Main In[155]:3\n",
      "┌ Warning: Data array size (10269,) is larger then maximum 10000. Superobservations will be created. To avoid, increase nmax to the desired number of superobs\n",
      "└ @ DIVAnd /home/ctroupin/.julia/packages/DIVAnd/ZfEqh/src/DIVAnd_heatmap.jl:48\n"
     ]
    },
    {
     "name": "stdout",
     "output_type": "stream",
     "text": [
      "  0.117864 seconds (316.51 k allocations: 92.479 MiB)\n",
      "  2.206526 seconds (343.39 k allocations: 2.549 GiB, 2.75% gc time)\n",
      "  3.734796 seconds (574.33 k allocations: 4.371 GiB, 2.15% gc time)\n"
     ]
    },
    {
     "name": "stderr",
     "output_type": "stream",
     "text": [
      "┌ Info: Working on Mesodinium\n",
      "└ @ Main In[155]:3\n",
      "┌ Warning: Data array size (11676,) is larger then maximum 10000. Superobservations will be created. To avoid, increase nmax to the desired number of superobs\n",
      "└ @ DIVAnd /home/ctroupin/.julia/packages/DIVAnd/ZfEqh/src/DIVAnd_heatmap.jl:48\n"
     ]
    },
    {
     "name": "stdout",
     "output_type": "stream",
     "text": [
      "  0.138535 seconds (358.80 k allocations: 93.969 MiB, 7.15% gc time)\n",
      "  2.204987 seconds (345.88 k allocations: 2.568 GiB, 1.98% gc time)\n",
      "  4.453735 seconds (697.07 k allocations: 5.379 GiB, 2.11% gc time)\n"
     ]
    },
    {
     "name": "stderr",
     "output_type": "stream",
     "text": [
      "┌ Info: Working on Mesoporos\n",
      "└ @ Main In[155]:3\n",
      "┌ Warning: Data array size (10026,) is larger then maximum 10000. Superobservations will be created. To avoid, increase nmax to the desired number of superobs\n",
      "└ @ DIVAnd /home/ctroupin/.julia/packages/DIVAnd/ZfEqh/src/DIVAnd_heatmap.jl:48\n"
     ]
    },
    {
     "name": "stdout",
     "output_type": "stream",
     "text": [
      "  0.129982 seconds (310.69 k allocations: 103.387 MiB)\n",
      "  0.432665 seconds (61.48 k allocations: 483.532 MiB, 4.67% gc time)\n",
      "  5.667672 seconds (834.51 k allocations: 6.541 GiB, 2.07% gc time)\n"
     ]
    },
    {
     "name": "stderr",
     "output_type": "stream",
     "text": [
      "┌ Info: Working on Micromonas\n",
      "└ @ Main In[155]:3\n"
     ]
    },
    {
     "name": "stdout",
     "output_type": "stream",
     "text": [
      "  2.474098 seconds (395.38 k allocations: 2.953 GiB, 2.43% gc time)\n",
      "  0.888481 seconds (132.31 k allocations: 1011.442 MiB, 1.65% gc time)\n",
      "  1.646118 seconds (263.76 k allocations: 1.948 GiB, 2.36% gc time)\n"
     ]
    },
    {
     "name": "stderr",
     "output_type": "stream",
     "text": [
      "┌ Info: Working on Minutocellus\n",
      "└ @ Main In[155]:3\n"
     ]
    },
    {
     "name": "stdout",
     "output_type": "stream",
     "text": [
      "  4.595700 seconds (697.27 k allocations: 5.381 GiB, 2.04% gc time)\n",
      "  0.562423 seconds (82.77 k allocations: 641.035 MiB, 1.64% gc time)\n",
      "  3.965922 seconds (615.75 k allocations: 4.708 GiB, 2.04% gc time)\n"
     ]
    },
    {
     "name": "stderr",
     "output_type": "stream",
     "text": [
      "┌ Info: Working on Monoraphidium\n",
      "└ @ Main In[155]:3\n",
      "┌ Warning: Data array size (10106,) is larger then maximum 10000. Superobservations will be created. To avoid, increase nmax to the desired number of superobs\n",
      "└ @ DIVAnd /home/ctroupin/.julia/packages/DIVAnd/ZfEqh/src/DIVAnd_heatmap.jl:48\n"
     ]
    },
    {
     "name": "stdout",
     "output_type": "stream",
     "text": [
      "  0.129904 seconds (311.45 k allocations: 91.100 MiB, 7.71% gc time)\n",
      "  0.499241 seconds (73.96 k allocations: 575.708 MiB, 1.81% gc time)\n",
      "  5.563895 seconds (828.92 k allocations: 6.493 GiB, 1.97% gc time)\n"
     ]
    },
    {
     "name": "stderr",
     "output_type": "stream",
     "text": [
      "┌ Info: Working on Navicula\n",
      "└ @ Main In[155]:3\n",
      "┌ Warning: Data array size (25639,) is larger then maximum 10000. Superobservations will be created. To avoid, increase nmax to the desired number of superobs\n",
      "└ @ DIVAnd /home/ctroupin/.julia/packages/DIVAnd/ZfEqh/src/DIVAnd_heatmap.jl:48\n"
     ]
    },
    {
     "name": "stdout",
     "output_type": "stream",
     "text": [
      "  1.140728 seconds (926.59 k allocations: 1.187 GiB, 2.67% gc time)\n",
      "  2.608327 seconds (409.97 k allocations: 3.066 GiB, 2.10% gc time)\n"
     ]
    },
    {
     "name": "stderr",
     "output_type": "stream",
     "text": [
      "┌ Warning: Data array size (21056,) is larger then maximum 10000. Superobservations will be created. To avoid, increase nmax to the desired number of superobs\n",
      "└ @ DIVAnd /home/ctroupin/.julia/packages/DIVAnd/ZfEqh/src/DIVAnd_heatmap.jl:48\n"
     ]
    },
    {
     "name": "stdout",
     "output_type": "stream",
     "text": [
      "  1.078016 seconds (783.50 k allocations: 1.144 GiB, 2.01% gc time)\n"
     ]
    },
    {
     "name": "stderr",
     "output_type": "stream",
     "text": [
      "┌ Info: Working on Nitzschia longissima\n",
      "└ @ Main In[155]:3\n"
     ]
    },
    {
     "name": "stdout",
     "output_type": "stream",
     "text": [
      "  4.405645 seconds (670.11 k allocations: 5.156 GiB, 1.86% gc time)\n",
      "  0.564223 seconds (86.10 k allocations: 665.845 MiB, 2.07% gc time)\n",
      "  3.972491 seconds (585.23 k allocations: 4.460 GiB, 1.89% gc time)\n"
     ]
    },
    {
     "name": "stderr",
     "output_type": "stream",
     "text": [
      "┌ Info: Working on Nitzschia\n",
      "└ @ Main In[155]:3\n",
      "┌ Warning: Data array size (21109,) is larger then maximum 10000. Superobservations will be created. To avoid, increase nmax to the desired number of superobs\n",
      "└ @ DIVAnd /home/ctroupin/.julia/packages/DIVAnd/ZfEqh/src/DIVAnd_heatmap.jl:48\n"
     ]
    },
    {
     "name": "stdout",
     "output_type": "stream",
     "text": [
      "  0.992611 seconds (772.83 k allocations: 1.052 GiB, 3.41% gc time)\n",
      "  1.456805 seconds (234.55 k allocations: 1.729 GiB, 1.69% gc time)\n"
     ]
    },
    {
     "name": "stderr",
     "output_type": "stream",
     "text": [
      "┌ Warning: Data array size (18498,) is larger then maximum 10000. Superobservations will be created. To avoid, increase nmax to the desired number of superobs\n",
      "└ @ DIVAnd /home/ctroupin/.julia/packages/DIVAnd/ZfEqh/src/DIVAnd_heatmap.jl:48\n"
     ]
    },
    {
     "name": "stdout",
     "output_type": "stream",
     "text": [
      "  0.951017 seconds (688.99 k allocations: 1.012 GiB, 2.48% gc time)\n"
     ]
    },
    {
     "name": "stderr",
     "output_type": "stream",
     "text": [
      "┌ Info: Working on Noctiluca scintillans\n",
      "└ @ Main In[155]:3\n",
      "┌ Warning: Data array size (23462,) is larger then maximum 10000. Superobservations will be created. To avoid, increase nmax to the desired number of superobs\n",
      "└ @ DIVAnd /home/ctroupin/.julia/packages/DIVAnd/ZfEqh/src/DIVAnd_heatmap.jl:48\n"
     ]
    },
    {
     "name": "stdout",
     "output_type": "stream",
     "text": [
      "  1.060979 seconds (855.03 k allocations: 1.139 GiB, 2.21% gc time)\n",
      "  1.924160 seconds (312.00 k allocations: 2.313 GiB, 1.97% gc time)\n"
     ]
    },
    {
     "name": "stderr",
     "output_type": "stream",
     "text": [
      "┌ Warning: Data array size (19981,) is larger then maximum 10000. Superobservations will be created. To avoid, increase nmax to the desired number of superobs\n",
      "└ @ DIVAnd /home/ctroupin/.julia/packages/DIVAnd/ZfEqh/src/DIVAnd_heatmap.jl:48\n"
     ]
    },
    {
     "name": "stdout",
     "output_type": "stream",
     "text": [
      "  1.040025 seconds (745.09 k allocations: 1.098 GiB, 2.15% gc time)\n"
     ]
    },
    {
     "name": "stderr",
     "output_type": "stream",
     "text": [
      "┌ Info: Working on Noctiluca\n",
      "└ @ Main In[155]:3\n",
      "┌ Warning: Data array size (25660,) is larger then maximum 10000. Superobservations will be created. To avoid, increase nmax to the desired number of superobs\n",
      "└ @ DIVAnd /home/ctroupin/.julia/packages/DIVAnd/ZfEqh/src/DIVAnd_heatmap.jl:48\n"
     ]
    },
    {
     "name": "stdout",
     "output_type": "stream",
     "text": [
      "  1.099756 seconds (925.90 k allocations: 1.177 GiB, 2.04% gc time)\n",
      "  2.092311 seconds (334.43 k allocations: 2.484 GiB, 1.96% gc time)\n"
     ]
    },
    {
     "name": "stderr",
     "output_type": "stream",
     "text": [
      "┌ Warning: Data array size (21927,) is larger then maximum 10000. Superobservations will be created. To avoid, increase nmax to the desired number of superobs\n",
      "└ @ DIVAnd /home/ctroupin/.julia/packages/DIVAnd/ZfEqh/src/DIVAnd_heatmap.jl:48\n"
     ]
    },
    {
     "name": "stdout",
     "output_type": "stream",
     "text": [
      "  1.049189 seconds (808.58 k allocations: 1.137 GiB, 1.81% gc time)\n"
     ]
    },
    {
     "name": "stderr",
     "output_type": "stream",
     "text": [
      "┌ Info: Working on Oblea\n",
      "└ @ Main In[155]:3\n"
     ]
    },
    {
     "name": "stdout",
     "output_type": "stream",
     "text": [
      "  5.460727 seconds (803.88 k allocations: 6.279 GiB, 1.90% gc time)\n",
      "  0.402448 seconds (58.91 k allocations: 464.488 MiB, 1.27% gc time)\n",
      "  5.095061 seconds (746.48 k allocations: 5.792 GiB, 1.75% gc time)\n"
     ]
    },
    {
     "name": "stderr",
     "output_type": "stream",
     "text": [
      "┌ Info: Working on Odontella aurita\n",
      "└ @ Main In[155]:3\n",
      "┌ Warning: Data array size (23696,) is larger then maximum 10000. Superobservations will be created. To avoid, increase nmax to the desired number of superobs\n",
      "└ @ DIVAnd /home/ctroupin/.julia/packages/DIVAnd/ZfEqh/src/DIVAnd_heatmap.jl:48\n"
     ]
    },
    {
     "name": "stdout",
     "output_type": "stream",
     "text": [
      "  1.104006 seconds (864.52 k allocations: 1.158 GiB, 2.03% gc time)\n",
      "  2.462675 seconds (389.32 k allocations: 2.906 GiB, 1.73% gc time)\n"
     ]
    },
    {
     "name": "stderr",
     "output_type": "stream",
     "text": [
      "┌ Warning: Data array size (19346,) is larger then maximum 10000. Superobservations will be created. To avoid, increase nmax to the desired number of superobs\n",
      "└ @ DIVAnd /home/ctroupin/.julia/packages/DIVAnd/ZfEqh/src/DIVAnd_heatmap.jl:48\n"
     ]
    },
    {
     "name": "stdout",
     "output_type": "stream",
     "text": [
      "  1.046260 seconds (726.13 k allocations: 1.098 GiB, 2.01% gc time)\n"
     ]
    },
    {
     "name": "stderr",
     "output_type": "stream",
     "text": [
      "┌ Info: Working on Odontella mobiliensis\n",
      "└ @ Main In[155]:3\n",
      "┌ Warning: Data array size (17821,) is larger then maximum 10000. Superobservations will be created. To avoid, increase nmax to the desired number of superobs\n",
      "└ @ DIVAnd /home/ctroupin/.julia/packages/DIVAnd/ZfEqh/src/DIVAnd_heatmap.jl:48\n"
     ]
    },
    {
     "name": "stdout",
     "output_type": "stream",
     "text": [
      "  0.803136 seconds (647.88 k allocations: 877.889 MiB, 2.77% gc time)\n",
      "  0.507561 seconds (70.09 k allocations: 547.114 MiB, 1.01% gc time)\n"
     ]
    },
    {
     "name": "stderr",
     "output_type": "stream",
     "text": [
      "┌ Warning: Data array size (17049,) is larger then maximum 10000. Superobservations will be created. To avoid, increase nmax to the desired number of superobs\n",
      "└ @ DIVAnd /home/ctroupin/.julia/packages/DIVAnd/ZfEqh/src/DIVAnd_heatmap.jl:48\n"
     ]
    },
    {
     "name": "stdout",
     "output_type": "stream",
     "text": [
      "  0.779809 seconds (624.23 k allocations: 875.127 MiB, 1.93% gc time)\n"
     ]
    },
    {
     "name": "stderr",
     "output_type": "stream",
     "text": [
      "┌ Info: Working on Odontella regia\n",
      "└ @ Main In[155]:3\n",
      "┌ Warning: Data array size (21535,) is larger then maximum 10000. Superobservations will be created. To avoid, increase nmax to the desired number of superobs\n",
      "└ @ DIVAnd /home/ctroupin/.julia/packages/DIVAnd/ZfEqh/src/DIVAnd_heatmap.jl:48\n"
     ]
    },
    {
     "name": "stdout",
     "output_type": "stream",
     "text": [
      "  1.130880 seconds (803.92 k allocations: 1.188 GiB, 2.03% gc time)\n",
      "  1.159465 seconds (178.34 k allocations: 1.328 GiB, 1.46% gc time)\n"
     ]
    },
    {
     "name": "stderr",
     "output_type": "stream",
     "text": [
      "┌ Warning: Data array size (19533,) is larger then maximum 10000. Superobservations will be created. To avoid, increase nmax to the desired number of superobs\n",
      "└ @ DIVAnd /home/ctroupin/.julia/packages/DIVAnd/ZfEqh/src/DIVAnd_heatmap.jl:48\n"
     ]
    },
    {
     "name": "stdout",
     "output_type": "stream",
     "text": [
      "  1.102650 seconds (738.18 k allocations: 1.146 GiB, 1.80% gc time)\n"
     ]
    },
    {
     "name": "stderr",
     "output_type": "stream",
     "text": [
      "┌ Info: Working on Odontella\n",
      "└ @ Main In[155]:3\n",
      "┌ Warning: Data array size (25731,) is larger then maximum 10000. Superobservations will be created. To avoid, increase nmax to the desired number of superobs\n",
      "└ @ DIVAnd /home/ctroupin/.julia/packages/DIVAnd/ZfEqh/src/DIVAnd_heatmap.jl:48\n"
     ]
    },
    {
     "name": "stdout",
     "output_type": "stream",
     "text": [
      "  1.198638 seconds (929.35 k allocations: 1.187 GiB, 2.09% gc time)\n",
      "  3.695847 seconds (534.84 k allocations: 4.053 GiB, 1.50% gc time)\n"
     ]
    },
    {
     "name": "stderr",
     "output_type": "stream",
     "text": [
      "┌ Warning: Data array size (19746,) is larger then maximum 10000. Superobservations will be created. To avoid, increase nmax to the desired number of superobs\n",
      "└ @ DIVAnd /home/ctroupin/.julia/packages/DIVAnd/ZfEqh/src/DIVAnd_heatmap.jl:48\n"
     ]
    },
    {
     "name": "stdout",
     "output_type": "stream",
     "text": [
      "  1.063846 seconds (739.89 k allocations: 1.112 GiB, 2.35% gc time)\n"
     ]
    },
    {
     "name": "stderr",
     "output_type": "stream",
     "text": [
      "┌ Info: Working on Orthosira marina\n",
      "└ @ Main In[155]:3\n"
     ]
    },
    {
     "name": "stdout",
     "output_type": "stream",
     "text": [
      "  4.172745 seconds (827.12 k allocations: 6.477 GiB, 2.03% gc time)\n",
      "  2.087809 seconds (437.93 k allocations: 3.284 GiB, 1.89% gc time)\n",
      "  1.785487 seconds (391.38 k allocations: 2.922 GiB, 1.92% gc time)\n"
     ]
    },
    {
     "name": "stderr",
     "output_type": "stream",
     "text": [
      "┌ Info: Working on Orthosira\n",
      "└ @ Main In[155]:3\n",
      "┌ Warning: Data array size (10676,) is larger then maximum 10000. Superobservations will be created. To avoid, increase nmax to the desired number of superobs\n",
      "└ @ DIVAnd /home/ctroupin/.julia/packages/DIVAnd/ZfEqh/src/DIVAnd_heatmap.jl:48\n"
     ]
    },
    {
     "name": "stdout",
     "output_type": "stream",
     "text": [
      "  0.095531 seconds (327.44 k allocations: 83.259 MiB)\n",
      "  2.324593 seconds (472.20 k allocations: 3.554 GiB, 2.53% gc time)\n",
      "  2.294699 seconds (482.34 k allocations: 3.634 GiB, 1.98% gc time)\n"
     ]
    },
    {
     "name": "stderr",
     "output_type": "stream",
     "text": [
      "┌ Info: Working on Oxytoxum\n",
      "└ @ Main In[155]:3\n"
     ]
    },
    {
     "name": "stdout",
     "output_type": "stream",
     "text": [
      "  3.924341 seconds (776.92 k allocations: 6.050 GiB, 1.97% gc time)\n",
      "  0.354882 seconds (72.65 k allocations: 566.084 MiB, 1.43% gc time)\n",
      "  3.429407 seconds (705.64 k allocations: 5.450 GiB, 1.89% gc time)\n"
     ]
    },
    {
     "name": "stderr",
     "output_type": "stream",
     "text": [
      "┌ Info: Working on Paralia sulcata\n",
      "└ @ Main In[155]:3\n",
      "┌ Warning: Data array size (14597,) is larger then maximum 10000. Superobservations will be created. To avoid, increase nmax to the desired number of superobs\n",
      "└ @ DIVAnd /home/ctroupin/.julia/packages/DIVAnd/ZfEqh/src/DIVAnd_heatmap.jl:48\n"
     ]
    },
    {
     "name": "stdout",
     "output_type": "stream",
     "text": [
      "  0.907169 seconds (593.13 k allocations: 1.164 GiB, 2.45% gc time)\n",
      "  2.662932 seconds (546.23 k allocations: 4.146 GiB, 1.71% gc time)\n",
      "  3.839664 seconds (756.96 k allocations: 5.882 GiB, 1.97% gc time)\n"
     ]
    },
    {
     "name": "stderr",
     "output_type": "stream",
     "text": [
      "┌ Info: Working on Paralia\n",
      "└ @ Main In[155]:3\n",
      "┌ Warning: Data array size (15698,) is larger then maximum 10000. Superobservations will be created. To avoid, increase nmax to the desired number of superobs\n",
      "└ @ DIVAnd /home/ctroupin/.julia/packages/DIVAnd/ZfEqh/src/DIVAnd_heatmap.jl:48\n"
     ]
    },
    {
     "name": "stdout",
     "output_type": "stream",
     "text": [
      "  0.940494 seconds (628.36 k allocations: 1.181 GiB, 2.55% gc time)\n",
      "  2.645939 seconds (546.23 k allocations: 4.146 GiB, 1.78% gc time)\n",
      "  4.461458 seconds (854.95 k allocations: 6.718 GiB, 1.74% gc time)\n"
     ]
    },
    {
     "name": "stderr",
     "output_type": "stream",
     "text": [
      "┌ Info: Working on Pediastrum\n",
      "└ @ Main In[155]:3\n",
      "┌ Warning: Data array size (10200,) is larger then maximum 10000. Superobservations will be created. To avoid, increase nmax to the desired number of superobs\n",
      "└ @ DIVAnd /home/ctroupin/.julia/packages/DIVAnd/ZfEqh/src/DIVAnd_heatmap.jl:48\n"
     ]
    },
    {
     "name": "stdout",
     "output_type": "stream",
     "text": [
      "  0.092088 seconds (313.16 k allocations: 82.972 MiB)\n",
      "  0.345126 seconds (50.55 k allocations: 402.822 MiB, 2.97% gc time)\n",
      "  4.302651 seconds (861.04 k allocations: 6.770 GiB, 1.81% gc time)\n"
     ]
    },
    {
     "name": "stderr",
     "output_type": "stream",
     "text": [
      "┌ Info: Working on Peridiniella\n",
      "└ @ Main In[155]:3\n",
      "┌ Warning: Data array size (10215,) is larger then maximum 10000. Superobservations will be created. To avoid, increase nmax to the desired number of superobs\n",
      "└ @ DIVAnd /home/ctroupin/.julia/packages/DIVAnd/ZfEqh/src/DIVAnd_heatmap.jl:48\n"
     ]
    },
    {
     "name": "stdout",
     "output_type": "stream",
     "text": [
      "  0.104980 seconds (314.89 k allocations: 92.446 MiB)\n",
      "  0.530969 seconds (80.54 k allocations: 622.483 MiB, 3.38% gc time)\n",
      "  4.294909 seconds (831.46 k allocations: 6.514 GiB, 1.77% gc time)\n"
     ]
    },
    {
     "name": "stderr",
     "output_type": "stream",
     "text": [
      "┌ Info: Working on Peridinium achromaticum\n",
      "└ @ Main In[155]:3\n"
     ]
    },
    {
     "name": "stdout",
     "output_type": "stream",
     "text": [
      "  3.824961 seconds (772.56 k allocations: 6.013 GiB, 1.86% gc time)\n",
      "  0.607255 seconds (126.24 k allocations: 965.848 MiB, 1.80% gc time)\n",
      "  3.415496 seconds (647.08 k allocations: 4.965 GiB, 10.20% gc time)\n"
     ]
    },
    {
     "name": "stderr",
     "output_type": "stream",
     "text": [
      "┌ Info: Working on Peridinium\n",
      "└ @ Main In[155]:3\n",
      "┌ Warning: Data array size (10005,) is larger then maximum 10000. Superobservations will be created. To avoid, increase nmax to the desired number of superobs\n",
      "└ @ DIVAnd /home/ctroupin/.julia/packages/DIVAnd/ZfEqh/src/DIVAnd_heatmap.jl:48\n"
     ]
    },
    {
     "name": "stdout",
     "output_type": "stream",
     "text": [
      "  0.130634 seconds (308.93 k allocations: 94.880 MiB, 11.77% gc time)\n",
      "  0.783275 seconds (138.56 k allocations: 1.034 GiB, 1.60% gc time)\n",
      "  3.735145 seconds (754.49 k allocations: 5.859 GiB, 2.34% gc time)\n"
     ]
    },
    {
     "name": "stderr",
     "output_type": "stream",
     "text": [
      "┌ Info: Working on Phaeoceros\n",
      "└ @ Main In[155]:3\n",
      "┌ Warning: Data array size (10808,) is larger then maximum 10000. Superobservations will be created. To avoid, increase nmax to the desired number of superobs\n",
      "└ @ DIVAnd /home/ctroupin/.julia/packages/DIVAnd/ZfEqh/src/DIVAnd_heatmap.jl:48\n"
     ]
    },
    {
     "name": "stdout",
     "output_type": "stream",
     "text": [
      "  0.993624 seconds (498.21 k allocations: 1.301 GiB, 2.24% gc time)\n",
      "  1.267586 seconds (258.86 k allocations: 1.912 GiB, 2.30% gc time)\n",
      "  3.666320 seconds (707.41 k allocations: 5.467 GiB, 2.17% gc time)\n"
     ]
    },
    {
     "name": "stderr",
     "output_type": "stream",
     "text": [
      "┌ Info: Working on Phaeocystis globosa\n",
      "└ @ Main In[155]:3\n"
     ]
    },
    {
     "name": "stdout",
     "output_type": "stream",
     "text": [
      "  1.031700 seconds (200.33 k allocations: 1.473 GiB, 2.20% gc time)\n",
      "  0.577795 seconds (113.75 k allocations: 872.168 MiB, 2.32% gc time)\n",
      "  0.484080 seconds (86.50 k allocations: 666.085 MiB, 1.79% gc time)\n"
     ]
    },
    {
     "name": "stderr",
     "output_type": "stream",
     "text": [
      "┌ Info: Working on Phaeocystis\n",
      "└ @ Main In[155]:3\n",
      "┌ Warning: Data array size (28721,) is larger then maximum 10000. Superobservations will be created. To avoid, increase nmax to the desired number of superobs\n",
      "└ @ DIVAnd /home/ctroupin/.julia/packages/DIVAnd/ZfEqh/src/DIVAnd_heatmap.jl:48\n"
     ]
    },
    {
     "name": "stdout",
     "output_type": "stream",
     "text": [
      "  0.958356 seconds (1.02 M allocations: 1.183 GiB, 2.66% gc time)\n"
     ]
    },
    {
     "name": "stderr",
     "output_type": "stream",
     "text": [
      "┌ Warning: Data array size (11707,) is larger then maximum 10000. Superobservations will be created. To avoid, increase nmax to the desired number of superobs\n",
      "└ @ DIVAnd /home/ctroupin/.julia/packages/DIVAnd/ZfEqh/src/DIVAnd_heatmap.jl:48\n"
     ]
    },
    {
     "name": "stdout",
     "output_type": "stream",
     "text": [
      "  0.243640 seconds (384.11 k allocations: 277.500 MiB, 2.37% gc time)\n"
     ]
    },
    {
     "name": "stderr",
     "output_type": "stream",
     "text": [
      "┌ Warning: Data array size (17014,) is larger then maximum 10000. Superobservations will be created. To avoid, increase nmax to the desired number of superobs\n",
      "└ @ DIVAnd /home/ctroupin/.julia/packages/DIVAnd/ZfEqh/src/DIVAnd_heatmap.jl:48\n"
     ]
    },
    {
     "name": "stdout",
     "output_type": "stream",
     "text": [
      "  0.811674 seconds (660.13 k allocations: 1.126 GiB, 3.06% gc time)\n"
     ]
    },
    {
     "name": "stderr",
     "output_type": "stream",
     "text": [
      "┌ Info: Working on Phalacroma rotundatum\n",
      "└ @ Main In[155]:3\n",
      "┌ Warning: Data array size (15935,) is larger then maximum 10000. Superobservations will be created. To avoid, increase nmax to the desired number of superobs\n",
      "└ @ DIVAnd /home/ctroupin/.julia/packages/DIVAnd/ZfEqh/src/DIVAnd_heatmap.jl:48\n"
     ]
    },
    {
     "name": "stdout",
     "output_type": "stream",
     "text": [
      "  0.567711 seconds (566.31 k allocations: 690.083 MiB, 2.71% gc time)\n",
      "  0.425888 seconds (81.24 k allocations: 629.678 MiB, 2.88% gc time)\n"
     ]
    },
    {
     "name": "stderr",
     "output_type": "stream",
     "text": [
      "┌ Warning: Data array size (15036,) is larger then maximum 10000. Superobservations will be created. To avoid, increase nmax to the desired number of superobs\n",
      "└ @ DIVAnd /home/ctroupin/.julia/packages/DIVAnd/ZfEqh/src/DIVAnd_heatmap.jl:48\n"
     ]
    },
    {
     "name": "stdout",
     "output_type": "stream",
     "text": [
      "  0.501292 seconds (538.94 k allocations: 687.933 MiB, 3.20% gc time)\n"
     ]
    },
    {
     "name": "stderr",
     "output_type": "stream",
     "text": [
      "┌ Info: Working on Phalacroma\n",
      "└ @ Main In[155]:3\n",
      "┌ Warning: Data array size (20118,) is larger then maximum 10000. Superobservations will be created. To avoid, increase nmax to the desired number of superobs\n",
      "└ @ DIVAnd /home/ctroupin/.julia/packages/DIVAnd/ZfEqh/src/DIVAnd_heatmap.jl:48\n"
     ]
    },
    {
     "name": "stdout",
     "output_type": "stream",
     "text": [
      "  0.798920 seconds (732.80 k allocations: 999.412 MiB, 2.77% gc time)\n",
      "  0.427397 seconds (82.30 k allocations: 637.497 MiB, 2.00% gc time)\n"
     ]
    },
    {
     "name": "stderr",
     "output_type": "stream",
     "text": [
      "┌ Warning: Data array size (19207,) is larger then maximum 10000. Superobservations will be created. To avoid, increase nmax to the desired number of superobs\n",
      "└ @ DIVAnd /home/ctroupin/.julia/packages/DIVAnd/ZfEqh/src/DIVAnd_heatmap.jl:48\n"
     ]
    },
    {
     "name": "stdout",
     "output_type": "stream",
     "text": [
      "  0.695414 seconds (704.98 k allocations: 996.599 MiB, 2.18% gc time)\n"
     ]
    },
    {
     "name": "stderr",
     "output_type": "stream",
     "text": [
      "┌ Info: Working on Plagiogramma brockmanni var. brockmanni\n",
      "└ @ Main In[155]:3\n",
      "┌ Warning: Data array size (11370,) is larger then maximum 10000. Superobservations will be created. To avoid, increase nmax to the desired number of superobs\n",
      "└ @ DIVAnd /home/ctroupin/.julia/packages/DIVAnd/ZfEqh/src/DIVAnd_heatmap.jl:48\n"
     ]
    },
    {
     "name": "stdout",
     "output_type": "stream",
     "text": [
      "  0.172370 seconds (358.31 k allocations: 158.588 MiB)\n",
      "  2.531931 seconds (523.28 k allocations: 3.960 GiB, 2.52% gc time)\n",
      "  2.302330 seconds (492.43 k allocations: 3.712 GiB, 2.07% gc time)\n"
     ]
    },
    {
     "name": "stderr",
     "output_type": "stream",
     "text": [
      "┌ Info: Working on Plagiogramma vanheurckii\n",
      "└ @ Main In[155]:3\n",
      "┌ Warning: Data array size (10992,) is larger then maximum 10000. Superobservations will be created. To avoid, increase nmax to the desired number of superobs\n",
      "└ @ DIVAnd /home/ctroupin/.julia/packages/DIVAnd/ZfEqh/src/DIVAnd_heatmap.jl:48\n"
     ]
    },
    {
     "name": "stdout",
     "output_type": "stream",
     "text": [
      "  0.162662 seconds (342.24 k allocations: 123.053 MiB, 5.72% gc time)\n",
      "  1.206232 seconds (247.83 k allocations: 1.828 GiB, 1.89% gc time)\n",
      "  3.572721 seconds (734.24 k allocations: 5.687 GiB, 2.18% gc time)\n"
     ]
    },
    {
     "name": "stderr",
     "output_type": "stream",
     "text": [
      "┌ Info: Working on Plagiogramma\n",
      "└ @ Main In[155]:3\n",
      "┌ Warning: Data array size (13431,) is larger then maximum 10000. Superobservations will be created. To avoid, increase nmax to the desired number of superobs\n",
      "└ @ DIVAnd /home/ctroupin/.julia/packages/DIVAnd/ZfEqh/src/DIVAnd_heatmap.jl:48\n"
     ]
    },
    {
     "name": "stdout",
     "output_type": "stream",
     "text": [
      "  0.180334 seconds (420.23 k allocations: 160.495 MiB)\n",
      "  2.822710 seconds (581.67 k allocations: 4.431 GiB, 2.23% gc time)\n",
      "  2.973052 seconds (617.47 k allocations: 4.720 GiB, 2.21% gc time)\n"
     ]
    },
    {
     "name": "stderr",
     "output_type": "stream",
     "text": [
      "┌ Info: Working on Pleurosigma\n",
      "└ @ Main In[155]:3\n",
      "┌ Warning: Data array size (13115,) is larger then maximum 10000. Superobservations will be created. To avoid, increase nmax to the desired number of superobs\n",
      "└ @ DIVAnd /home/ctroupin/.julia/packages/DIVAnd/ZfEqh/src/DIVAnd_heatmap.jl:48\n"
     ]
    },
    {
     "name": "stdout",
     "output_type": "stream",
     "text": [
      "  0.176389 seconds (407.91 k allocations: 139.084 MiB, 11.34% gc time)\n",
      "  1.876783 seconds (379.59 k allocations: 2.830 GiB, 1.94% gc time)\n",
      "  3.956478 seconds (791.52 k allocations: 6.172 GiB, 2.01% gc time)\n"
     ]
    },
    {
     "name": "stderr",
     "output_type": "stream",
     "text": [
      "┌ Info: Working on Podosira stelligera\n",
      "└ @ Main In[155]:3\n",
      "┌ Warning: Data array size (20896,) is larger then maximum 10000. Superobservations will be created. To avoid, increase nmax to the desired number of superobs\n",
      "└ @ DIVAnd /home/ctroupin/.julia/packages/DIVAnd/ZfEqh/src/DIVAnd_heatmap.jl:48\n"
     ]
    },
    {
     "name": "stdout",
     "output_type": "stream",
     "text": [
      "  0.908493 seconds (784.40 k allocations: 1.185 GiB, 2.32% gc time)\n",
      "  0.687812 seconds (138.83 k allocations: 1.036 GiB, 2.05% gc time)\n"
     ]
    },
    {
     "name": "stderr",
     "output_type": "stream",
     "text": [
      "┌ Warning: Data array size (19343,) is larger then maximum 10000. Superobservations will be created. To avoid, increase nmax to the desired number of superobs\n",
      "└ @ DIVAnd /home/ctroupin/.julia/packages/DIVAnd/ZfEqh/src/DIVAnd_heatmap.jl:48\n"
     ]
    },
    {
     "name": "stdout",
     "output_type": "stream",
     "text": [
      "  0.808678 seconds (730.98 k allocations: 1.135 GiB, 2.00% gc time)\n"
     ]
    },
    {
     "name": "stderr",
     "output_type": "stream",
     "text": [
      "┌ Info: Working on Podosira\n",
      "└ @ Main In[155]:3\n",
      "┌ Warning: Data array size (21546,) is larger then maximum 10000. Superobservations will be created. To avoid, increase nmax to the desired number of superobs\n",
      "└ @ DIVAnd /home/ctroupin/.julia/packages/DIVAnd/ZfEqh/src/DIVAnd_heatmap.jl:48\n"
     ]
    },
    {
     "name": "stdout",
     "output_type": "stream",
     "text": [
      "  0.930266 seconds (806.36 k allocations: 1.203 GiB, 3.69% gc time)\n",
      "  0.677898 seconds (139.53 k allocations: 1.041 GiB, 1.41% gc time)\n"
     ]
    },
    {
     "name": "stderr",
     "output_type": "stream",
     "text": [
      "┌ Warning: Data array size (19985,) is larger then maximum 10000. Superobservations will be created. To avoid, increase nmax to the desired number of superobs\n",
      "└ @ DIVAnd /home/ctroupin/.julia/packages/DIVAnd/ZfEqh/src/DIVAnd_heatmap.jl:48\n"
     ]
    },
    {
     "name": "stdout",
     "output_type": "stream",
     "text": [
      "  0.812681 seconds (753.14 k allocations: 1.157 GiB, 2.02% gc time)\n"
     ]
    },
    {
     "name": "stderr",
     "output_type": "stream",
     "text": [
      "┌ Info: Working on Polykrikos schwartzii\n",
      "└ @ Main In[155]:3\n",
      "┌ Warning: Data array size (20890,) is larger then maximum 10000. Superobservations will be created. To avoid, increase nmax to the desired number of superobs\n",
      "└ @ DIVAnd /home/ctroupin/.julia/packages/DIVAnd/ZfEqh/src/DIVAnd_heatmap.jl:48\n"
     ]
    },
    {
     "name": "stdout",
     "output_type": "stream",
     "text": [
      "  0.939836 seconds (783.96 k allocations: 1.183 GiB, 2.28% gc time)\n",
      "  0.652447 seconds (133.90 k allocations: 1023.809 MiB, 1.47% gc time)\n"
     ]
    },
    {
     "name": "stderr",
     "output_type": "stream",
     "text": [
      "┌ Warning: Data array size (19393,) is larger then maximum 10000. Superobservations will be created. To avoid, increase nmax to the desired number of superobs\n",
      "└ @ DIVAnd /home/ctroupin/.julia/packages/DIVAnd/ZfEqh/src/DIVAnd_heatmap.jl:48\n"
     ]
    },
    {
     "name": "stdout",
     "output_type": "stream",
     "text": [
      "  0.827408 seconds (735.47 k allocations: 1.157 GiB, 2.08% gc time)\n"
     ]
    },
    {
     "name": "stderr",
     "output_type": "stream",
     "text": [
      "┌ Info: Working on Polykrikos\n",
      "└ @ Main In[155]:3\n",
      "┌ Warning: Data array size (24862,) is larger then maximum 10000. Superobservations will be created. To avoid, increase nmax to the desired number of superobs\n",
      "└ @ DIVAnd /home/ctroupin/.julia/packages/DIVAnd/ZfEqh/src/DIVAnd_heatmap.jl:48\n"
     ]
    },
    {
     "name": "stdout",
     "output_type": "stream",
     "text": [
      "  0.919278 seconds (898.79 k allocations: 1.153 GiB, 2.37% gc time)\n",
      "  0.875667 seconds (178.24 k allocations: 1.327 GiB, 1.65% gc time)\n"
     ]
    },
    {
     "name": "stderr",
     "output_type": "stream",
     "text": [
      "┌ Warning: Data array size (22859,) is larger then maximum 10000. Superobservations will be created. To avoid, increase nmax to the desired number of superobs\n",
      "└ @ DIVAnd /home/ctroupin/.julia/packages/DIVAnd/ZfEqh/src/DIVAnd_heatmap.jl:48\n"
     ]
    },
    {
     "name": "stdout",
     "output_type": "stream",
     "text": [
      "  0.813129 seconds (835.83 k allocations: 1.132 GiB, 2.16% gc time)\n"
     ]
    },
    {
     "name": "stderr",
     "output_type": "stream",
     "text": [
      "┌ Info: Working on Preperidinium\n",
      "└ @ Main In[155]:3\n",
      "┌ Warning: Data array size (12367,) is larger then maximum 10000. Superobservations will be created. To avoid, increase nmax to the desired number of superobs\n",
      "└ @ DIVAnd /home/ctroupin/.julia/packages/DIVAnd/ZfEqh/src/DIVAnd_heatmap.jl:48\n"
     ]
    },
    {
     "name": "stdout",
     "output_type": "stream",
     "text": [
      "  0.112201 seconds (379.45 k allocations: 93.743 MiB)\n",
      "  0.478859 seconds (75.65 k allocations: 587.404 MiB, 4.99% gc time)\n"
     ]
    },
    {
     "name": "stderr",
     "output_type": "stream",
     "text": [
      "┌ Warning: Data array size (11530,) is larger then maximum 10000. Superobservations will be created. To avoid, increase nmax to the desired number of superobs\n",
      "└ @ DIVAnd /home/ctroupin/.julia/packages/DIVAnd/ZfEqh/src/DIVAnd_heatmap.jl:48\n"
     ]
    },
    {
     "name": "stdout",
     "output_type": "stream",
     "text": [
      "  0.105338 seconds (354.20 k allocations: 93.492 MiB)\n"
     ]
    },
    {
     "name": "stderr",
     "output_type": "stream",
     "text": [
      "┌ Info: Working on Proboscia alata\n",
      "└ @ Main In[155]:3\n",
      "┌ Warning: Data array size (21281,) is larger then maximum 10000. Superobservations will be created. To avoid, increase nmax to the desired number of superobs\n",
      "└ @ DIVAnd /home/ctroupin/.julia/packages/DIVAnd/ZfEqh/src/DIVAnd_heatmap.jl:48\n"
     ]
    },
    {
     "name": "stdout",
     "output_type": "stream",
     "text": [
      "  0.910022 seconds (790.39 k allocations: 1.144 GiB, 2.46% gc time)\n",
      "  0.772123 seconds (156.24 k allocations: 1.164 GiB, 1.88% gc time)\n"
     ]
    },
    {
     "name": "stderr",
     "output_type": "stream",
     "text": [
      "┌ Warning: Data array size (19528,) is larger then maximum 10000. Superobservations will be created. To avoid, increase nmax to the desired number of superobs\n",
      "└ @ DIVAnd /home/ctroupin/.julia/packages/DIVAnd/ZfEqh/src/DIVAnd_heatmap.jl:48\n"
     ]
    },
    {
     "name": "stdout",
     "output_type": "stream",
     "text": [
      "  0.771771 seconds (730.18 k allocations: 1.088 GiB, 2.25% gc time)\n"
     ]
    },
    {
     "name": "stderr",
     "output_type": "stream",
     "text": [
      "┌ Info: Working on Proboscia\n",
      "└ @ Main In[155]:3\n",
      "┌ Warning: Data array size (23168,) is larger then maximum 10000. Superobservations will be created. To avoid, increase nmax to the desired number of superobs\n",
      "└ @ DIVAnd /home/ctroupin/.julia/packages/DIVAnd/ZfEqh/src/DIVAnd_heatmap.jl:48\n"
     ]
    },
    {
     "name": "stdout",
     "output_type": "stream",
     "text": [
      "  0.922196 seconds (848.94 k allocations: 1.159 GiB, 2.42% gc time)\n",
      "  0.808736 seconds (164.07 k allocations: 1.222 GiB, 1.87% gc time)\n"
     ]
    },
    {
     "name": "stderr",
     "output_type": "stream",
     "text": [
      "┌ Warning: Data array size (21326,) is larger then maximum 10000. Superobservations will be created. To avoid, increase nmax to the desired number of superobs\n",
      "└ @ DIVAnd /home/ctroupin/.julia/packages/DIVAnd/ZfEqh/src/DIVAnd_heatmap.jl:48\n"
     ]
    },
    {
     "name": "stdout",
     "output_type": "stream",
     "text": [
      "  0.783106 seconds (786.15 k allocations: 1.104 GiB, 1.65% gc time)\n"
     ]
    },
    {
     "name": "stderr",
     "output_type": "stream",
     "text": [
      "┌ Info: Working on Prorocentrum cordatum\n",
      "└ @ Main In[155]:3\n",
      "┌ Warning: Data array size (11353,) is larger then maximum 10000. Superobservations will be created. To avoid, increase nmax to the desired number of superobs\n",
      "└ @ DIVAnd /home/ctroupin/.julia/packages/DIVAnd/ZfEqh/src/DIVAnd_heatmap.jl:48\n"
     ]
    },
    {
     "name": "stdout",
     "output_type": "stream",
     "text": [
      "  0.135544 seconds (349.54 k allocations: 96.979 MiB, 7.99% gc time)\n",
      "  0.728689 seconds (131.73 k allocations: 1006.439 MiB, 1.41% gc time)\n",
      "  4.345239 seconds (880.97 k allocations: 6.940 GiB, 1.89% gc time)\n"
     ]
    },
    {
     "name": "stderr",
     "output_type": "stream",
     "text": [
      "┌ Info: Working on Prorocentrum micans\n",
      "└ @ Main In[155]:3\n",
      "┌ Warning: Data array size (16714,) is larger then maximum 10000. Superobservations will be created. To avoid, increase nmax to the desired number of superobs\n",
      "└ @ DIVAnd /home/ctroupin/.julia/packages/DIVAnd/ZfEqh/src/DIVAnd_heatmap.jl:48\n"
     ]
    },
    {
     "name": "stdout",
     "output_type": "stream",
     "text": [
      "  0.581867 seconds (591.79 k allocations: 706.275 MiB, 2.84% gc time)\n",
      "  1.089545 seconds (226.01 k allocations: 1.664 GiB, 1.86% gc time)\n"
     ]
    },
    {
     "name": "stderr",
     "output_type": "stream",
     "text": [
      "┌ Warning: Data array size (14195,) is larger then maximum 10000. Superobservations will be created. To avoid, increase nmax to the desired number of superobs\n",
      "└ @ DIVAnd /home/ctroupin/.julia/packages/DIVAnd/ZfEqh/src/DIVAnd_heatmap.jl:48\n"
     ]
    },
    {
     "name": "stdout",
     "output_type": "stream",
     "text": [
      "  0.504809 seconds (515.55 k allocations: 701.187 MiB, 1.36% gc time)\n"
     ]
    },
    {
     "name": "stderr",
     "output_type": "stream",
     "text": [
      "┌ Info: Working on Prorocentrum triestinum\n",
      "└ @ Main In[155]:3\n",
      "┌ Warning: Data array size (11689,) is larger then maximum 10000. Superobservations will be created. To avoid, increase nmax to the desired number of superobs\n",
      "└ @ DIVAnd /home/ctroupin/.julia/packages/DIVAnd/ZfEqh/src/DIVAnd_heatmap.jl:48\n"
     ]
    },
    {
     "name": "stdout",
     "output_type": "stream",
     "text": [
      "  0.108389 seconds (359.02 k allocations: 92.694 MiB)\n",
      "  0.866895 seconds (163.03 k allocations: 1.214 GiB, 3.34% gc time)\n",
      "  4.318509 seconds (879.32 k allocations: 6.926 GiB, 1.91% gc time)\n"
     ]
    },
    {
     "name": "stderr",
     "output_type": "stream",
     "text": [
      "┌ Info: Working on Prorocentrum\n",
      "└ @ Main In[155]:3\n",
      "┌ Warning: Data array size (25397,) is larger then maximum 10000. Superobservations will be created. To avoid, increase nmax to the desired number of superobs\n",
      "└ @ DIVAnd /home/ctroupin/.julia/packages/DIVAnd/ZfEqh/src/DIVAnd_heatmap.jl:48\n"
     ]
    },
    {
     "name": "stdout",
     "output_type": "stream",
     "text": [
      "  0.922719 seconds (913.70 k allocations: 1.145 GiB, 1.91% gc time)\n",
      "  2.109967 seconds (442.02 k allocations: 3.315 GiB, 2.15% gc time)\n"
     ]
    },
    {
     "name": "stderr",
     "output_type": "stream",
     "text": [
      "┌ Warning: Data array size (20451,) is larger then maximum 10000. Superobservations will be created. To avoid, increase nmax to the desired number of superobs\n",
      "└ @ DIVAnd /home/ctroupin/.julia/packages/DIVAnd/ZfEqh/src/DIVAnd_heatmap.jl:48\n"
     ]
    },
    {
     "name": "stdout",
     "output_type": "stream",
     "text": [
      "  0.797112 seconds (762.19 k allocations: 1.120 GiB, 1.63% gc time)\n"
     ]
    },
    {
     "name": "stderr",
     "output_type": "stream",
     "text": [
      "┌ Info: Working on Protoperidinium bipes\n",
      "└ @ Main In[155]:3\n",
      "┌ Warning: Data array size (11662,) is larger then maximum 10000. Superobservations will be created. To avoid, increase nmax to the desired number of superobs\n",
      "└ @ DIVAnd /home/ctroupin/.julia/packages/DIVAnd/ZfEqh/src/DIVAnd_heatmap.jl:48\n"
     ]
    },
    {
     "name": "stdout",
     "output_type": "stream",
     "text": [
      "  0.117016 seconds (358.21 k allocations: 92.678 MiB)\n",
      "  1.350885 seconds (277.58 k allocations: 2.051 GiB, 1.91% gc time)\n",
      "  3.729920 seconds (764.12 k allocations: 5.940 GiB, 1.88% gc time)\n"
     ]
    },
    {
     "name": "stderr",
     "output_type": "stream",
     "text": [
      "┌ Info: Working on Protoperidinium\n",
      "└ @ Main In[155]:3\n",
      "┌ Warning: Data array size (25062,) is larger then maximum 10000. Superobservations will be created. To avoid, increase nmax to the desired number of superobs\n",
      "└ @ DIVAnd /home/ctroupin/.julia/packages/DIVAnd/ZfEqh/src/DIVAnd_heatmap.jl:48\n"
     ]
    },
    {
     "name": "stdout",
     "output_type": "stream",
     "text": [
      "  0.927988 seconds (908.14 k allocations: 1.178 GiB, 2.46% gc time)\n",
      "  3.707554 seconds (748.45 k allocations: 5.807 GiB, 1.62% gc time)\n"
     ]
    },
    {
     "name": "stderr",
     "output_type": "stream",
     "text": [
      "┌ Warning: Data array size (16671,) is larger then maximum 10000. Superobservations will be created. To avoid, increase nmax to the desired number of superobs\n",
      "└ @ DIVAnd /home/ctroupin/.julia/packages/DIVAnd/ZfEqh/src/DIVAnd_heatmap.jl:48\n"
     ]
    },
    {
     "name": "stdout",
     "output_type": "stream",
     "text": [
      "  0.769555 seconds (644.74 k allocations: 1.088 GiB, 2.25% gc time)\n"
     ]
    },
    {
     "name": "stderr",
     "output_type": "stream",
     "text": [
      "┌ Info: Working on Pseudo\n",
      "└ @ Main In[155]:3\n",
      "┌ Warning: Data array size (20143,) is larger then maximum 10000. Superobservations will be created. To avoid, increase nmax to the desired number of superobs\n",
      "└ @ DIVAnd /home/ctroupin/.julia/packages/DIVAnd/ZfEqh/src/DIVAnd_heatmap.jl:48\n"
     ]
    },
    {
     "name": "stdout",
     "output_type": "stream",
     "text": [
      "  0.904346 seconds (758.11 k allocations: 1.157 GiB, 1.95% gc time)\n",
      "  1.545707 seconds (324.10 k allocations: 2.405 GiB, 2.06% gc time)\n"
     ]
    },
    {
     "name": "stderr",
     "output_type": "stream",
     "text": [
      "┌ Warning: Data array size (16526,) is larger then maximum 10000. Superobservations will be created. To avoid, increase nmax to the desired number of superobs\n",
      "└ @ DIVAnd /home/ctroupin/.julia/packages/DIVAnd/ZfEqh/src/DIVAnd_heatmap.jl:48\n"
     ]
    },
    {
     "name": "stdout",
     "output_type": "stream",
     "text": [
      "  0.779568 seconds (643.48 k allocations: 1.111 GiB, 1.70% gc time)\n"
     ]
    },
    {
     "name": "stderr",
     "output_type": "stream",
     "text": [
      "┌ Info: Working on Pseudo\n",
      "└ @ Main In[155]:3\n"
     ]
    },
    {
     "name": "stdout",
     "output_type": "stream",
     "text": [
      "  3.475851 seconds (730.82 k allocations: 5.661 GiB, 1.85% gc time)\n",
      "  0.638627 seconds (132.31 k allocations: 1011.492 MiB, 1.65% gc time)\n",
      "  2.802955 seconds (599.20 k allocations: 4.573 GiB, 2.05% gc time)\n"
     ]
    },
    {
     "name": "stderr",
     "output_type": "stream",
     "text": [
      "┌ Info: Working on Pseudo\n",
      "└ @ Main In[155]:3\n"
     ]
    },
    {
     "name": "stdout",
     "output_type": "stream",
     "text": [
      "  3.595177 seconds (751.98 k allocations: 5.838 GiB, 1.78% gc time)\n",
      "  1.029076 seconds (224.69 k allocations: 1.656 GiB, 2.58% gc time)\n",
      "  2.423174 seconds (529.49 k allocations: 4.009 GiB, 1.76% gc time)\n"
     ]
    },
    {
     "name": "stderr",
     "output_type": "stream",
     "text": [
      "┌ Info: Working on Pseudo\n",
      "└ @ Main In[155]:3\n",
      "┌ Warning: Data array size (19484,) is larger then maximum 10000. Superobservations will be created. To avoid, increase nmax to the desired number of superobs\n",
      "└ @ DIVAnd /home/ctroupin/.julia/packages/DIVAnd/ZfEqh/src/DIVAnd_heatmap.jl:48\n"
     ]
    },
    {
     "name": "stdout",
     "output_type": "stream",
     "text": [
      "  0.853953 seconds (742.39 k allocations: 1.187 GiB, 1.99% gc time)\n",
      "  0.926686 seconds (195.50 k allocations: 1.440 GiB, 1.78% gc time)\n"
     ]
    },
    {
     "name": "stderr",
     "output_type": "stream",
     "text": [
      "┌ Warning: Data array size (17312,) is larger then maximum 10000. Superobservations will be created. To avoid, increase nmax to the desired number of superobs\n",
      "└ @ DIVAnd /home/ctroupin/.julia/packages/DIVAnd/ZfEqh/src/DIVAnd_heatmap.jl:48\n"
     ]
    },
    {
     "name": "stdout",
     "output_type": "stream",
     "text": [
      "  0.784276 seconds (666.27 k allocations: 1.106 GiB, 2.35% gc time)\n"
     ]
    },
    {
     "name": "stderr",
     "output_type": "stream",
     "text": [
      "┌ Info: Working on Pseudo\n",
      "└ @ Main In[155]:3\n",
      "┌ Warning: Data array size (25897,) is larger then maximum 10000. Superobservations will be created. To avoid, increase nmax to the desired number of superobs\n",
      "└ @ DIVAnd /home/ctroupin/.julia/packages/DIVAnd/ZfEqh/src/DIVAnd_heatmap.jl:48\n"
     ]
    },
    {
     "name": "stdout",
     "output_type": "stream",
     "text": [
      "  0.843415 seconds (934.59 k allocations: 1.189 GiB, 2.13% gc time)\n",
      "  4.450174 seconds (887.46 k allocations: 6.997 GiB, 1.66% gc time)\n"
     ]
    },
    {
     "name": "stderr",
     "output_type": "stream",
     "text": [
      "┌ Warning: Data array size (15944,) is larger then maximum 10000. Superobservations will be created. To avoid, increase nmax to the desired number of superobs\n",
      "└ @ DIVAnd /home/ctroupin/.julia/packages/DIVAnd/ZfEqh/src/DIVAnd_heatmap.jl:48\n"
     ]
    },
    {
     "name": "stdout",
     "output_type": "stream",
     "text": [
      "  0.747114 seconds (620.64 k allocations: 1.071 GiB, 2.53% gc time)\n"
     ]
    },
    {
     "name": "stderr",
     "output_type": "stream",
     "text": [
      "┌ Info: Working on Pseudopedinella\n",
      "└ @ Main In[155]:3\n",
      "┌ Warning: Data array size (10113,) is larger then maximum 10000. Superobservations will be created. To avoid, increase nmax to the desired number of superobs\n",
      "└ @ DIVAnd /home/ctroupin/.julia/packages/DIVAnd/ZfEqh/src/DIVAnd_heatmap.jl:48\n"
     ]
    },
    {
     "name": "stdout",
     "output_type": "stream",
     "text": [
      "  0.115209 seconds (311.83 k allocations: 92.384 MiB)\n",
      "  0.805036 seconds (122.45 k allocations: 934.478 MiB, 2.28% gc time)\n",
      "  5.003112 seconds (779.99 k allocations: 6.076 GiB, 1.51% gc time)\n"
     ]
    },
    {
     "name": "stderr",
     "output_type": "stream",
     "text": [
      "┌ Info: Working on Pterosperma\n",
      "└ @ Main In[155]:3\n",
      "┌ Warning: Data array size (21210,) is larger then maximum 10000. Superobservations will be created. To avoid, increase nmax to the desired number of superobs\n",
      "└ @ DIVAnd /home/ctroupin/.julia/packages/DIVAnd/ZfEqh/src/DIVAnd_heatmap.jl:48\n"
     ]
    },
    {
     "name": "stdout",
     "output_type": "stream",
     "text": [
      "  0.768602 seconds (773.83 k allocations: 1.037 GiB, 2.25% gc time)\n",
      "  0.500848 seconds (93.75 k allocations: 720.856 MiB, 1.17% gc time)\n"
     ]
    },
    {
     "name": "stderr",
     "output_type": "stream",
     "text": [
      "┌ Warning: Data array size (20165,) is larger then maximum 10000. Superobservations will be created. To avoid, increase nmax to the desired number of superobs\n",
      "└ @ DIVAnd /home/ctroupin/.julia/packages/DIVAnd/ZfEqh/src/DIVAnd_heatmap.jl:48\n"
     ]
    },
    {
     "name": "stdout",
     "output_type": "stream",
     "text": [
      "  0.737309 seconds (741.99 k allocations: 1.035 GiB, 1.87% gc time)\n"
     ]
    },
    {
     "name": "stderr",
     "output_type": "stream",
     "text": [
      "┌ Info: Working on Pyramimonas\n",
      "└ @ Main In[155]:3\n",
      "┌ Warning: Data array size (13163,) is larger then maximum 10000. Superobservations will be created. To avoid, increase nmax to the desired number of superobs\n",
      "└ @ DIVAnd /home/ctroupin/.julia/packages/DIVAnd/ZfEqh/src/DIVAnd_heatmap.jl:48\n"
     ]
    },
    {
     "name": "stdout",
     "output_type": "stream",
     "text": [
      "  0.111479 seconds (403.84 k allocations: 98.069 MiB)\n",
      "  1.880096 seconds (393.48 k allocations: 2.938 GiB, 2.52% gc time)\n",
      "  3.779693 seconds (781.81 k allocations: 6.089 GiB, 1.72% gc time)\n"
     ]
    },
    {
     "name": "stderr",
     "output_type": "stream",
     "text": [
      "┌ Info: Working on Ralfsiella minima\n",
      "└ @ Main In[155]:3\n"
     ]
    },
    {
     "name": "stdout",
     "output_type": "stream",
     "text": [
      "  4.158550 seconds (843.70 k allocations: 6.617 GiB, 1.77% gc time)\n",
      "  0.980371 seconds (211.67 k allocations: 1.559 GiB, 1.77% gc time)\n",
      "  2.998151 seconds (634.23 k allocations: 4.857 GiB, 1.72% gc time)\n"
     ]
    },
    {
     "name": "stderr",
     "output_type": "stream",
     "text": [
      "┌ Info: Working on Ralfsiella\n",
      "└ @ Main In[155]:3\n",
      "┌ Warning: Data array size (10806,) is larger then maximum 10000. Superobservations will be created. To avoid, increase nmax to the desired number of superobs\n",
      "└ @ DIVAnd /home/ctroupin/.julia/packages/DIVAnd/ZfEqh/src/DIVAnd_heatmap.jl:48\n"
     ]
    },
    {
     "name": "stdout",
     "output_type": "stream",
     "text": [
      "  0.102483 seconds (332.62 k allocations: 92.802 MiB)\n",
      "  1.028554 seconds (211.67 k allocations: 1.559 GiB, 3.07% gc time)\n",
      "  3.647224 seconds (753.84 k allocations: 5.852 GiB, 1.78% gc time)\n"
     ]
    },
    {
     "name": "stderr",
     "output_type": "stream",
     "text": [
      "┌ Info: Working on Rhaphoneis amphiceros\n",
      "└ @ Main In[155]:3\n",
      "┌ Warning: Data array size (21907,) is larger then maximum 10000. Superobservations will be created. To avoid, increase nmax to the desired number of superobs\n",
      "└ @ DIVAnd /home/ctroupin/.julia/packages/DIVAnd/ZfEqh/src/DIVAnd_heatmap.jl:48\n"
     ]
    },
    {
     "name": "stdout",
     "output_type": "stream",
     "text": [
      "  0.882786 seconds (817.28 k allocations: 1.204 GiB, 3.63% gc time)\n",
      "  1.180835 seconds (249.25 k allocations: 1.839 GiB, 1.49% gc time)\n"
     ]
    },
    {
     "name": "stderr",
     "output_type": "stream",
     "text": [
      "┌ Warning: Data array size (19131,) is larger then maximum 10000. Superobservations will be created. To avoid, increase nmax to the desired number of superobs\n",
      "└ @ DIVAnd /home/ctroupin/.julia/packages/DIVAnd/ZfEqh/src/DIVAnd_heatmap.jl:48\n"
     ]
    },
    {
     "name": "stdout",
     "output_type": "stream",
     "text": [
      "  0.814975 seconds (729.20 k allocations: 1.169 GiB, 1.74% gc time)\n"
     ]
    },
    {
     "name": "stderr",
     "output_type": "stream",
     "text": [
      "┌ Info: Working on Rhaphoneis minutissima\n",
      "└ @ Main In[155]:3\n"
     ]
    },
    {
     "name": "stdout",
     "output_type": "stream",
     "text": [
      "  3.199799 seconds (674.13 k allocations: 5.188 GiB, 1.84% gc time)\n",
      "  1.150371 seconds (248.98 k allocations: 1.837 GiB, 1.54% gc time)\n",
      "  1.954571 seconds (427.34 k allocations: 3.202 GiB, 1.79% gc time)\n"
     ]
    },
    {
     "name": "stderr",
     "output_type": "stream",
     "text": [
      "┌ Info: Working on Rhaphoneis\n",
      "└ @ Main In[155]:3\n",
      "┌ Warning: Data array size (22819,) is larger then maximum 10000. Superobservations will be created. To avoid, increase nmax to the desired number of superobs\n",
      "└ @ DIVAnd /home/ctroupin/.julia/packages/DIVAnd/ZfEqh/src/DIVAnd_heatmap.jl:48\n"
     ]
    },
    {
     "name": "stdout",
     "output_type": "stream",
     "text": [
      "  0.935699 seconds (847.46 k allocations: 1.226 GiB, 1.95% gc time)\n",
      "  2.065753 seconds (438.64 k allocations: 3.290 GiB, 1.69% gc time)\n"
     ]
    },
    {
     "name": "stderr",
     "output_type": "stream",
     "text": [
      "┌ Warning: Data array size (17915,) is larger then maximum 10000. Superobservations will be created. To avoid, increase nmax to the desired number of superobs\n",
      "└ @ DIVAnd /home/ctroupin/.julia/packages/DIVAnd/ZfEqh/src/DIVAnd_heatmap.jl:48\n"
     ]
    },
    {
     "name": "stdout",
     "output_type": "stream",
     "text": [
      "  0.820448 seconds (693.16 k allocations: 1.171 GiB, 1.77% gc time)\n"
     ]
    },
    {
     "name": "stderr",
     "output_type": "stream",
     "text": [
      "┌ Info: Working on Rhizosolenia delicatula\n",
      "└ @ Main In[155]:3\n",
      "┌ Warning: Data array size (22844,) is larger then maximum 10000. Superobservations will be created. To avoid, increase nmax to the desired number of superobs\n",
      "└ @ DIVAnd /home/ctroupin/.julia/packages/DIVAnd/ZfEqh/src/DIVAnd_heatmap.jl:48\n"
     ]
    },
    {
     "name": "stdout",
     "output_type": "stream",
     "text": [
      "  0.868086 seconds (838.34 k allocations: 1.153 GiB, 2.14% gc time)\n",
      "  3.053792 seconds (638.92 k allocations: 4.897 GiB, 1.69% gc time)\n"
     ]
    },
    {
     "name": "stderr",
     "output_type": "stream",
     "text": [
      "┌ Warning: Data array size (15687,) is larger then maximum 10000. Superobservations will be created. To avoid, increase nmax to the desired number of superobs\n",
      "└ @ DIVAnd /home/ctroupin/.julia/packages/DIVAnd/ZfEqh/src/DIVAnd_heatmap.jl:48\n"
     ]
    },
    {
     "name": "stdout",
     "output_type": "stream",
     "text": [
      "  0.768026 seconds (619.09 k allocations: 1.116 GiB, 1.06% gc time)\n"
     ]
    },
    {
     "name": "stderr",
     "output_type": "stream",
     "text": [
      "┌ Info: Working on Rhizosolenia flaccida\n",
      "└ @ Main In[155]:3\n",
      "┌ Warning: Data array size (21794,) is larger then maximum 10000. Superobservations will be created. To avoid, increase nmax to the desired number of superobs\n",
      "└ @ DIVAnd /home/ctroupin/.julia/packages/DIVAnd/ZfEqh/src/DIVAnd_heatmap.jl:48\n"
     ]
    },
    {
     "name": "stdout",
     "output_type": "stream",
     "text": [
      "  0.820011 seconds (803.23 k allocations: 1.125 GiB, 2.23% gc time)\n",
      "  1.949637 seconds (348.34 k allocations: 2.590 GiB, 16.20% gc time)\n"
     ]
    },
    {
     "name": "stderr",
     "output_type": "stream",
     "text": [
      "┌ Warning: Data array size (17904,) is larger then maximum 10000. Superobservations will be created. To avoid, increase nmax to the desired number of superobs\n",
      "└ @ DIVAnd /home/ctroupin/.julia/packages/DIVAnd/ZfEqh/src/DIVAnd_heatmap.jl:48\n"
     ]
    },
    {
     "name": "stdout",
     "output_type": "stream",
     "text": [
      "  0.785100 seconds (680.67 k allocations: 1.081 GiB, 1.94% gc time)\n"
     ]
    },
    {
     "name": "stderr",
     "output_type": "stream",
     "text": [
      "┌ Info: Working on Rhizosolenia fragilissima f. fragilissima\n",
      "└ @ Main In[155]:3\n",
      "┌ Warning: Data array size (22909,) is larger then maximum 10000. Superobservations will be created. To avoid, increase nmax to the desired number of superobs\n",
      "└ @ DIVAnd /home/ctroupin/.julia/packages/DIVAnd/ZfEqh/src/DIVAnd_heatmap.jl:48\n"
     ]
    },
    {
     "name": "stdout",
     "output_type": "stream",
     "text": [
      "  0.872102 seconds (839.94 k allocations: 1.150 GiB, 3.76% gc time)\n",
      "  0.877318 seconds (184.77 k allocations: 1.359 GiB, 2.04% gc time)\n"
     ]
    },
    {
     "name": "stderr",
     "output_type": "stream",
     "text": [
      "┌ Warning: Data array size (20854,) is larger then maximum 10000. Superobservations will be created. To avoid, increase nmax to the desired number of superobs\n",
      "└ @ DIVAnd /home/ctroupin/.julia/packages/DIVAnd/ZfEqh/src/DIVAnd_heatmap.jl:48\n"
     ]
    },
    {
     "name": "stdout",
     "output_type": "stream",
     "text": [
      "  0.799620 seconds (773.48 k allocations: 1.115 GiB, 1.97% gc time)\n"
     ]
    },
    {
     "name": "stderr",
     "output_type": "stream",
     "text": [
      "┌ Info: Working on Rhizosolenia hebetata\n",
      "└ @ Main In[155]:3\n",
      "┌ Warning: Data array size (11283,) is larger then maximum 10000. Superobservations will be created. To avoid, increase nmax to the desired number of superobs\n",
      "└ @ DIVAnd /home/ctroupin/.julia/packages/DIVAnd/ZfEqh/src/DIVAnd_heatmap.jl:48\n"
     ]
    },
    {
     "name": "stdout",
     "output_type": "stream",
     "text": [
      "  0.820677 seconds (490.10 k allocations: 1.135 GiB, 2.18% gc time)\n",
      "  0.544518 seconds (105.04 k allocations: 807.332 MiB, 3.21% gc time)\n"
     ]
    },
    {
     "name": "stderr",
     "output_type": "stream",
     "text": [
      "┌ Warning: Data array size (10114,) is larger then maximum 10000. Superobservations will be created. To avoid, increase nmax to the desired number of superobs\n",
      "└ @ DIVAnd /home/ctroupin/.julia/packages/DIVAnd/ZfEqh/src/DIVAnd_heatmap.jl:48\n"
     ]
    },
    {
     "name": "stdout",
     "output_type": "stream",
     "text": [
      "  0.756705 seconds (447.59 k allocations: 1.081 GiB, 1.93% gc time)\n"
     ]
    },
    {
     "name": "stderr",
     "output_type": "stream",
     "text": [
      "┌ Info: Working on Rhizosolenia imbricata\n",
      "└ @ Main In[155]:3\n",
      "┌ Warning: Data array size (12947,) is larger then maximum 10000. Superobservations will be created. To avoid, increase nmax to the desired number of superobs\n",
      "└ @ DIVAnd /home/ctroupin/.julia/packages/DIVAnd/ZfEqh/src/DIVAnd_heatmap.jl:48\n"
     ]
    },
    {
     "name": "stdout",
     "output_type": "stream",
     "text": [
      "  0.804413 seconds (536.85 k allocations: 1.113 GiB, 2.34% gc time)\n",
      "  1.284751 seconds (264.65 k allocations: 1.955 GiB, 1.76% gc time)\n",
      "  4.613292 seconds (891.40 k allocations: 7.032 GiB, 1.86% gc time)\n"
     ]
    },
    {
     "name": "stderr",
     "output_type": "stream",
     "text": [
      "┌ Info: Working on Rhizosolenia setigera\n",
      "└ @ Main In[155]:3\n",
      "┌ Warning: Data array size (22614,) is larger then maximum 10000. Superobservations will be created. To avoid, increase nmax to the desired number of superobs\n",
      "└ @ DIVAnd /home/ctroupin/.julia/packages/DIVAnd/ZfEqh/src/DIVAnd_heatmap.jl:48\n"
     ]
    },
    {
     "name": "stdout",
     "output_type": "stream",
     "text": [
      "  0.860891 seconds (828.55 k allocations: 1.131 GiB, 2.40% gc time)\n",
      "  2.094443 seconds (450.05 k allocations: 3.379 GiB, 1.92% gc time)\n"
     ]
    },
    {
     "name": "stderr",
     "output_type": "stream",
     "text": [
      "┌ Warning: Data array size (17579,) is larger then maximum 10000. Superobservations will be created. To avoid, increase nmax to the desired number of superobs\n",
      "└ @ DIVAnd /home/ctroupin/.julia/packages/DIVAnd/ZfEqh/src/DIVAnd_heatmap.jl:48\n"
     ]
    },
    {
     "name": "stdout",
     "output_type": "stream",
     "text": [
      "  0.767166 seconds (671.81 k allocations: 1.088 GiB, 2.13% gc time)\n"
     ]
    },
    {
     "name": "stderr",
     "output_type": "stream",
     "text": [
      "┌ Info: Working on Rhizosolenia shrubsolei\n",
      "└ @ Main In[155]:3\n"
     ]
    },
    {
     "name": "stdout",
     "output_type": "stream",
     "text": [
      "  4.221209 seconds (858.45 k allocations: 6.747 GiB, 1.90% gc time)\n",
      "  1.763958 seconds (381.24 k allocations: 2.843 GiB, 2.32% gc time)\n",
      "  2.246032 seconds (479.40 k allocations: 3.611 GiB, 1.86% gc time)\n"
     ]
    },
    {
     "name": "stderr",
     "output_type": "stream",
     "text": [
      "┌ Info: Working on Rhizosolenia stolterfothii\n",
      "└ @ Main In[155]:3\n"
     ]
    },
    {
     "name": "stdout",
     "output_type": "stream",
     "text": [
      "  3.885353 seconds (786.09 k allocations: 6.127 GiB, 1.83% gc time)\n",
      "  0.750955 seconds (157.40 k allocations: 1.173 GiB, 2.33% gc time)\n",
      "  2.992059 seconds (629.10 k allocations: 4.817 GiB, 1.87% gc time)\n"
     ]
    },
    {
     "name": "stderr",
     "output_type": "stream",
     "text": [
      "┌ Info: Working on Rhizosolenia styliformis\n",
      "└ @ Main In[155]:3\n",
      "┌ Warning: Data array size (21885,) is larger then maximum 10000. Superobservations will be created. To avoid, increase nmax to the desired number of superobs\n",
      "└ @ DIVAnd /home/ctroupin/.julia/packages/DIVAnd/ZfEqh/src/DIVAnd_heatmap.jl:48\n"
     ]
    },
    {
     "name": "stdout",
     "output_type": "stream",
     "text": [
      "  0.860713 seconds (808.69 k allocations: 1.146 GiB, 2.50% gc time)\n",
      "  0.907394 seconds (176.84 k allocations: 1.318 GiB, 1.75% gc time)\n"
     ]
    },
    {
     "name": "stderr",
     "output_type": "stream",
     "text": [
      "┌ Warning: Data array size (19900,) is larger then maximum 10000. Superobservations will be created. To avoid, increase nmax to the desired number of superobs\n",
      "└ @ DIVAnd /home/ctroupin/.julia/packages/DIVAnd/ZfEqh/src/DIVAnd_heatmap.jl:48\n"
     ]
    },
    {
     "name": "stdout",
     "output_type": "stream",
     "text": [
      "  0.776288 seconds (741.08 k allocations: 1.086 GiB, 2.39% gc time)\n"
     ]
    },
    {
     "name": "stderr",
     "output_type": "stream",
     "text": [
      "┌ Info: Working on Rhizosolenia\n",
      "└ @ Main In[155]:3\n",
      "┌ Warning: Data array size (25745,) is larger then maximum 10000. Superobservations will be created. To avoid, increase nmax to the desired number of superobs\n",
      "└ @ DIVAnd /home/ctroupin/.julia/packages/DIVAnd/ZfEqh/src/DIVAnd_heatmap.jl:48\n"
     ]
    },
    {
     "name": "stdout",
     "output_type": "stream",
     "text": [
      "  0.914392 seconds (929.95 k allocations: 1.188 GiB, 2.37% gc time)\n"
     ]
    },
    {
     "name": "stderr",
     "output_type": "stream",
     "text": [
      "┌ Warning: Data array size (13682,) is larger then maximum 10000. Superobservations will be created. To avoid, increase nmax to the desired number of superobs\n",
      "└ @ DIVAnd /home/ctroupin/.julia/packages/DIVAnd/ZfEqh/src/DIVAnd_heatmap.jl:48\n"
     ]
    },
    {
     "name": "stdout",
     "output_type": "stream",
     "text": [
      "  0.558147 seconds (512.75 k allocations: 794.672 MiB, 2.11% gc time)\n"
     ]
    },
    {
     "name": "stderr",
     "output_type": "stream",
     "text": [
      "┌ Warning: Data array size (12063,) is larger then maximum 10000. Superobservations will be created. To avoid, increase nmax to the desired number of superobs\n",
      "└ @ DIVAnd /home/ctroupin/.julia/packages/DIVAnd/ZfEqh/src/DIVAnd_heatmap.jl:48\n"
     ]
    },
    {
     "name": "stdout",
     "output_type": "stream",
     "text": [
      "  0.716758 seconds (497.79 k allocations: 1.021 GiB, 1.65% gc time)\n"
     ]
    },
    {
     "name": "stderr",
     "output_type": "stream",
     "text": [
      "┌ Info: Working on Scenedesmus\n",
      "└ @ Main In[155]:3\n",
      "┌ Warning: Data array size (10096,) is larger then maximum 10000. Superobservations will be created. To avoid, increase nmax to the desired number of superobs\n",
      "└ @ DIVAnd /home/ctroupin/.julia/packages/DIVAnd/ZfEqh/src/DIVAnd_heatmap.jl:48\n"
     ]
    },
    {
     "name": "stdout",
     "output_type": "stream",
     "text": [
      "  0.086136 seconds (310.04 k allocations: 82.909 MiB)\n",
      "  0.830143 seconds (164.88 k allocations: 1.228 GiB, 3.32% gc time)\n",
      "  3.557381 seconds (736.17 k allocations: 5.706 GiB, 1.77% gc time)\n"
     ]
    },
    {
     "name": "stderr",
     "output_type": "stream",
     "text": [
      "┌ Info: Working on Scrippsiella\n",
      "└ @ Main In[155]:3\n",
      "┌ Warning: Data array size (24863,) is larger then maximum 10000. Superobservations will be created. To avoid, increase nmax to the desired number of superobs\n",
      "└ @ DIVAnd /home/ctroupin/.julia/packages/DIVAnd/ZfEqh/src/DIVAnd_heatmap.jl:48\n"
     ]
    },
    {
     "name": "stdout",
     "output_type": "stream",
     "text": [
      "  0.847283 seconds (897.15 k allocations: 1.141 GiB, 1.95% gc time)\n",
      "  1.624266 seconds (341.13 k allocations: 2.534 GiB, 1.84% gc time)\n"
     ]
    },
    {
     "name": "stderr",
     "output_type": "stream",
     "text": [
      "┌ Warning: Data array size (21052,) is larger then maximum 10000. Superobservations will be created. To avoid, increase nmax to the desired number of superobs\n",
      "└ @ DIVAnd /home/ctroupin/.julia/packages/DIVAnd/ZfEqh/src/DIVAnd_heatmap.jl:48\n"
     ]
    },
    {
     "name": "stdout",
     "output_type": "stream",
     "text": [
      "  0.801106 seconds (780.66 k allocations: 1.124 GiB, 2.21% gc time)\n"
     ]
    },
    {
     "name": "stderr",
     "output_type": "stream",
     "text": [
      "┌ Info: Working on Skeletonema costatum\n",
      "└ @ Main In[155]:3\n",
      "┌ Warning: Data array size (21445,) is larger then maximum 10000. Superobservations will be created. To avoid, increase nmax to the desired number of superobs\n",
      "└ @ DIVAnd /home/ctroupin/.julia/packages/DIVAnd/ZfEqh/src/DIVAnd_heatmap.jl:48\n"
     ]
    },
    {
     "name": "stdout",
     "output_type": "stream",
     "text": [
      "  0.821448 seconds (792.06 k allocations: 1.120 GiB, 2.00% gc time)\n",
      "  1.915723 seconds (404.29 k allocations: 3.022 GiB, 1.85% gc time)\n"
     ]
    },
    {
     "name": "stderr",
     "output_type": "stream",
     "text": [
      "┌ Warning: Data array size (16927,) is larger then maximum 10000. Superobservations will be created. To avoid, increase nmax to the desired number of superobs\n",
      "└ @ DIVAnd /home/ctroupin/.julia/packages/DIVAnd/ZfEqh/src/DIVAnd_heatmap.jl:48\n"
     ]
    },
    {
     "name": "stdout",
     "output_type": "stream",
     "text": [
      "  0.766012 seconds (653.21 k allocations: 1.094 GiB, 1.64% gc time)\n"
     ]
    },
    {
     "name": "stderr",
     "output_type": "stream",
     "text": [
      "┌ Info: Working on Skeletonema\n",
      "└ @ Main In[155]:3\n",
      "┌ Warning: Data array size (25447,) is larger then maximum 10000. Superobservations will be created. To avoid, increase nmax to the desired number of superobs\n",
      "└ @ DIVAnd /home/ctroupin/.julia/packages/DIVAnd/ZfEqh/src/DIVAnd_heatmap.jl:48\n"
     ]
    },
    {
     "name": "stdout",
     "output_type": "stream",
     "text": [
      "  0.865048 seconds (920.92 k allocations: 1.187 GiB, 1.93% gc time)\n",
      "  2.623753 seconds (554.27 k allocations: 4.207 GiB, 1.79% gc time)\n"
     ]
    },
    {
     "name": "stderr",
     "output_type": "stream",
     "text": [
      "┌ Warning: Data array size (19238,) is larger then maximum 10000. Superobservations will be created. To avoid, increase nmax to the desired number of superobs\n",
      "└ @ DIVAnd /home/ctroupin/.julia/packages/DIVAnd/ZfEqh/src/DIVAnd_heatmap.jl:48\n"
     ]
    },
    {
     "name": "stdout",
     "output_type": "stream",
     "text": [
      "  0.819479 seconds (728.35 k allocations: 1.139 GiB, 2.17% gc time)\n"
     ]
    },
    {
     "name": "stderr",
     "output_type": "stream",
     "text": [
      "┌ Info: Working on Stauroneis membranacea\n",
      "└ @ Main In[155]:3\n"
     ]
    },
    {
     "name": "stdout",
     "output_type": "stream",
     "text": [
      "  4.208406 seconds (858.45 k allocations: 6.747 GiB, 1.81% gc time)\n",
      "  0.464223 seconds (92.27 k allocations: 711.791 MiB, 1.07% gc time)\n",
      "  3.660543 seconds (767.32 k allocations: 5.968 GiB, 1.91% gc time)\n"
     ]
    },
    {
     "name": "stderr",
     "output_type": "stream",
     "text": [
      "┌ Info: Working on Stauroneis\n",
      "└ @ Main In[155]:3\n"
     ]
    },
    {
     "name": "stdout",
     "output_type": "stream",
     "text": [
      "  4.292841 seconds (868.95 k allocations: 6.838 GiB, 1.99% gc time)\n",
      "  0.475792 seconds (92.54 k allocations: 713.798 MiB, 2.27% gc time)\n",
      "  3.697673 seconds (777.55 k allocations: 6.055 GiB, 1.66% gc time)\n"
     ]
    },
    {
     "name": "stderr",
     "output_type": "stream",
     "text": [
      "┌ Info: Working on Stephanopyxis turris\n",
      "└ @ Main In[155]:3\n",
      "┌ Warning: Data array size (11054,) is larger then maximum 10000. Superobservations will be created. To avoid, increase nmax to the desired number of superobs\n",
      "└ @ DIVAnd /home/ctroupin/.julia/packages/DIVAnd/ZfEqh/src/DIVAnd_heatmap.jl:48\n"
     ]
    },
    {
     "name": "stdout",
     "output_type": "stream",
     "text": [
      "  0.187415 seconds (348.32 k allocations: 154.553 MiB, 4.96% gc time)\n",
      "  0.394308 seconds (75.02 k allocations: 583.678 MiB, 1.31% gc time)\n"
     ]
    },
    {
     "name": "stderr",
     "output_type": "stream",
     "text": [
      "┌ Warning: Data array size (10226,) is larger then maximum 10000. Superobservations will be created. To avoid, increase nmax to the desired number of superobs\n",
      "└ @ DIVAnd /home/ctroupin/.julia/packages/DIVAnd/ZfEqh/src/DIVAnd_heatmap.jl:48\n"
     ]
    },
    {
     "name": "stdout",
     "output_type": "stream",
     "text": [
      "  0.137268 seconds (318.86 k allocations: 120.880 MiB)\n"
     ]
    },
    {
     "name": "stderr",
     "output_type": "stream",
     "text": [
      "┌ Info: Working on Stephanopyxis\n",
      "└ @ Main In[155]:3\n",
      "┌ Warning: Data array size (22427,) is larger then maximum 10000. Superobservations will be created. To avoid, increase nmax to the desired number of superobs\n",
      "└ @ DIVAnd /home/ctroupin/.julia/packages/DIVAnd/ZfEqh/src/DIVAnd_heatmap.jl:48\n"
     ]
    },
    {
     "name": "stdout",
     "output_type": "stream",
     "text": [
      "  0.881365 seconds (828.56 k allocations: 1.173 GiB, 3.72% gc time)\n",
      "  0.488838 seconds (89.90 k allocations: 694.227 MiB, 1.12% gc time)\n"
     ]
    },
    {
     "name": "stderr",
     "output_type": "stream",
     "text": [
      "┌ Warning: Data array size (21430,) is larger then maximum 10000. Superobservations will be created. To avoid, increase nmax to the desired number of superobs\n",
      "└ @ DIVAnd /home/ctroupin/.julia/packages/DIVAnd/ZfEqh/src/DIVAnd_heatmap.jl:48\n"
     ]
    },
    {
     "name": "stdout",
     "output_type": "stream",
     "text": [
      "  0.818898 seconds (794.99 k allocations: 1.146 GiB, 3.23% gc time)\n"
     ]
    },
    {
     "name": "stderr",
     "output_type": "stream",
     "text": [
      "┌ Info: Working on Subsilicea\n",
      "└ @ Main In[155]:3\n"
     ]
    },
    {
     "name": "stdout",
     "output_type": "stream",
     "text": [
      "  3.207300 seconds (658.64 k allocations: 5.060 GiB, 1.71% gc time)\n",
      "  0.383308 seconds (70.71 k allocations: 551.683 MiB, 1.65% gc time)\n",
      "  2.797037 seconds (589.32 k allocations: 4.493 GiB, 1.73% gc time)\n"
     ]
    },
    {
     "name": "stderr",
     "output_type": "stream",
     "text": [
      "┌ Info: Working on Syndendrium\n",
      "└ @ Main In[155]:3\n",
      "┌ Warning: Data array size (11798,) is larger then maximum 10000. Superobservations will be created. To avoid, increase nmax to the desired number of superobs\n",
      "└ @ DIVAnd /home/ctroupin/.julia/packages/DIVAnd/ZfEqh/src/DIVAnd_heatmap.jl:48\n"
     ]
    },
    {
     "name": "stdout",
     "output_type": "stream",
     "text": [
      "  0.124418 seconds (362.46 k allocations: 94.042 MiB, 8.37% gc time)\n",
      "  0.359723 seconds (60.42 k allocations: 474.252 MiB, 1.62% gc time)\n"
     ]
    },
    {
     "name": "stderr",
     "output_type": "stream",
     "text": [
      "┌ Warning: Data array size (11133,) is larger then maximum 10000. Superobservations will be created. To avoid, increase nmax to the desired number of superobs\n",
      "└ @ DIVAnd /home/ctroupin/.julia/packages/DIVAnd/ZfEqh/src/DIVAnd_heatmap.jl:48\n"
     ]
    },
    {
     "name": "stdout",
     "output_type": "stream",
     "text": [
      "  0.109288 seconds (342.37 k allocations: 93.886 MiB)\n"
     ]
    },
    {
     "name": "stderr",
     "output_type": "stream",
     "text": [
      "┌ Info: Working on Synedra nitzschioides f. nitzschioides\n",
      "└ @ Main In[155]:3\n",
      "┌ Warning: Data array size (23737,) is larger then maximum 10000. Superobservations will be created. To avoid, increase nmax to the desired number of superobs\n",
      "└ @ DIVAnd /home/ctroupin/.julia/packages/DIVAnd/ZfEqh/src/DIVAnd_heatmap.jl:48\n"
     ]
    },
    {
     "name": "stdout",
     "output_type": "stream",
     "text": [
      "  0.875188 seconds (865.75 k allocations: 1.158 GiB, 2.02% gc time)\n",
      "  3.099511 seconds (628.83 k allocations: 4.814 GiB, 1.75% gc time)\n"
     ]
    },
    {
     "name": "stderr",
     "output_type": "stream",
     "text": [
      "┌ Warning: Data array size (16692,) is larger then maximum 10000. Superobservations will be created. To avoid, increase nmax to the desired number of superobs\n",
      "└ @ DIVAnd /home/ctroupin/.julia/packages/DIVAnd/ZfEqh/src/DIVAnd_heatmap.jl:48\n"
     ]
    },
    {
     "name": "stdout",
     "output_type": "stream",
     "text": [
      "  0.743053 seconds (639.12 k allocations: 1.042 GiB, 1.73% gc time)\n"
     ]
    },
    {
     "name": "stderr",
     "output_type": "stream",
     "text": [
      "┌ Info: Working on Synedra\n",
      "└ @ Main In[155]:3\n",
      "┌ Warning: Data array size (25617,) is larger then maximum 10000. Superobservations will be created. To avoid, increase nmax to the desired number of superobs\n",
      "└ @ DIVAnd /home/ctroupin/.julia/packages/DIVAnd/ZfEqh/src/DIVAnd_heatmap.jl:48\n"
     ]
    },
    {
     "name": "stdout",
     "output_type": "stream",
     "text": [
      "  0.873010 seconds (924.70 k allocations: 1.178 GiB, 2.02% gc time)\n",
      "  3.113976 seconds (630.16 k allocations: 4.825 GiB, 1.69% gc time)\n"
     ]
    },
    {
     "name": "stderr",
     "output_type": "stream",
     "text": [
      "┌ Warning: Data array size (18557,) is larger then maximum 10000. Superobservations will be created. To avoid, increase nmax to the desired number of superobs\n",
      "└ @ DIVAnd /home/ctroupin/.julia/packages/DIVAnd/ZfEqh/src/DIVAnd_heatmap.jl:48\n"
     ]
    },
    {
     "name": "stdout",
     "output_type": "stream",
     "text": [
      "  0.746652 seconds (697.80 k allocations: 1.064 GiB, 1.77% gc time)\n"
     ]
    },
    {
     "name": "stderr",
     "output_type": "stream",
     "text": [
      "┌ Info: Working on Teleaulax\n",
      "└ @ Main In[155]:3\n"
     ]
    },
    {
     "name": "stdout",
     "output_type": "stream",
     "text": [
      "  1.060730 seconds (216.52 k allocations: 1.592 GiB, 1.68% gc time)\n",
      "  0.381946 seconds (73.12 k allocations: 566.344 MiB, 2.88% gc time)\n",
      "  0.686484 seconds (143.13 k allocations: 1.067 GiB, 2.45% gc time)\n"
     ]
    },
    {
     "name": "stderr",
     "output_type": "stream",
     "text": [
      "┌ Info: Working on Thalassiosira decipiens\n",
      "└ @ Main In[155]:3\n"
     ]
    },
    {
     "name": "stdout",
     "output_type": "stream",
     "text": [
      "  2.022321 seconds (428.60 k allocations: 3.209 GiB, 1.75% gc time)\n",
      "  0.459282 seconds (92.35 k allocations: 710.350 MiB, 1.23% gc time)\n",
      "  1.540235 seconds (337.40 k allocations: 2.505 GiB, 1.77% gc time)\n"
     ]
    },
    {
     "name": "stderr",
     "output_type": "stream",
     "text": [
      "┌ Info: Working on Thalassiosira eccentrica\n",
      "└ @ Main In[155]:3\n"
     ]
    },
    {
     "name": "stdout",
     "output_type": "stream",
     "text": [
      "  3.440594 seconds (709.59 k allocations: 5.481 GiB, 1.82% gc time)\n",
      "  0.298712 seconds (55.74 k allocations: 441.143 MiB)\n",
      "  3.098477 seconds (655.40 k allocations: 5.032 GiB, 1.97% gc time)\n"
     ]
    },
    {
     "name": "stderr",
     "output_type": "stream",
     "text": [
      "┌ Info: Working on Thalassiosira levanderi\n",
      "└ @ Main In[155]:3\n"
     ]
    },
    {
     "name": "stdout",
     "output_type": "stream",
     "text": [
      "  2.544788 seconds (531.64 k allocations: 4.026 GiB, 1.80% gc time)\n",
      "  0.528039 seconds (108.11 k allocations: 829.964 MiB, 1.07% gc time)\n",
      "  1.968990 seconds (424.49 k allocations: 3.179 GiB, 1.77% gc time)\n"
     ]
    },
    {
     "name": "stderr",
     "output_type": "stream",
     "text": [
      "┌ Info: Working on Thalassiosira nordenskioeldii\n",
      "└ @ Main In[155]:3\n",
      "┌ Warning: Data array size (12545,) is larger then maximum 10000. Superobservations will be created. To avoid, increase nmax to the desired number of superobs\n",
      "└ @ DIVAnd /home/ctroupin/.julia/packages/DIVAnd/ZfEqh/src/DIVAnd_heatmap.jl:48\n"
     ]
    },
    {
     "name": "stdout",
     "output_type": "stream",
     "text": [
      "  0.157630 seconds (390.55 k allocations: 136.807 MiB)\n",
      "  0.555012 seconds (104.34 k allocations: 801.389 MiB, 4.80% gc time)\n"
     ]
    },
    {
     "name": "stderr",
     "output_type": "stream",
     "text": [
      "┌ Warning: Data array size (11383,) is larger then maximum 10000. Superobservations will be created. To avoid, increase nmax to the desired number of superobs\n",
      "└ @ DIVAnd /home/ctroupin/.julia/packages/DIVAnd/ZfEqh/src/DIVAnd_heatmap.jl:48\n"
     ]
    },
    {
     "name": "stdout",
     "output_type": "stream",
     "text": [
      "  0.105501 seconds (350.39 k allocations: 97.887 MiB)\n"
     ]
    },
    {
     "name": "stderr",
     "output_type": "stream",
     "text": [
      "┌ Info: Working on Thalassiosira rotula\n",
      "└ @ Main In[155]:3\n",
      "┌ Warning: Data array size (11018,) is larger then maximum 10000. Superobservations will be created. To avoid, increase nmax to the desired number of superobs\n",
      "└ @ DIVAnd /home/ctroupin/.julia/packages/DIVAnd/ZfEqh/src/DIVAnd_heatmap.jl:48\n"
     ]
    },
    {
     "name": "stdout",
     "output_type": "stream",
     "text": [
      "  0.151128 seconds (344.39 k allocations: 133.325 MiB)\n",
      "  1.071512 seconds (221.74 k allocations: 1.633 GiB, 2.77% gc time)\n",
      "  3.633709 seconds (762.64 k allocations: 5.927 GiB, 1.83% gc time)\n"
     ]
    },
    {
     "name": "stderr",
     "output_type": "stream",
     "text": [
      "┌ Info: Working on Thalassiosira\n",
      "└ @ Main In[155]:3\n",
      "┌ Warning: Data array size (25730,) is larger then maximum 10000. Superobservations will be created. To avoid, increase nmax to the desired number of superobs\n",
      "└ @ DIVAnd /home/ctroupin/.julia/packages/DIVAnd/ZfEqh/src/DIVAnd_heatmap.jl:48\n"
     ]
    },
    {
     "name": "stdout",
     "output_type": "stream",
     "text": [
      "  0.901217 seconds (929.50 k allocations: 1.188 GiB, 3.70% gc time)\n"
     ]
    },
    {
     "name": "stderr",
     "output_type": "stream",
     "text": [
      "┌ Warning: Data array size (13361,) is larger then maximum 10000. Superobservations will be created. To avoid, increase nmax to the desired number of superobs\n",
      "└ @ DIVAnd /home/ctroupin/.julia/packages/DIVAnd/ZfEqh/src/DIVAnd_heatmap.jl:48\n"
     ]
    },
    {
     "name": "stdout",
     "output_type": "stream",
     "text": [
      "  0.561909 seconds (502.51 k allocations: 789.930 MiB, 1.35% gc time)\n"
     ]
    },
    {
     "name": "stderr",
     "output_type": "stream",
     "text": [
      "┌ Warning: Data array size (12369,) is larger then maximum 10000. Superobservations will be created. To avoid, increase nmax to the desired number of superobs\n",
      "└ @ DIVAnd /home/ctroupin/.julia/packages/DIVAnd/ZfEqh/src/DIVAnd_heatmap.jl:48\n"
     ]
    },
    {
     "name": "stdout",
     "output_type": "stream",
     "text": [
      "  0.718577 seconds (506.26 k allocations: 1.016 GiB, 1.89% gc time)\n"
     ]
    },
    {
     "name": "stderr",
     "output_type": "stream",
     "text": [
      "┌ Info: Working on Tintinnopsis\n",
      "└ @ Main In[155]:3\n"
     ]
    },
    {
     "name": "stdout",
     "output_type": "stream",
     "text": [
      "  0.681269 seconds (132.31 k allocations: 1011.885 MiB, 1.79% gc time)\n",
      "  0.257374 seconds (45.22 k allocations: 363.565 MiB)\n",
      "  0.456203 seconds (89.28 k allocations: 689.760 MiB, 1.29% gc time)\n"
     ]
    },
    {
     "name": "stderr",
     "output_type": "stream",
     "text": [
      "┌ Info: Working on Torodinium robustum\n",
      "└ @ Main In[155]:3\n",
      "┌ Warning: Data array size (10659,) is larger then maximum 10000. Superobservations will be created. To avoid, increase nmax to the desired number of superobs\n",
      "└ @ DIVAnd /home/ctroupin/.julia/packages/DIVAnd/ZfEqh/src/DIVAnd_heatmap.jl:48\n"
     ]
    },
    {
     "name": "stdout",
     "output_type": "stream",
     "text": [
      "  0.098428 seconds (327.69 k allocations: 88.870 MiB)\n",
      "  1.486454 seconds (307.18 k allocations: 2.276 GiB, 1.69% gc time)\n",
      "  3.051487 seconds (645.33 k allocations: 4.948 GiB, 1.70% gc time)\n"
     ]
    },
    {
     "name": "stderr",
     "output_type": "stream",
     "text": [
      "┌ Info: Working on Torodinium\n",
      "└ @ Main In[155]:3\n",
      "┌ Warning: Data array size (12122,) is larger then maximum 10000. Superobservations will be created. To avoid, increase nmax to the desired number of superobs\n",
      "└ @ DIVAnd /home/ctroupin/.julia/packages/DIVAnd/ZfEqh/src/DIVAnd_heatmap.jl:48\n"
     ]
    },
    {
     "name": "stdout",
     "output_type": "stream",
     "text": [
      "  0.104741 seconds (372.35 k allocations: 95.516 MiB)\n",
      "  1.648618 seconds (323.65 k allocations: 2.402 GiB, 1.81% gc time)\n",
      "  3.644279 seconds (759.07 k allocations: 5.896 GiB, 1.76% gc time)\n"
     ]
    },
    {
     "name": "stderr",
     "output_type": "stream",
     "text": [
      "┌ Info: Working on Triceratium alternans f. alternans\n",
      "└ @ Main In[155]:3\n",
      "┌ Warning: Data array size (22451,) is larger then maximum 10000. Superobservations will be created. To avoid, increase nmax to the desired number of superobs\n",
      "└ @ DIVAnd /home/ctroupin/.julia/packages/DIVAnd/ZfEqh/src/DIVAnd_heatmap.jl:48\n"
     ]
    },
    {
     "name": "stdout",
     "output_type": "stream",
     "text": [
      "  0.866377 seconds (825.67 k allocations: 1.146 GiB, 2.14% gc time)\n",
      "  1.031646 seconds (221.84 k allocations: 1.635 GiB, 1.71% gc time)\n"
     ]
    },
    {
     "name": "stderr",
     "output_type": "stream",
     "text": [
      "┌ Warning: Data array size (19983,) is larger then maximum 10000. Superobservations will be created. To avoid, increase nmax to the desired number of superobs\n",
      "└ @ DIVAnd /home/ctroupin/.julia/packages/DIVAnd/ZfEqh/src/DIVAnd_heatmap.jl:48\n"
     ]
    },
    {
     "name": "stdout",
     "output_type": "stream",
     "text": [
      "  0.770293 seconds (745.07 k allocations: 1.097 GiB, 1.12% gc time)\n"
     ]
    },
    {
     "name": "stderr",
     "output_type": "stream",
     "text": [
      "┌ Info: Working on Triceratium\n",
      "└ @ Main In[155]:3\n",
      "┌ Warning: Data array size (24001,) is larger then maximum 10000. Superobservations will be created. To avoid, increase nmax to the desired number of superobs\n",
      "└ @ DIVAnd /home/ctroupin/.julia/packages/DIVAnd/ZfEqh/src/DIVAnd_heatmap.jl:48\n"
     ]
    },
    {
     "name": "stdout",
     "output_type": "stream",
     "text": [
      "  0.863077 seconds (874.46 k allocations: 1.164 GiB, 2.16% gc time)\n",
      "  1.035698 seconds (223.62 k allocations: 1.648 GiB, 1.34% gc time)\n"
     ]
    },
    {
     "name": "stderr",
     "output_type": "stream",
     "text": [
      "┌ Warning: Data array size (21513,) is larger then maximum 10000. Superobservations will be created. To avoid, increase nmax to the desired number of superobs\n",
      "└ @ DIVAnd /home/ctroupin/.julia/packages/DIVAnd/ZfEqh/src/DIVAnd_heatmap.jl:48\n"
     ]
    },
    {
     "name": "stdout",
     "output_type": "stream",
     "text": [
      "  0.799542 seconds (793.52 k allocations: 1.117 GiB, 1.88% gc time)\n"
     ]
    },
    {
     "name": "stderr",
     "output_type": "stream",
     "text": [
      "┌ Info: Working on Trieres regia\n",
      "└ @ Main In[155]:3\n"
     ]
    },
    {
     "name": "stdout",
     "output_type": "stream",
     "text": [
      "  0.791121 seconds (162.88 k allocations: 1.211 GiB, 2.45% gc time)\n",
      "  0.409177 seconds (79.42 k allocations: 616.223 MiB, 1.50% gc time)\n",
      "  0.445385 seconds (85.62 k allocations: 659.574 MiB, 2.76% gc time)\n"
     ]
    },
    {
     "name": "stderr",
     "output_type": "stream",
     "text": [
      "┌ Info: Working on Trieres\n",
      "└ @ Main In[155]:3\n"
     ]
    },
    {
     "name": "stdout",
     "output_type": "stream",
     "text": [
      "  1.213377 seconds (259.96 k allocations: 1.917 GiB, 1.54% gc time)\n",
      "  0.420777 seconds (81.54 k allocations: 631.902 MiB, 1.58% gc time)\n",
      "  0.823597 seconds (177.67 k allocations: 1.321 GiB, 1.45% gc time)\n"
     ]
    },
    {
     "name": "stderr",
     "output_type": "stream",
     "text": [
      "┌ Info: Working on Tripodiscus\n",
      "└ @ Main In[155]:3\n"
     ]
    },
    {
     "name": "stdout",
     "output_type": "stream",
     "text": [
      "  4.005326 seconds (798.23 k allocations: 6.229 GiB, 1.64% gc time)\n",
      "  0.301622 seconds (53.81 k allocations: 426.849 MiB, 1.96% gc time)\n",
      "  3.687883 seconds (746.00 k allocations: 5.787 GiB, 1.47% gc time)\n"
     ]
    },
    {
     "name": "stderr",
     "output_type": "stream",
     "text": [
      "┌ Info: Working on Tripos furca\n",
      "└ @ Main In[155]:3\n",
      "┌ Warning: Data array size (22870,) is larger then maximum 10000. Superobservations will be created. To avoid, increase nmax to the desired number of superobs\n",
      "└ @ DIVAnd /home/ctroupin/.julia/packages/DIVAnd/ZfEqh/src/DIVAnd_heatmap.jl:48\n"
     ]
    },
    {
     "name": "stdout",
     "output_type": "stream",
     "text": [
      "  0.842101 seconds (837.71 k allocations: 1.142 GiB, 2.25% gc time)\n",
      "  1.167196 seconds (243.47 k allocations: 1.796 GiB, 1.73% gc time)\n"
     ]
    },
    {
     "name": "stderr",
     "output_type": "stream",
     "text": [
      "┌ Warning: Data array size (20159,) is larger then maximum 10000. Superobservations will be created. To avoid, increase nmax to the desired number of superobs\n",
      "└ @ DIVAnd /home/ctroupin/.julia/packages/DIVAnd/ZfEqh/src/DIVAnd_heatmap.jl:48\n"
     ]
    },
    {
     "name": "stdout",
     "output_type": "stream",
     "text": [
      "  0.748674 seconds (743.31 k allocations: 1.046 GiB, 1.12% gc time)\n"
     ]
    },
    {
     "name": "stderr",
     "output_type": "stream",
     "text": [
      "┌ Info: Working on Tripos lineatus\n",
      "└ @ Main In[155]:3\n",
      "┌ Warning: Data array size (22391,) is larger then maximum 10000. Superobservations will be created. To avoid, increase nmax to the desired number of superobs\n",
      "└ @ DIVAnd /home/ctroupin/.julia/packages/DIVAnd/ZfEqh/src/DIVAnd_heatmap.jl:48\n"
     ]
    },
    {
     "name": "stdout",
     "output_type": "stream",
     "text": [
      "  0.848783 seconds (823.25 k allocations: 1.141 GiB, 3.50% gc time)\n",
      "  0.593078 seconds (117.89 k allocations: 902.962 MiB, 2.11% gc time)\n"
     ]
    },
    {
     "name": "stderr",
     "output_type": "stream",
     "text": [
      "┌ Warning: Data array size (21075,) is larger then maximum 10000. Superobservations will be created. To avoid, increase nmax to the desired number of superobs\n",
      "└ @ DIVAnd /home/ctroupin/.julia/packages/DIVAnd/ZfEqh/src/DIVAnd_heatmap.jl:48\n"
     ]
    },
    {
     "name": "stdout",
     "output_type": "stream",
     "text": [
      "  0.792450 seconds (780.20 k allocations: 1.116 GiB, 1.91% gc time)\n"
     ]
    },
    {
     "name": "stderr",
     "output_type": "stream",
     "text": [
      "┌ Info: Working on Tripos longipes\n",
      "└ @ Main In[155]:3\n",
      "┌ Warning: Data array size (18014,) is larger then maximum 10000. Superobservations will be created. To avoid, increase nmax to the desired number of superobs\n",
      "└ @ DIVAnd /home/ctroupin/.julia/packages/DIVAnd/ZfEqh/src/DIVAnd_heatmap.jl:48\n"
     ]
    },
    {
     "name": "stdout",
     "output_type": "stream",
     "text": [
      "  0.870944 seconds (698.91 k allocations: 1.190 GiB, 2.24% gc time)\n",
      "  0.462308 seconds (83.12 k allocations: 643.938 MiB, 1.33% gc time)\n"
     ]
    },
    {
     "name": "stderr",
     "output_type": "stream",
     "text": [
      "┌ Warning: Data array size (17094,) is larger then maximum 10000. Superobservations will be created. To avoid, increase nmax to the desired number of superobs\n",
      "└ @ DIVAnd /home/ctroupin/.julia/packages/DIVAnd/ZfEqh/src/DIVAnd_heatmap.jl:48\n"
     ]
    },
    {
     "name": "stdout",
     "output_type": "stream",
     "text": [
      "  0.819460 seconds (669.14 k allocations: 1.175 GiB, 1.78% gc time)\n"
     ]
    },
    {
     "name": "stderr",
     "output_type": "stream",
     "text": [
      "┌ Info: Working on Tripos macroceros\n",
      "└ @ Main In[155]:3\n",
      "┌ Warning: Data array size (20919,) is larger then maximum 10000. Superobservations will be created. To avoid, increase nmax to the desired number of superobs\n",
      "└ @ DIVAnd /home/ctroupin/.julia/packages/DIVAnd/ZfEqh/src/DIVAnd_heatmap.jl:48\n"
     ]
    },
    {
     "name": "stdout",
     "output_type": "stream",
     "text": [
      "  0.868628 seconds (786.06 k allocations: 1.192 GiB, 2.16% gc time)\n",
      "  1.046557 seconds (213.03 k allocations: 1.570 GiB, 1.14% gc time)\n"
     ]
    },
    {
     "name": "stderr",
     "output_type": "stream",
     "text": [
      "┌ Warning: Data array size (18550,) is larger then maximum 10000. Superobservations will be created. To avoid, increase nmax to the desired number of superobs\n",
      "└ @ DIVAnd /home/ctroupin/.julia/packages/DIVAnd/ZfEqh/src/DIVAnd_heatmap.jl:48\n"
     ]
    },
    {
     "name": "stdout",
     "output_type": "stream",
     "text": [
      "  0.767114 seconds (700.86 k allocations: 1.088 GiB, 2.81% gc time)\n"
     ]
    },
    {
     "name": "stderr",
     "output_type": "stream",
     "text": [
      "┌ Info: Working on Tripos muelleri\n",
      "└ @ Main In[155]:3\n",
      "┌ Warning: Data array size (22433,) is larger then maximum 10000. Superobservations will be created. To avoid, increase nmax to the desired number of superobs\n",
      "└ @ DIVAnd /home/ctroupin/.julia/packages/DIVAnd/ZfEqh/src/DIVAnd_heatmap.jl:48\n"
     ]
    },
    {
     "name": "stdout",
     "output_type": "stream",
     "text": [
      "  0.844372 seconds (825.04 k allocations: 1.145 GiB, 2.23% gc time)\n",
      "  1.379453 seconds (285.78 k allocations: 2.112 GiB, 1.73% gc time)\n"
     ]
    },
    {
     "name": "stderr",
     "output_type": "stream",
     "text": [
      "┌ Warning: Data array size (19242,) is larger then maximum 10000. Superobservations will be created. To avoid, increase nmax to the desired number of superobs\n",
      "└ @ DIVAnd /home/ctroupin/.julia/packages/DIVAnd/ZfEqh/src/DIVAnd_heatmap.jl:48\n"
     ]
    },
    {
     "name": "stdout",
     "output_type": "stream",
     "text": [
      "  0.722253 seconds (711.92 k allocations: 1.017 GiB, 1.22% gc time)\n"
     ]
    },
    {
     "name": "stderr",
     "output_type": "stream",
     "text": [
      "┌ Info: Working on Tripos\n",
      "└ @ Main In[155]:3\n",
      "┌ Warning: Data array size (25192,) is larger then maximum 10000. Superobservations will be created. To avoid, increase nmax to the desired number of superobs\n",
      "└ @ DIVAnd /home/ctroupin/.julia/packages/DIVAnd/ZfEqh/src/DIVAnd_heatmap.jl:48\n"
     ]
    },
    {
     "name": "stdout",
     "output_type": "stream",
     "text": [
      "  0.865817 seconds (909.66 k allocations: 1.161 GiB, 3.40% gc time)\n",
      "  2.844621 seconds (579.83 k allocations: 4.415 GiB, 1.49% gc time)\n"
     ]
    },
    {
     "name": "stderr",
     "output_type": "stream",
     "text": [
      "┌ Warning: Data array size (18697,) is larger then maximum 10000. Superobservations will be created. To avoid, increase nmax to the desired number of superobs\n",
      "└ @ DIVAnd /home/ctroupin/.julia/packages/DIVAnd/ZfEqh/src/DIVAnd_heatmap.jl:48\n"
     ]
    },
    {
     "name": "stdout",
     "output_type": "stream",
     "text": [
      "  0.655292 seconds (681.41 k allocations: 934.090 MiB, 2.26% gc time)\n"
     ]
    },
    {
     "name": "stderr",
     "output_type": "stream",
     "text": [
      "┌ Info: Working on Vibrio paxillifer\n",
      "└ @ Main In[155]:3\n",
      "┌ Warning: Data array size (22629,) is larger then maximum 10000. Superobservations will be created. To avoid, increase nmax to the desired number of superobs\n",
      "└ @ DIVAnd /home/ctroupin/.julia/packages/DIVAnd/ZfEqh/src/DIVAnd_heatmap.jl:48\n"
     ]
    },
    {
     "name": "stdout",
     "output_type": "stream",
     "text": [
      "  0.844723 seconds (833.91 k allocations: 1.167 GiB, 2.30% gc time)\n",
      "  0.643969 seconds (129.37 k allocations: 989.349 MiB, 0.99% gc time)\n"
     ]
    },
    {
     "name": "stderr",
     "output_type": "stream",
     "text": [
      "┌ Warning: Data array size (21183,) is larger then maximum 10000. Superobservations will be created. To avoid, increase nmax to the desired number of superobs\n",
      "└ @ DIVAnd /home/ctroupin/.julia/packages/DIVAnd/ZfEqh/src/DIVAnd_heatmap.jl:48\n"
     ]
    },
    {
     "name": "stdout",
     "output_type": "stream",
     "text": [
      "  0.798771 seconds (783.53 k allocations: 1.116 GiB, 1.92% gc time)\n"
     ]
    },
    {
     "name": "stderr",
     "output_type": "stream",
     "text": [
      "┌ Info: Working on Vibrio\n",
      "└ @ Main In[155]:3\n",
      "┌ Warning: Data array size (24260,) is larger then maximum 10000. Superobservations will be created. To avoid, increase nmax to the desired number of superobs\n",
      "└ @ DIVAnd /home/ctroupin/.julia/packages/DIVAnd/ZfEqh/src/DIVAnd_heatmap.jl:48\n"
     ]
    },
    {
     "name": "stdout",
     "output_type": "stream",
     "text": [
      "  0.877777 seconds (885.04 k allocations: 1.185 GiB, 3.59% gc time)\n",
      "  0.640838 seconds (129.37 k allocations: 989.349 MiB, 2.10% gc time)\n"
     ]
    },
    {
     "name": "stderr",
     "output_type": "stream",
     "text": [
      "┌ Warning: Data array size (22814,) is larger then maximum 10000. Superobservations will be created. To avoid, increase nmax to the desired number of superobs\n",
      "└ @ DIVAnd /home/ctroupin/.julia/packages/DIVAnd/ZfEqh/src/DIVAnd_heatmap.jl:48\n"
     ]
    },
    {
     "name": "stdout",
     "output_type": "stream",
     "text": [
      "  0.814422 seconds (834.84 k allocations: 1.135 GiB, 2.00% gc time)\n"
     ]
    },
    {
     "name": "stderr",
     "output_type": "stream",
     "text": [
      "┌ Info: Working on Warnowia\n",
      "└ @ Main In[155]:3\n"
     ]
    },
    {
     "name": "stdout",
     "output_type": "stream",
     "text": [
      "  4.264857 seconds (874.38 k allocations: 6.884 GiB, 1.61% gc time)\n",
      "  0.456623 seconds (89.19 k allocations: 688.840 MiB, 1.37% gc time)\n",
      "  3.831767 seconds (786.37 k allocations: 6.130 GiB, 1.57% gc time)\n"
     ]
    },
    {
     "name": "stderr",
     "output_type": "stream",
     "text": [
      "┌ Info: Working on Zygoceros rhombus\n",
      "└ @ Main In[155]:3\n",
      "┌ Warning: Data array size (20970,) is larger then maximum 10000. Superobservations will be created. To avoid, increase nmax to the desired number of superobs\n",
      "└ @ DIVAnd /home/ctroupin/.julia/packages/DIVAnd/ZfEqh/src/DIVAnd_heatmap.jl:48\n"
     ]
    },
    {
     "name": "stdout",
     "output_type": "stream",
     "text": [
      "  0.901594 seconds (794.27 k allocations: 1.242 GiB, 2.07% gc time)\n",
      "  0.611988 seconds (125.80 k allocations: 962.646 MiB, 1.06% gc time)\n"
     ]
    },
    {
     "name": "stderr",
     "output_type": "stream",
     "text": [
      "┌ Warning: Data array size (19565,) is larger then maximum 10000. Superobservations will be created. To avoid, increase nmax to the desired number of superobs\n",
      "└ @ DIVAnd /home/ctroupin/.julia/packages/DIVAnd/ZfEqh/src/DIVAnd_heatmap.jl:48\n"
     ]
    },
    {
     "name": "stdout",
     "output_type": "stream",
     "text": [
      "  0.849676 seconds (746.97 k allocations: 1.204 GiB, 2.26% gc time)\n"
     ]
    },
    {
     "name": "stderr",
     "output_type": "stream",
     "text": [
      "┌ Info: Working on Zygoceros surirella\n",
      "└ @ Main In[155]:3\n"
     ]
    },
    {
     "name": "stdout",
     "output_type": "stream",
     "text": [
      "  3.945793 seconds (811.05 k allocations: 6.339 GiB, 1.62% gc time)\n",
      "  0.459463 seconds (90.69 k allocations: 699.954 MiB, 1.37% gc time)\n",
      "  3.412152 seconds (721.53 k allocations: 5.582 GiB, 1.78% gc time)\n"
     ]
    },
    {
     "name": "stderr",
     "output_type": "stream",
     "text": [
      "┌ Info: Working on Zygoceros\n",
      "└ @ Main In[155]:3\n",
      "┌ Warning: Data array size (23312,) is larger then maximum 10000. Superobservations will be created. To avoid, increase nmax to the desired number of superobs\n",
      "└ @ DIVAnd /home/ctroupin/.julia/packages/DIVAnd/ZfEqh/src/DIVAnd_heatmap.jl:48\n"
     ]
    },
    {
     "name": "stdout",
     "output_type": "stream",
     "text": [
      "  0.868755 seconds (855.64 k allocations: 1.177 GiB, 2.18% gc time)\n",
      "  1.052099 seconds (215.79 k allocations: 1.590 GiB, 1.85% gc time)\n"
     ]
    },
    {
     "name": "stderr",
     "output_type": "stream",
     "text": [
      "┌ Warning: Data array size (20912,) is larger then maximum 10000. Superobservations will be created. To avoid, increase nmax to the desired number of superobs\n",
      "└ @ DIVAnd /home/ctroupin/.julia/packages/DIVAnd/ZfEqh/src/DIVAnd_heatmap.jl:48\n"
     ]
    },
    {
     "name": "stdout",
     "output_type": "stream",
     "text": [
      "  0.802266 seconds (778.04 k allocations: 1.136 GiB, 1.16% gc time)\n"
     ]
    }
   ],
   "source": [
    "for datafile in datafilelist[41:end]\n",
    "    speciesname = get_species_name(datafile)\n",
    "    @info(\"Working on $(speciesname)\")\n",
    "        \n",
    "    # Data reading\n",
    "    dates, lons, lats, occurs = read_data_phyto(joinpath(datadir, datafile));\n",
    "    \n",
    "    # Conversion of coordinates\n",
    "    # We have to go from `EPSG:32361` to `WGS84`.         \n",
    "    lon, lat = transform_coords(lons, lats)\n",
    "    \n",
    "    # Plot presence/absence\n",
    "    if doplot\n",
    "        make_plot_presence_absence(lon, lat, joinpath(figdir, \"$(replace(speciesname, \" \" => \"_\"))_data_presence_absence.png\"))\n",
    "    end\n",
    "    \n",
    "    data_presence = occurs .== 1;\n",
    "    data_absence = .!(data_presence);\n",
    "    \n",
    "    # Compute heatmap\n",
    "    inflation = ones(length(lon));\n",
    "    @time dens1, LHM, LCV, LSCV = DIVAnd_heatmap(mask, (pm,pn), (xx, yy), \n",
    "        (lon, lat), inflation, 0.2);\n",
    "    @time dens2, LHM, LCV, LSCV = DIVAnd_heatmap(mask, (pm,pn), (xx, yy), \n",
    "        (lon[data_presence], lat[data_presence]), inflation[data_presence], 0.2);\n",
    "    @time dens3, LHM, LCV, LSCV = DIVAnd_heatmap(mask, (pm,pn), (xx, yy), \n",
    "        (lon[data_absence], lat[data_absence]), inflation[data_absence], 0.2);\n",
    "    \n",
    "    if doplot\n",
    "        \"\"\"\n",
    "        plot_heatmap(longrid, latgrid, dens1, lon[data_presence], lat[data_presence],\n",
    "            \"$(speciesname): heatmap with 'presence' data points\", joinpath(figdir, \"$(speciesname)_heatmap_presence.png\"))\n",
    "        plot_heatmap(longrid, latgrid, dens2, lon[data_absence], lat[data_absence],\n",
    "            \"$(speciesname): heatmap with 'absence' data points\", joinpath(figdir, \"$(speciesname)_heatmap_absence.png\"))\n",
    "        plot_heatmap(longrid, latgrid, dens3, lon, lat,\n",
    "            \"$(speciesname): heatmap with all data points\", joinpath(figdir, \"$(speciesname)_heatmap_all.png\"))\n",
    "        \"\"\"\n",
    "        plot_heatmap(longrid, latgrid, dens2 ./ (dens2.+dens3), lon, lat, occurs,\n",
    "            \"$(speciesname): normalised heatmap (presence/presence+absence)\", \n",
    "            joinpath(figdir, \"$(replace(speciesname, \" \" => \"_\"))_heatmap_relative.png\"))\n",
    "    end\n",
    "    \n",
    "    # Write in netCDF\n",
    "    create_nc_results(joinpath(outputdir, \"$(speciesname)_heatmap.nc\"), \n",
    "        longrid, latgrid, dens2 ./ (dens2 .+ dens3), speciesname);\n",
    " \n",
    "end"
   ]
  },
  {
   "cell_type": "code",
   "execution_count": null,
   "metadata": {},
   "outputs": [],
   "source": []
  }
 ],
 "metadata": {
  "@webio": {
   "lastCommId": null,
   "lastKernelId": null
  },
  "kernelspec": {
   "display_name": "Julia 1.4.1",
   "language": "julia",
   "name": "julia-1.4"
  },
  "language_info": {
   "file_extension": ".jl",
   "mimetype": "application/julia",
   "name": "julia",
   "version": "1.4.1"
  }
 },
 "nbformat": 4,
 "nbformat_minor": 2
}
