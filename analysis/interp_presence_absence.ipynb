{
 "cells": [
  {
   "cell_type": "code",
   "execution_count": 1,
   "metadata": {},
   "outputs": [
    {
     "data": {
      "text/plain": [
       "false"
      ]
     },
     "execution_count": 1,
     "metadata": {},
     "output_type": "execute_result"
    }
   ],
   "source": [
    "using DIVAnd\n",
    "using PyPlot\n",
    "using Proj4\n",
    "using DelimitedFiles\n",
    "using PyCall\n",
    "doplot = false"
   ]
  },
  {
   "cell_type": "markdown",
   "metadata": {},
   "source": [
    "## Packages for plotting"
   ]
  },
  {
   "cell_type": "code",
   "execution_count": 2,
   "metadata": {},
   "outputs": [],
   "source": [
    "if doplot\n",
    "    ccrs = pyimport(\"cartopy.crs\")\n",
    "    gridliner = pyimport(\"cartopy.mpl.gridliner\")\n",
    "    cfeature = pyimport(\"cartopy.feature\")\n",
    "    mticker = pyimport(\"matplotlib.ticker\")\n",
    "    myproj = ccrs.PlateCarree()\n",
    "    coast = cfeature.GSHHSFeature(scale=\"full\");\n",
    "    mpl = pyimport(\"matplotlib\");\n",
    "    cartopyticker = pyimport(\"cartopy.mpl.ticker\")\n",
    "    lon_formatter = cartopyticker.LongitudeFormatter()\n",
    "    lat_formatter = cartopyticker.LatitudeFormatter()\n",
    "end "
   ]
  },
  {
   "cell_type": "markdown",
   "metadata": {},
   "source": [
    "## Files and directories"
   ]
  },
  {
   "cell_type": "code",
   "execution_count": 3,
   "metadata": {},
   "outputs": [
    {
     "name": "stderr",
     "output_type": "stream",
     "text": [
      "┌ Info: File already downloaded\n",
      "└ @ Main In[3]:6\n"
     ]
    }
   ],
   "source": [
    "datadir = \"./data/\"\n",
    "figdir = \"./figures/\"\n",
    "datafile = joinpath(datadir, \"Biddulphia_sinensis1995-2020.csv\")\n",
    "isdir(datadir) ? \" \" : mkpath(datadir)\n",
    "isdir(figdir) ? \" \" : mkpath(figdir)\n",
    "isfile(datafile) ? @info(\"File already downloaded\") : download(\"https://dox.ulg.ac.be/index.php/s/VgLglubaTLetHzc/download\", datafile)"
   ]
  },
  {
   "cell_type": "markdown",
   "metadata": {},
   "source": [
    "## Data reading"
   ]
  },
  {
   "cell_type": "code",
   "execution_count": 4,
   "metadata": {},
   "outputs": [
    {
     "data": {
      "text/plain": [
       "read_data (generic function with 1 method)"
      ]
     },
     "execution_count": 4,
     "metadata": {},
     "output_type": "execute_result"
    }
   ],
   "source": [
    "function read_data(datafile::String)\n",
    "    data = readdlm(datafile, ',');\n",
    "    columntitles = data[1,:]\n",
    "    dates = data[2:end,6]\n",
    "    lons = data[2:end,7]\n",
    "    lats = data[2:end,8]\n",
    "    occurs = data[2:end,end-3];\n",
    "    \n",
    "    return dates, lons, lats, occurs\n",
    "end"
   ]
  },
  {
   "cell_type": "code",
   "execution_count": 5,
   "metadata": {},
   "outputs": [],
   "source": [
    "dates, lons, lats, occurs = read_data(datafile);"
   ]
  },
  {
   "cell_type": "code",
   "execution_count": 6,
   "metadata": {},
   "outputs": [],
   "source": [
    "if doplot\n",
    "    PyPlot.plot(lons, lats, \"ko\", markersize=0.2)\n",
    "    PyPlot.show()\n",
    "end"
   ]
  },
  {
   "cell_type": "markdown",
   "metadata": {},
   "source": [
    "## Conversion of coordinates\n",
    "We have to go from `EPSG:32361` to `WGS84`.     \n",
    "We define these two projections and apply the `transform` function."
   ]
  },
  {
   "cell_type": "code",
   "execution_count": 7,
   "metadata": {},
   "outputs": [
    {
     "data": {
      "text/plain": [
       "transform_coords (generic function with 1 method)"
      ]
     },
     "execution_count": 7,
     "metadata": {},
     "output_type": "execute_result"
    }
   ],
   "source": [
    "function transform_coords(lon::Array, lat::Array)\n",
    "    \n",
    "    # Setup projections\n",
    "    wgs84 = Projection(\"+proj=longlat +datum=WGS84 +no_defs\")\n",
    "    espgs32361 = Projection(\"+proj=utm +zone=31 +north +datum=WGS84 +units=m +no_defs\")\n",
    "    \n",
    "    # Allocate\n",
    "    npoints = length(lons)\n",
    "    lonp = Array{Float64, 1}(undef, npoints)\n",
    "    latp = Array{Float64, 1}(undef, npoints)\n",
    "    \n",
    "    # Loop\n",
    "    for i = 1:npoints\n",
    "        lonp[i], latp[i], e = transform(espgs32361, wgs84, [lon[i], lat[i], 0.])\n",
    "    end\n",
    "    \n",
    "    return lonp, latp\n",
    "end"
   ]
  },
  {
   "cell_type": "code",
   "execution_count": 8,
   "metadata": {},
   "outputs": [],
   "source": [
    "lon, lat = transform_coords(lons, lats);"
   ]
  },
  {
   "cell_type": "code",
   "execution_count": 9,
   "metadata": {},
   "outputs": [],
   "source": [
    "if doplot \n",
    "    function decorate_map(ax)\n",
    "        PyPlot.grid(linewidth=0.2)\n",
    "        ax.add_feature(coast, color=\".6\", \n",
    "                edgecolor=\"k\", zorder=5)\n",
    "\n",
    "        ax.set_xlim(-2., 9.)\n",
    "        ax.set_ylim(51., 56)\n",
    "        ax.set_xticks(-2:2.:9.)\n",
    "        ax.set_yticks(51.:1:56.)\n",
    "        ax.xaxis.set_major_formatter(lon_formatter)\n",
    "        ax.yaxis.set_major_formatter(lat_formatter)\n",
    "\n",
    "    end\n",
    "end"
   ]
  },
  {
   "cell_type": "code",
   "execution_count": 10,
   "metadata": {},
   "outputs": [],
   "source": [
    "if doplot\n",
    "    fig = PyPlot.figure()\n",
    "    ax = PyPlot.subplot(111, projection=myproj)\n",
    "\n",
    "    ax.plot(lon, lat, \"ko\", markersize=.2)\n",
    "    decorate_map(ax)\n",
    "\n",
    "    #PyPlot.savefig(joinpath(figdir, \"drifter_positions_qc_release.png\"), \n",
    "    #    dpi=300, bbox_inches=\"tight\")\n",
    "    PyPlot.show()\n",
    "    #PyPlot.close()\n",
    "end"
   ]
  },
  {
   "cell_type": "markdown",
   "metadata": {},
   "source": [
    "### Plot presence/absence"
   ]
  },
  {
   "cell_type": "code",
   "execution_count": 11,
   "metadata": {},
   "outputs": [],
   "source": [
    "data_presence = occurs .== 1;\n",
    "data_absence = .!(data_presence);"
   ]
  },
  {
   "cell_type": "code",
   "execution_count": 12,
   "metadata": {},
   "outputs": [],
   "source": [
    "if doplot\n",
    "    fig = PyPlot.figure(figsize=(8, 8))\n",
    "    ax = PyPlot.subplot(211, projection=myproj)\n",
    "    ax.plot(lon[data_presence], lat[data_presence], \"ko\", markersize=.2)\n",
    "    title(\"Presence\")\n",
    "    decorate_map(ax)\n",
    "\n",
    "    ax = PyPlot.subplot(212, projection=myproj)\n",
    "    ax.plot(lon[data_absence], lat[data_absence], \"ko\", markersize=.2)\n",
    "    title(\"Absence\")\n",
    "    decorate_map(ax)\n",
    "    PyPlot.savefig(joinpath(figdir, \"data_presence_absence.png\"), \n",
    "        dpi=300, bbox_inches=\"tight\")\n",
    "    #PyPlot.show()\n",
    "    PyPlot.close()\n",
    "end"
   ]
  },
  {
   "cell_type": "markdown",
   "metadata": {},
   "source": [
    "## Prepare mask\n",
    "### Interpolation grid\n"
   ]
  },
  {
   "cell_type": "code",
   "execution_count": 13,
   "metadata": {},
   "outputs": [
    {
     "data": {
      "text/plain": [
       "51.0:0.1:56.0"
      ]
     },
     "execution_count": 13,
     "metadata": {},
     "output_type": "execute_result"
    }
   ],
   "source": [
    "longrid = -2.:0.1:10.\n",
    "latgrid = 51.:0.1:56."
   ]
  },
  {
   "cell_type": "markdown",
   "metadata": {},
   "source": [
    "### Download file"
   ]
  },
  {
   "cell_type": "code",
   "execution_count": 14,
   "metadata": {},
   "outputs": [
    {
     "name": "stderr",
     "output_type": "stream",
     "text": [
      "┌ Info: Bathymetry file already downloaded\n",
      "└ @ Main In[14]:5\n"
     ]
    }
   ],
   "source": [
    "bathname = joinpath(datadir, \"gebco_30sec_4.nc\")\n",
    "if !isfile(bathname)\n",
    "    download(\"https://dox.ulg.ac.be/index.php/s/RSwm4HPHImdZoQP/download\", bathname)\n",
    "else\n",
    "    @info(\"Bathymetry file already downloaded\")\n",
    "end"
   ]
  },
  {
   "cell_type": "markdown",
   "metadata": {},
   "source": [
    "### Read bathymetry"
   ]
  },
  {
   "cell_type": "code",
   "execution_count": 15,
   "metadata": {},
   "outputs": [
    {
     "name": "stdout",
     "output_type": "stream",
     "text": [
      "size(b) = (121, 51)\n"
     ]
    },
    {
     "data": {
      "text/plain": [
       "(121, 51)"
      ]
     },
     "execution_count": 15,
     "metadata": {},
     "output_type": "execute_result"
    }
   ],
   "source": [
    "bx, by, b = load_bath(bathname, true, longrid, latgrid)\n",
    "@show size(b)"
   ]
  },
  {
   "cell_type": "code",
   "execution_count": 16,
   "metadata": {},
   "outputs": [],
   "source": [
    "if doplot\n",
    "    fig = PyPlot.figure()\n",
    "    ax = PyPlot.subplot(111, projection=myproj)\n",
    "    pcolor(bx,by,b', vmin=0.); \n",
    "    colorbar(orientation=\"horizontal\")\n",
    "    title(\"Depth\")\n",
    "    decorate_map(ax)\n",
    "end"
   ]
  },
  {
   "cell_type": "markdown",
   "metadata": {},
   "source": [
    "### Metrics"
   ]
  },
  {
   "cell_type": "code",
   "execution_count": 17,
   "metadata": {},
   "outputs": [],
   "source": [
    "mask, (pm, pn),(xi, yi) = DIVAnd.DIVAnd_rectdom(longrid, latgrid);\n",
    "xi, yi, mask = DIVAnd.load_mask(bathname, true, longrid, latgrid, 0.0);\n",
    "xx, yy = ndgrid(xi, yi);"
   ]
  },
  {
   "cell_type": "markdown",
   "metadata": {},
   "source": [
    "## Compute heatmap"
   ]
  },
  {
   "cell_type": "code",
   "execution_count": 18,
   "metadata": {},
   "outputs": [
    {
     "name": "stderr",
     "output_type": "stream",
     "text": [
      "┌ Warning: Data array size (25777,) is larger then maximum 10000. Superobservations will be created. To avoid, increase nmax to the desired number of superobs\n",
      "└ @ DIVAnd /home/ctroupin/.julia/packages/DIVAnd/ZfEqh/src/DIVAnd_heatmap.jl:48\n"
     ]
    },
    {
     "name": "stdout",
     "output_type": "stream",
     "text": [
      " 25.984495 seconds (58.70 M allocations: 3.937 GiB, 5.14% gc time)\n"
     ]
    },
    {
     "name": "stderr",
     "output_type": "stream",
     "text": [
      "┌ Warning: Data array size (25777,) is larger then maximum 10000. Superobservations will be created. To avoid, increase nmax to the desired number of superobs\n",
      "└ @ DIVAnd /home/ctroupin/.julia/packages/DIVAnd/ZfEqh/src/DIVAnd_heatmap.jl:48\n"
     ]
    },
    {
     "name": "stdout",
     "output_type": "stream",
     "text": [
      "  0.571302 seconds (302.56 k allocations: 727.649 MiB, 6.98% gc time)\n"
     ]
    },
    {
     "name": "stderr",
     "output_type": "stream",
     "text": [
      "┌ Warning: Data array size (25777,) is larger then maximum 10000. Superobservations will be created. To avoid, increase nmax to the desired number of superobs\n",
      "└ @ DIVAnd /home/ctroupin/.julia/packages/DIVAnd/ZfEqh/src/DIVAnd_heatmap.jl:48\n"
     ]
    },
    {
     "name": "stdout",
     "output_type": "stream",
     "text": [
      "  0.817564 seconds (698.73 k allocations: 1.012 GiB, 4.10% gc time)\n"
     ]
    }
   ],
   "source": [
    "inflation = ones(length(lon));\n",
    "@time dens1, LHM, LCV, LSCV = DIVAnd_heatmap(mask, (pm,pn), (xx, yy), \n",
    "    (lon, lat), inflation, 0.2);\n",
    "@time dens2, LHM, LCV, LSCV = DIVAnd_heatmap(mask, (pm,pn), (xx, yy), \n",
    "    (lon[data_presence], lat[data_presence]), inflation, 0.2);\n",
    "@time dens3, LHM, LCV, LSCV = DIVAnd_heatmap(mask, (pm,pn), (xx, yy), \n",
    "    (lon[data_absence], lat[data_absence]), inflation, 0.2);"
   ]
  },
  {
   "cell_type": "markdown",
   "metadata": {},
   "source": [
    "### Make plots"
   ]
  },
  {
   "cell_type": "code",
   "execution_count": 19,
   "metadata": {},
   "outputs": [],
   "source": [
    "if doplot\n",
    "    function plot_heatmap(lon, lat, dens, titletext, figname)\n",
    "        myproj = ccrs.PlateCarree()\n",
    "        fig = PyPlot.figure(figsize=(12,8))\n",
    "        ax = PyPlot.subplot(111, projection=myproj)\n",
    "        ax.plot(lon, lat, \"ko\", markersize=0.2)\n",
    "        pcm = ax.pcolormesh(xx, yy, dens, cmap=PyPlot.cm.hot_r)\n",
    "        colorbar(pcm, orientation=\"horizontal\", extend=\"max\")\n",
    "        decorate_map(ax)\n",
    "        title(titletext)\n",
    "        PyPlot.savefig(figname, dpi=300, bbox_inches=\"tight\")\n",
    "        PyPlot.close()\n",
    "    end\n",
    "end"
   ]
  },
  {
   "cell_type": "code",
   "execution_count": 20,
   "metadata": {},
   "outputs": [],
   "source": [
    "if doplot\n",
    "    plot_heatmap(lon[data_presence], lat[data_presence], dens2,\n",
    "        \"Heatmap with 'presence' data points\", joinpath(figdir, \"heatmap_presence.png\"))\n",
    "    plot_heatmap(lon[data_absence], lat[data_absence], dens3,\n",
    "        \"Heatmap with 'absence' data points\", joinpath(figdir, \"heatmap_absence.png\"))\n",
    "    plot_heatmap(lon, lat, dens1,\n",
    "        \"Heatmap with all data points\", joinpath(figdir, \"heatmap_all.png\"))\n",
    "    plot_heatmap(lon[data_presence], lat[data_presence], dens2 ./ (dens2.+dens3),\n",
    "    \"Relative heatmap (presence/presence+absence)\", joinpath(figdir, \"heatmap_relative.png\"))\n",
    "end"
   ]
  },
  {
   "cell_type": "code",
   "execution_count": null,
   "metadata": {},
   "outputs": [],
   "source": []
  },
  {
   "cell_type": "code",
   "execution_count": null,
   "metadata": {},
   "outputs": [],
   "source": []
  }
 ],
 "metadata": {
  "@webio": {
   "lastCommId": null,
   "lastKernelId": null
  },
  "kernelspec": {
   "display_name": "Julia 1.4.1",
   "language": "julia",
   "name": "julia-1.4"
  },
  "language_info": {
   "file_extension": ".jl",
   "mimetype": "application/julia",
   "name": "julia",
   "version": "1.4.1"
  }
 },
 "nbformat": 4,
 "nbformat_minor": 2
}
