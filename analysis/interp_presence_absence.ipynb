{
 "cells": [
  {
   "cell_type": "code",
   "execution_count": 78,
   "metadata": {},
   "outputs": [
    {
     "data": {
      "text/plain": [
       "true"
      ]
     },
     "execution_count": 78,
     "metadata": {},
     "output_type": "execute_result"
    }
   ],
   "source": [
    "using DIVAnd\n",
    "using PyPlot\n",
    "using Proj4\n",
    "using DelimitedFiles\n",
    "using PyCall\n",
    "using Dates\n",
    "using NCDatasets\n",
    "include(\"../scripts/PhytoInterp.jl\")\n",
    "doplot = true"
   ]
  },
  {
   "cell_type": "markdown",
   "metadata": {},
   "source": [
    "## Packages for plotting"
   ]
  },
  {
   "cell_type": "code",
   "execution_count": 79,
   "metadata": {},
   "outputs": [
    {
     "data": {
      "text/plain": [
       "PyObject <cartopy.mpl.ticker.LatitudeFormatter object at 0x7fe291d272d0>"
      ]
     },
     "execution_count": 79,
     "metadata": {},
     "output_type": "execute_result"
    }
   ],
   "source": [
    "if doplot\n",
    "    ccrs = pyimport(\"cartopy.crs\")\n",
    "    gridliner = pyimport(\"cartopy.mpl.gridliner\")\n",
    "    cfeature = pyimport(\"cartopy.feature\")\n",
    "    mticker = pyimport(\"matplotlib.ticker\")\n",
    "    myproj = ccrs.PlateCarree()\n",
    "    coast = cfeature.GSHHSFeature(scale=\"full\");\n",
    "    mpl = pyimport(\"matplotlib\");\n",
    "    cartopyticker = pyimport(\"cartopy.mpl.ticker\")\n",
    "    lon_formatter = cartopyticker.LongitudeFormatter()\n",
    "    lat_formatter = cartopyticker.LatitudeFormatter()\n",
    "end "
   ]
  },
  {
   "cell_type": "markdown",
   "metadata": {},
   "source": [
    "## Files and directories"
   ]
  },
  {
   "cell_type": "code",
   "execution_count": 83,
   "metadata": {},
   "outputs": [
    {
     "name": "stderr",
     "output_type": "stream",
     "text": [
      "┌ Info: Working on 200 files\n",
      "└ @ Main In[83]:3\n"
     ]
    },
    {
     "data": {
      "text/plain": [
       "\" \""
      ]
     },
     "execution_count": 83,
     "metadata": {},
     "output_type": "execute_result"
    }
   ],
   "source": [
    "datadir = \"/data/EMODnet/Biology/phytoplankton/csv/\"\n",
    "datafilelist = readdir(datadir);\n",
    "@info(\"Working on $(length(datafilelist)) files\");\n",
    "figdir = \"./figures/\"\n",
    "outputdir = \"../product/\"\n",
    "#datafile = joinpath(datadir, \"Biddulphia_sinensis1995-2020.csv\")\n",
    "speciesname = \"Biddulphia_sinensis\"\n",
    "isdir(datadir) ? \" \" : mkpath(datadir)\n",
    "isdir(figdir) ? \" \" : mkpath(figdir)\n",
    "#isfile(datafile) ? @info(\"File already downloaded\") : download(\"https://dox.ulg.ac.be/index.php/s/VgLglubaTLetHzc/download\", datafile)"
   ]
  },
  {
   "cell_type": "markdown",
   "metadata": {},
   "source": [
    "## Prepare mask\n",
    "### Interpolation grid"
   ]
  },
  {
   "cell_type": "code",
   "execution_count": 84,
   "metadata": {},
   "outputs": [
    {
     "data": {
      "text/plain": [
       "51.0:0.1:56.0"
      ]
     },
     "execution_count": 84,
     "metadata": {},
     "output_type": "execute_result"
    }
   ],
   "source": [
    "longrid = -2.:0.1:10.\n",
    "latgrid = 51.:0.1:56."
   ]
  },
  {
   "cell_type": "markdown",
   "metadata": {},
   "source": [
    "### Download file"
   ]
  },
  {
   "cell_type": "code",
   "execution_count": 85,
   "metadata": {},
   "outputs": [
    {
     "data": {
      "text/plain": [
       "\"/data/EMODnet/Biology/phytoplankton/csv/gebco_30sec_4.nc\""
      ]
     },
     "execution_count": 85,
     "metadata": {},
     "output_type": "execute_result"
    }
   ],
   "source": [
    "bathname = joinpath(datadir, \"gebco_30sec_4.nc\")\n",
    "if !isfile(bathname)\n",
    "    download(\"https://dox.ulg.ac.be/index.php/s/RSwm4HPHImdZoQP/download\", bathname)\n",
    "else\n",
    "    @info(\"Bathymetry file already downloaded\")\n",
    "end"
   ]
  },
  {
   "cell_type": "markdown",
   "metadata": {},
   "source": [
    "### Read bathymetry"
   ]
  },
  {
   "cell_type": "code",
   "execution_count": null,
   "metadata": {},
   "outputs": [],
   "source": [
    "bx, by, b = load_bath(bathname, true, longrid, latgrid)\n",
    "@show size(b)\n",
    "\n",
    "if doplot\n",
    "    fig = PyPlot.figure()\n",
    "    ax = PyPlot.subplot(111, projection=myproj)\n",
    "    pcolor(bx,by,b', vmin=0.); \n",
    "    colorbar(orientation=\"horizontal\")\n",
    "    title(\"Depth\")\n",
    "    decorate_map(ax)\n",
    "    PyPlot.savefig(joinpath(figdir, \"northsea_bathymetry.png\"), \n",
    "        dpi=300, bbox_inches=\"tight\")\n",
    "    #PyPlot.show()\n",
    "    PyPlot.close()\n",
    "end"
   ]
  },
  {
   "cell_type": "markdown",
   "metadata": {},
   "source": [
    "### Metrics"
   ]
  },
  {
   "cell_type": "code",
   "execution_count": 86,
   "metadata": {},
   "outputs": [],
   "source": [
    "mask, (pm, pn),(xi, yi) = DIVAnd.DIVAnd_rectdom(longrid, latgrid);\n",
    "xi, yi, mask = DIVAnd.load_mask(bathname, true, longrid, latgrid, 0.0);\n",
    "xx, yy = ndgrid(xi, yi);"
   ]
  },
  {
   "cell_type": "markdown",
   "metadata": {},
   "source": [
    "## Main loop"
   ]
  },
  {
   "cell_type": "code",
   "execution_count": 95,
   "metadata": {},
   "outputs": [
    {
     "data": {
      "text/plain": [
       "plot_heatmap (generic function with 2 methods)"
      ]
     },
     "execution_count": 95,
     "metadata": {},
     "output_type": "execute_result"
    }
   ],
   "source": [
    "include(\"../scripts/PhytoInterp.jl\")"
   ]
  },
  {
   "cell_type": "code",
   "execution_count": null,
   "metadata": {},
   "outputs": [],
   "source": [
    "for datafile in datafilelist[1:20]\n",
    "    speciesname = get_species_name(datafile)\n",
    "    @debug(\"Working on $(speciesname)\")\n",
    "    \n",
    "    # Data reading\n",
    "    dates, lons, lats, occurs = read_data_phyto(joinpath(datadir, datafile));\n",
    "    \n",
    "    # Conversion of coordinates\n",
    "    # We have to go from `EPSG:32361` to `WGS84`.         \n",
    "    lon, lat = transform_coords(lons, lats)\n",
    "    \n",
    "    # Plot presence/absence\n",
    "    if doplot\n",
    "        make_plot_presence_absence(lon, lat, joinpath(figdir, \"$(speciesname)_data_presence_absence.png\"))\n",
    "    end\n",
    "    \n",
    "    data_presence = occurs .== 1;\n",
    "    data_absence = .!(data_presence);\n",
    "    \n",
    "    # Compute heatmap\n",
    "    inflation = ones(length(lon));\n",
    "    @time dens1, LHM, LCV, LSCV = DIVAnd_heatmap(mask, (pm,pn), (xx, yy), \n",
    "        (lon, lat), inflation, 0.2);\n",
    "    @time dens2, LHM, LCV, LSCV = DIVAnd_heatmap(mask, (pm,pn), (xx, yy), \n",
    "        (lon[data_presence], lat[data_presence]), inflation, 0.2);\n",
    "    @time dens3, LHM, LCV, LSCV = DIVAnd_heatmap(mask, (pm,pn), (xx, yy), \n",
    "        (lon[data_absence], lat[data_absence]), inflation, 0.2);\n",
    "    \n",
    "    if doplot\n",
    "        \"\"\"\n",
    "        plot_heatmap(longrid, latgrid, dens1, lon[data_presence], lat[data_presence],\n",
    "            \"$(speciesname): heatmap with 'presence' data points\", joinpath(figdir, \"$(speciesname)_heatmap_presence.png\"))\n",
    "        plot_heatmap(longrid, latgrid, dens2, lon[data_absence], lat[data_absence],\n",
    "            \"$(speciesname): heatmap with 'absence' data points\", joinpath(figdir, \"$(speciesname)_heatmap_absence.png\"))\n",
    "        plot_heatmap(longrid, latgrid, dens3, lon, lat,\n",
    "            \"$(speciesname): heatmap with all data points\", joinpath(figdir, \"$(speciesname)_heatmap_all.png\"))\n",
    "        \"\"\"\n",
    "        plot_heatmap(longrid, latgrid, dens2 ./ (dens2.+dens3), lon[data_presence], lat[data_presence],\n",
    "        \"$(speciesname): normalised heatmap (presence/presence+absence)\", joinpath(figdir, \"$(speciesname)_heatmap_relative.png\"))\n",
    "    end\n",
    "    \n",
    "    # Write in netCDF\n",
    "    create_nc_results(joinpath(outputdir, \"$(speciesname)_heatmap.nc\"), \n",
    "        longrid, latgrid, dens2 ./ (dens2 .+ dens3), speciesname);\n",
    " \n",
    "end"
   ]
  },
  {
   "cell_type": "code",
   "execution_count": 52,
   "metadata": {},
   "outputs": [],
   "source": []
  },
  {
   "cell_type": "code",
   "execution_count": 64,
   "metadata": {},
   "outputs": [],
   "source": []
  }
 ],
 "metadata": {
  "@webio": {
   "lastCommId": null,
   "lastKernelId": null
  },
  "kernelspec": {
   "display_name": "Julia 1.4.1",
   "language": "julia",
   "name": "julia-1.4"
  },
  "language_info": {
   "file_extension": ".jl",
   "mimetype": "application/julia",
   "name": "julia",
   "version": "1.4.1"
  }
 },
 "nbformat": 4,
 "nbformat_minor": 2
}
