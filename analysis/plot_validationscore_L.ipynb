{
 "cells": [
  {
   "cell_type": "code",
   "execution_count": 40,
   "metadata": {},
   "outputs": [
    {
     "data": {
      "text/plain": [
       "true"
      ]
     },
     "execution_count": 40,
     "metadata": {},
     "output_type": "execute_result"
    }
   ],
   "source": [
    "using PyPlot\n",
    "using DelimitedFiles\n",
    "using NCDatasets\n",
    "using LaTeXStrings\n",
    "include(\"../scripts/PhytoInterp.jl\")\n",
    "include(\"../scripts/validate_probability.jl\")\n",
    "doplot = true"
   ]
  },
  {
   "cell_type": "code",
   "execution_count": 57,
   "metadata": {},
   "outputs": [
    {
     "data": {
      "text/plain": [
       "\"../product/sensitivity-summary.csv\""
      ]
     },
     "execution_count": 57,
     "metadata": {},
     "output_type": "execute_result"
    }
   ],
   "source": [
    "figdir = \"./figures/validation/combined/\"\n",
    "isdir(figdir) ? \" \" : mkdir(figdir);\n",
    "validfile1 = \"../product/validation_scores.dat\"\n",
    "validfile2 = \"../product/validation_scores_weighted.dat\"\n",
    "validfile3 = \"../product/sensitivity-summary.csv\""
   ]
  },
  {
   "cell_type": "code",
   "execution_count": 67,
   "metadata": {},
   "outputs": [],
   "source": [
    "datavalid1 = readdlm(validfile1, '\\t', '\\n');\n",
    "datavalid2 = readdlm(validfile2, '\\t', '\\n');\n",
    "datavalid3 = readdlm(validfile3, ',', '\\n');\n",
    "specieslist1 = datavalid1[2:end,1];\n",
    "specieslist2 = datavalid2[2:end,1];\n",
    "specieslist3 = datavalid3[2:end,1];\n",
    "Llist1 = datavalid1[1,2:end];\n",
    "Llist2 = datavalid2[1,2:end];"
   ]
  },
  {
   "cell_type": "code",
   "execution_count": 71,
   "metadata": {},
   "outputs": [],
   "source": [
    "for i in 1:length(specieslist1)\n",
    "    validscore1 = datavalid1[1+i,2:end]\n",
    "    validscore2 = datavalid2[1+i,2:end]\n",
    "    validscore3 = minimum(datavalid3[1+i,2:end])\n",
    "    \n",
    "    # Make the figure\n",
    "    figname = joinpath(figdir, get_species_slug(String(specieslist1[i])))\n",
    "    \n",
    "    fig = figure(figsize=(10, 8))\n",
    "    plot(Llist1, validscore1, \"ko--\", label=L\"\\frac{h(pre)}{h(pre) + h(abs)}\")\n",
    "    plot(Llist2, validscore2, \"ko-\", label=L\"\\frac{n_{pre} \\, h(pre)}{n_{pre} \\, h(pre) + n_{abs} \\, h(abs)}\")\n",
    "    hlines(y=validscore3, xmin = 0., xmax = 5., linestyle=\":\", label=\"best neural network reconstruction\") \n",
    "    legend(loc=2)\n",
    "    xlabel(\"Correlation length (°)\")\n",
    "    ylabel(\"Validation\\nscore\", rotation=0, ha=\"right\")\n",
    "    \n",
    "    savefig(figname, dpi=300, bbox_inches=\"tight\")\n",
    "    #show()\n",
    "    close()\n",
    "end"
   ]
  },
  {
   "cell_type": "code",
   "execution_count": null,
   "metadata": {},
   "outputs": [],
   "source": []
  }
 ],
 "metadata": {
  "kernelspec": {
   "display_name": "Julia 1.4.1",
   "language": "julia",
   "name": "julia-1.4"
  },
  "language_info": {
   "file_extension": ".jl",
   "mimetype": "application/julia",
   "name": "julia",
   "version": "1.4.1"
  }
 },
 "nbformat": 4,
 "nbformat_minor": 2
}
